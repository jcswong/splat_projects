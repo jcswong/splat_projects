{
 "cells": [
  {
   "cell_type": "code",
   "execution_count": 12,
   "id": "3cbe874c-78e6-4d5b-ae4f-186005a79526",
   "metadata": {},
   "outputs": [],
   "source": [
    "import splat\n",
    "import numpy as np\n",
    "import pandas\n",
    "import matplotlib.pyplot as plt\n",
    "from astropy.io import fits\n",
    "import os"
   ]
  },
  {
   "cell_type": "code",
   "execution_count": 13,
   "id": "1c84660d-31e0-47f0-8021-9197d79c6b5a",
   "metadata": {},
   "outputs": [],
   "source": [
    "import astropy.units as u"
   ]
  },
  {
   "cell_type": "code",
   "execution_count": 2,
   "id": "34d1e108-3cb7-4717-9b50-6394b17c0eae",
   "metadata": {},
   "outputs": [],
   "source": [
    "import splat.plot"
   ]
  },
  {
   "cell_type": "code",
   "execution_count": 3,
   "id": "ef7bfb66-0e00-4616-9212-07ea10cbce2f",
   "metadata": {},
   "outputs": [
    {
     "data": {
      "text/plain": [
       "\u001b[1;31mSignature:\u001b[0m \u001b[0msplat\u001b[0m\u001b[1;33m.\u001b[0m\u001b[0mgetSpectrum\u001b[0m\u001b[1;33m(\u001b[0m\u001b[0mgetList\u001b[0m\u001b[1;33m=\u001b[0m\u001b[1;32mFalse\u001b[0m\u001b[1;33m,\u001b[0m \u001b[0mlimit\u001b[0m\u001b[1;33m=\u001b[0m\u001b[1;36m0\u001b[0m\u001b[1;33m,\u001b[0m \u001b[1;33m*\u001b[0m\u001b[0margs\u001b[0m\u001b[1;33m,\u001b[0m \u001b[1;33m**\u001b[0m\u001b[0mkwargs\u001b[0m\u001b[1;33m)\u001b[0m\u001b[1;33m\u001b[0m\u001b[1;33m\u001b[0m\u001b[0m\n",
       "\u001b[1;31mDocstring:\u001b[0m\n",
       ":Purpose: \n",
       "\n",
       "    Gets a spectrum from the SPLAT library using various selection criteria. Calls searchLibrary_ to select spectra; if any found it routines an array of Spectrum objects, otherwise an empty array. \n",
       "\n",
       ".. _searchLibrary : api.html#splat.core.searchLibrary\n",
       "\n",
       ":Output: \n",
       "\n",
       "    An array of Spectrum objects that satisfy the search criteria\n",
       "\n",
       ":Example:\n",
       ">>> import splat\n",
       ">>> sp = splat.getSpectrum(shortname='1507-1627')[0]\n",
       "    Retrieving 1 file\n",
       ">>> sparr = splat.getSpectrum(spt='M7')\n",
       "    Retrieving 120 files\n",
       ">>> sparr = splat.getSpectrum(spt='T5',young=True)\n",
       "    No files match search criteria\n",
       "\u001b[1;31mFile:\u001b[0m      d:\\pythoncodes\\splat\\splat\\core.py\n",
       "\u001b[1;31mType:\u001b[0m      function\n"
      ]
     },
     "metadata": {},
     "output_type": "display_data"
    }
   ],
   "source": [
    "splat.getSpectrum?"
   ]
  },
  {
   "cell_type": "code",
   "execution_count": 4,
   "id": "d08874ac-1039-4f88-b869-dcc47c637185",
   "metadata": {},
   "outputs": [
    {
     "data": {
      "text/plain": [
       "'2021.08.02'"
      ]
     },
     "execution_count": 4,
     "metadata": {},
     "output_type": "execute_result"
    }
   ],
   "source": [
    "splat.VERSION"
   ]
  },
  {
   "cell_type": "code",
   "execution_count": 5,
   "id": "e94d3ae4-1119-4abd-be12-79b9f8f2c81f",
   "metadata": {},
   "outputs": [
    {
     "name": "stdout",
     "output_type": "stream",
     "text": [
      "\n",
      "Retrieving 1 file\n",
      "\n"
     ]
    }
   ],
   "source": [
    "splist = splat.getSpectrum(shortname ='0415-0935')"
   ]
  },
  {
   "cell_type": "code",
   "execution_count": 6,
   "id": "9a960289-d2d7-4781-9415-cb37fdb09754",
   "metadata": {},
   "outputs": [
    {
     "name": "stdout",
     "output_type": "stream",
     "text": [
      "\n",
      "Retrieving 1 lucky file\n",
      "\n"
     ]
    }
   ],
   "source": [
    "splist3 = splat.getSpectrum(lucky=True)"
   ]
  },
  {
   "cell_type": "code",
   "execution_count": 7,
   "id": "40fb2bab-f64a-4cd5-acf8-7000e644fac5",
   "metadata": {},
   "outputs": [
    {
     "name": "stdout",
     "output_type": "stream",
     "text": [
      "\n",
      "Retrieving 824 files\n",
      "\n"
     ]
    }
   ],
   "source": [
    "splist2 = splat.getSpectrum(spt=['M7','L5'],jmag=[14.,99.])"
   ]
  },
  {
   "cell_type": "code",
   "execution_count": 10,
   "id": "51374b11-8484-4546-a6de-dceef16f57ba",
   "metadata": {},
   "outputs": [],
   "source": [
    "sp = splist2[0]"
   ]
  },
  {
   "cell_type": "code",
   "execution_count": 11,
   "id": "7617e068-7021-4866-b8b3-2141a98629f0",
   "metadata": {},
   "outputs": [
    {
     "data": {
      "text/latex": [
       "$[0.659338,~0.66151702,~0.66368902,~\\dots,~2.5564201,~2.5593801,~2.56236] \\; \\mathrm{\\mu m}$"
      ],
      "text/plain": [
       "<Quantity [0.659338, 0.661517, 0.663689, 0.665855, 0.668016, 0.670172,\n",
       "           0.672325, 0.674475, 0.676623, 0.67877 , 0.680917, 0.683064,\n",
       "           0.685212, 0.687363, 0.689516, 0.691672, 0.693833, 0.695998,\n",
       "           0.698168, 0.700344, 0.702527, 0.704717, 0.706915, 0.709121,\n",
       "           0.711335, 0.713559, 0.715793, 0.718037, 0.720292, 0.722558,\n",
       "           0.724836, 0.727125, 0.729428, 0.731743, 0.734071, 0.736414,\n",
       "           0.73877 , 0.741141, 0.743526, 0.745926, 0.748342, 0.750774,\n",
       "           0.753221, 0.755685, 0.758165, 0.760662, 0.763176, 0.765707,\n",
       "           0.768255, 0.770821, 0.773405, 0.776007, 0.778627, 0.781266,\n",
       "           0.783922, 0.786598, 0.789292, 0.792005, 0.794737, 0.797489,\n",
       "           0.800259, 0.803049, 0.805858, 0.808687, 0.811535, 0.814402,\n",
       "           0.817289, 0.820196, 0.823123, 0.826069, 0.829035, 0.83202 ,\n",
       "           0.835026, 0.838051, 0.841096, 0.84416 , 0.847244, 0.850348,\n",
       "           0.853471, 0.856614, 0.859776, 0.862958, 0.866159, 0.869379,\n",
       "           0.872619, 0.875878, 0.879155, 0.882452, 0.885768, 0.889102,\n",
       "           0.892455, 0.895827, 0.899217, 0.902625, 0.906052, 0.909497,\n",
       "           0.91296 , 0.91644 , 0.919938, 0.923454, 0.926987, 0.930538,\n",
       "           0.934105, 0.93769 , 0.941291, 0.944909, 0.948543, 0.952194,\n",
       "           0.955861, 0.959544, 0.963242, 0.966956, 0.970686, 0.974431,\n",
       "           0.978191, 0.981966, 0.985755, 0.98956 , 0.993378, 0.99721 ,\n",
       "           1.00106 , 1.00492 , 1.00879 , 1.01268 , 1.01658 , 1.02049 ,\n",
       "           1.02442 , 1.02836 , 1.03231 , 1.03627 , 1.04024 , 1.04423 ,\n",
       "           1.04823 , 1.05224 , 1.05626 , 1.06029 , 1.06433 , 1.06839 ,\n",
       "           1.07245 , 1.07652 , 1.0806  , 1.0847  , 1.0888  , 1.09291 ,\n",
       "           1.09703 , 1.10116 , 1.10529 , 1.10944 , 1.11359 , 1.11776 ,\n",
       "           1.12193 , 1.1261  , 1.13029 , 1.13448 , 1.13868 , 1.14288 ,\n",
       "           1.14709 , 1.15131 , 1.15554 , 1.15977 , 1.164   , 1.16824 ,\n",
       "           1.17249 , 1.17674 , 1.181   , 1.18526 , 1.18952 , 1.19379 ,\n",
       "           1.19807 , 1.20234 , 1.20663 , 1.21091 , 1.2152  , 1.21949 ,\n",
       "           1.22379 , 1.22808 , 1.23238 , 1.23668 , 1.24099 , 1.2453  ,\n",
       "           1.2496  , 1.25392 , 1.25823 , 1.26254 , 1.26685 , 1.27117 ,\n",
       "           1.27549 , 1.2798  , 1.28412 , 1.28844 , 1.29276 , 1.29707 ,\n",
       "           1.30139 , 1.30571 , 1.31003 , 1.31434 , 1.31866 , 1.32298 ,\n",
       "           1.32729 , 1.3316  , 1.33591 , 1.34022 , 1.34453 , 1.34884 ,\n",
       "           1.35315 , 1.35745 , 1.36175 , 1.36605 , 1.37034 , 1.37464 ,\n",
       "           1.37893 , 1.38322 , 1.3875  , 1.39179 , 1.39607 , 1.40034 ,\n",
       "           1.40462 , 1.40889 , 1.41315 , 1.41742 , 1.42167 , 1.42593 ,\n",
       "           1.43018 , 1.43443 , 1.43867 , 1.44291 , 1.44714 , 1.45138 ,\n",
       "           1.4556  , 1.45982 , 1.46404 , 1.46825 , 1.47246 , 1.47666 ,\n",
       "           1.48086 , 1.48505 , 1.48924 , 1.49342 , 1.49759 , 1.50177 ,\n",
       "           1.50593 , 1.51009 , 1.51425 , 1.5184  , 1.52254 , 1.52668 ,\n",
       "           1.53081 , 1.53494 , 1.53906 , 1.54317 , 1.54728 , 1.55139 ,\n",
       "           1.55548 , 1.55957 , 1.56366 , 1.56774 , 1.57181 , 1.57588 ,\n",
       "           1.57994 , 1.58399 , 1.58804 , 1.59208 , 1.59612 , 1.60014 ,\n",
       "           1.60417 , 1.60818 , 1.61219 , 1.6162  , 1.62019 , 1.62418 ,\n",
       "           1.62817 , 1.63214 , 1.63612 , 1.64008 , 1.64404 , 1.64799 ,\n",
       "           1.65193 , 1.65587 , 1.6598  , 1.66373 , 1.66765 , 1.67156 ,\n",
       "           1.67546 , 1.67936 , 1.68325 , 1.68714 , 1.69102 , 1.69489 ,\n",
       "           1.69876 , 1.70262 , 1.70647 , 1.71031 , 1.71415 , 1.71799 ,\n",
       "           1.72181 , 1.72564 , 1.72945 , 1.73326 , 1.73706 , 1.74085 ,\n",
       "           1.74464 , 1.74842 , 1.7522  , 1.75597 , 1.75973 , 1.76349 ,\n",
       "           1.76724 , 1.77098 , 1.77472 , 1.77845 , 1.78218 , 1.78589 ,\n",
       "           1.78961 , 1.79331 , 1.79702 , 1.80071 , 1.8044  , 1.80808 ,\n",
       "           1.81176 , 1.81543 , 1.81909 , 1.82275 , 1.82641 , 1.83005 ,\n",
       "           1.8337  , 1.83733 , 1.84096 , 1.84459 , 1.8482  , 1.85182 ,\n",
       "           1.85542 , 1.85902 , 1.86262 , 1.86621 , 1.8698  , 1.87337 ,\n",
       "           1.87695 , 1.88052 , 1.88408 , 1.88764 , 1.89119 , 1.89474 ,\n",
       "           1.89828 , 1.90181 , 1.90534 , 1.90887 , 1.91239 , 1.9159  ,\n",
       "           1.91941 , 1.92292 , 1.92642 , 1.92991 , 1.9334  , 1.93689 ,\n",
       "           1.94037 , 1.94384 , 1.94731 , 1.95078 , 1.95424 , 1.95769 ,\n",
       "           1.96114 , 1.96458 , 1.96802 , 1.97146 , 1.97489 , 1.97832 ,\n",
       "           1.98174 , 1.98515 , 1.98856 , 1.99197 , 1.99537 , 1.99877 ,\n",
       "           2.00216 , 2.00555 , 2.00893 , 2.01231 , 2.01569 , 2.01906 ,\n",
       "           2.02242 , 2.02578 , 2.02914 , 2.03249 , 2.03584 , 2.03918 ,\n",
       "           2.04252 , 2.04585 , 2.04918 , 2.0525  , 2.05582 , 2.05913 ,\n",
       "           2.06244 , 2.06575 , 2.06905 , 2.07235 , 2.07564 , 2.07893 ,\n",
       "           2.08221 , 2.08549 , 2.08876 , 2.09203 , 2.0953  , 2.09856 ,\n",
       "           2.10182 , 2.10507 , 2.10831 , 2.11156 , 2.11479 , 2.11803 ,\n",
       "           2.12126 , 2.12448 , 2.1277  , 2.13092 , 2.13413 , 2.13733 ,\n",
       "           2.14053 , 2.14373 , 2.14692 , 2.15011 , 2.15329 , 2.15647 ,\n",
       "           2.15964 , 2.16281 , 2.16597 , 2.16913 , 2.17229 , 2.17543 ,\n",
       "           2.17858 , 2.18172 , 2.18485 , 2.18798 , 2.19111 , 2.19423 ,\n",
       "           2.19734 , 2.20045 , 2.20356 , 2.20666 , 2.20976 , 2.21285 ,\n",
       "           2.21593 , 2.21901 , 2.22209 , 2.22516 , 2.22822 , 2.23129 ,\n",
       "           2.23434 , 2.23739 , 2.24044 , 2.24348 , 2.24651 , 2.24954 ,\n",
       "           2.25257 , 2.25559 , 2.2586  , 2.26161 , 2.26461 , 2.26761 ,\n",
       "           2.27061 , 2.27359 , 2.27658 , 2.27956 , 2.28253 , 2.2855  ,\n",
       "           2.28846 , 2.29142 , 2.29437 , 2.29732 , 2.30026 , 2.30319 ,\n",
       "           2.30613 , 2.30905 , 2.31197 , 2.31489 , 2.3178  , 2.32071 ,\n",
       "           2.32361 , 2.3265  , 2.32939 , 2.33228 , 2.33516 , 2.33804 ,\n",
       "           2.34091 , 2.34377 , 2.34664 , 2.34949 , 2.35234 , 2.35519 ,\n",
       "           2.35803 , 2.36087 , 2.36371 , 2.36654 , 2.36936 , 2.37218 ,\n",
       "           2.375   , 2.37781 , 2.38062 , 2.38342 , 2.38622 , 2.38902 ,\n",
       "           2.39181 , 2.3946  , 2.39738 , 2.40017 , 2.40295 , 2.40572 ,\n",
       "           2.40849 , 2.41126 , 2.41403 , 2.41679 , 2.41955 , 2.42231 ,\n",
       "           2.42507 , 2.42782 , 2.43058 , 2.43333 , 2.43608 , 2.43883 ,\n",
       "           2.44157 , 2.44432 , 2.44706 , 2.44981 , 2.45255 , 2.45529 ,\n",
       "           2.45804 , 2.46078 , 2.46353 , 2.46627 , 2.46902 , 2.47176 ,\n",
       "           2.47451 , 2.47726 , 2.48002 , 2.48277 , 2.48553 , 2.48829 ,\n",
       "           2.49106 , 2.49382 , 2.4966  , 2.49937 , 2.50215 , 2.50494 ,\n",
       "           2.50773 , 2.51053 , 2.51333 , 2.51614 , 2.51896 , 2.52178 ,\n",
       "           2.52461 , 2.52745 , 2.5303  , 2.53316 , 2.53603 , 2.53891 ,\n",
       "           2.54179 , 2.54469 , 2.54761 , 2.55053 , 2.55347 , 2.55642 ,\n",
       "           2.55938 , 2.56236 ] micron>"
      ]
     },
     "execution_count": 11,
     "metadata": {},
     "output_type": "execute_result"
    }
   ],
   "source": [
    "sp.wave"
   ]
  },
  {
   "cell_type": "code",
   "execution_count": 16,
   "id": "1081727d-6dd4-4d66-835f-35789a698267",
   "metadata": {},
   "outputs": [
    {
     "data": {
      "text/plain": [
       "[<matplotlib.lines.Line2D at 0x21b3d087fd0>]"
      ]
     },
     "execution_count": 16,
     "metadata": {},
     "output_type": "execute_result"
    },
    {
     "data": {
      "image/png": "[encoded data removed]",
      "text/plain": [
       "<Figure size 432x288 with 1 Axes>"
      ]
     },
     "metadata": {
      "needs_background": "light"
     },
     "output_type": "display_data"
    }
   ],
   "source": [
    "plt.plot(sp.wave, sp.flux,'-', color ='b' )"
   ]
  },
  {
   "cell_type": "code",
   "execution_count": 21,
   "id": "2c7cb5c9-0fac-473d-97f4-cd71771c7883",
   "metadata": {},
   "outputs": [
    {
     "name": "stdout",
     "output_type": "stream",
     "text": [
      "Warning: Creating an empty Spectrum object\n"
     ]
    }
   ],
   "source": [
    "sp1 = splat.Spectrum(sp)"
   ]
  },
  {
   "cell_type": "code",
   "execution_count": 24,
   "id": "c5144a07-605f-4398-8b20-4e974a6526b8",
   "metadata": {},
   "outputs": [
    {
     "ename": "AttributeError",
     "evalue": "'Spectrum' object has no attribute 'open'",
     "output_type": "error",
     "traceback": [
      "\u001b[1;31m---------------------------------------------------------------------------\u001b[0m",
      "\u001b[1;31mAttributeError\u001b[0m                            Traceback (most recent call last)",
      "\u001b[1;32m<ipython-input-24-121f4db1a94c>\u001b[0m in \u001b[0;36m<module>\u001b[1;34m\u001b[0m\n\u001b[1;32m----> 1\u001b[1;33m \u001b[0msp\u001b[0m\u001b[1;33m.\u001b[0m\u001b[0mopen\u001b[0m\u001b[1;33m\u001b[0m\u001b[1;33m\u001b[0m\u001b[0m\n\u001b[0m",
      "\u001b[1;31mAttributeError\u001b[0m: 'Spectrum' object has no attribute 'open'"
     ]
    }
   ],
   "source": []
  },
  {
   "cell_type": "code",
   "execution_count": 27,
   "id": "57be75f2-6afb-414e-84b6-f555c3781c61",
   "metadata": {},
   "outputs": [
    {
     "name": "stdout",
     "output_type": "stream",
     "text": [
      "\n",
      "SPEX-PRISM spectrum of 2MASS J00013044+1010146\n",
      "Airmass = nan\n",
      "Source designation = J00013044+1010146\n",
      "Median S/N = 59\n",
      "SpeX Classification = M6.0\n",
      "Spectrum key = 10144, Source key = 10004\n",
      "\n",
      "If you use these data, please cite:\n",
      "\tBurgasser, A. J. et al. (2004, Astronomical Journal, 127, 2856-2870)\n",
      "\tbibcode: 2004AJ....127.2856B\n",
      "\n",
      "History:\n",
      "\tSPEX-PRISM spectrum successfully loaded\n"
     ]
    }
   ],
   "source": [
    "sp.info()"
   ]
  },
  {
   "cell_type": "code",
   "execution_count": null,
   "id": "1d70a3c2-1615-4a56-8fe4-cf4416e5a832",
   "metadata": {},
   "outputs": [],
   "source": []
  }
 ],
 "metadata": {
  "kernelspec": {
   "display_name": "Python 3",
   "language": "python",
   "name": "python3"
  },
  "language_info": {
   "codemirror_mode": {
    "name": "ipython",
    "version": 3
   },
   "file_extension": ".py",
   "mimetype": "text/x-python",
   "name": "python",
   "nbconvert_exporter": "python",
   "pygments_lexer": "ipython3",
   "version": "3.8.8"
  }
 },
 "nbformat": 4,
 "nbformat_minor": 5
}
