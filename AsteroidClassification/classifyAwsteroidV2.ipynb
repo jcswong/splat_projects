{
 "cells": [
  {
   "cell_type": "markdown",
   "id": "0a40c963-49c3-4e2f-bd79-80ab5ff7aec6",
   "metadata": {},
   "source": [
    "## Cool Star Lab, UCSD   \n",
    "## Joman, 12 July, 2022  \n",
    "---"
   ]
  },
  {
   "cell_type": "code",
   "execution_count": 12,
   "id": "fb52103e-62fb-4a52-8639-072ea3fb7a6e",
   "metadata": {},
   "outputs": [
    {
     "data": {
      "text/plain": [
       "'D:\\\\PythonCodes\\\\JupyterWorkspace\\\\AsteroidClassification'"
      ]
     },
     "execution_count": 12,
     "metadata": {},
     "output_type": "execute_result"
    }
   ],
   "source": [
    "pwd"
   ]
  },
  {
   "cell_type": "markdown",
   "id": "24ad9776-54be-4ec1-ae57-3d57ee9c5471",
   "metadata": {},
   "source": [
    "### imports "
   ]
  },
  {
   "cell_type": "code",
   "execution_count": 98,
   "id": "13b07265-7727-40c4-9d47-c3277c5b2d1a",
   "metadata": {
    "tags": []
   },
   "outputs": [],
   "source": [
    "import splat as sp\n",
    "from splat.plot import plotSpectrum"
   ]
  },
  {
   "cell_type": "code",
   "execution_count": 224,
   "id": "3e43ba3c-abd0-4e8e-b3c5-640ecdaa08d5",
   "metadata": {},
   "outputs": [],
   "source": [
    "import numpy as np\n",
    "import pandas as pd\n",
    "import matplotlib.pyplot as plt\n",
    "import csv\n",
    "import os\n",
    "import os.path\n",
    "from scipy import stats as scipy\n",
    "import math\n",
    "\n",
    "from astroquery.simbad import Simbad\n",
    "from astroquery.vizier import Vizier\n",
    "from astroquery.xmatch import XMatch\n",
    "\n",
    "from astropy.io import fits\n",
    "from astropy.io import ascii # we'll use this to upload files\n",
    "import astropy.units as u # units\n",
    "from astropy.coordinates import SkyCoord # astropy coordinate object\n",
    "from astropy.table import Table"
   ]
  },
  {
   "cell_type": "markdown",
   "id": "321e330c-e7fa-4258-8112-33f551e40a4c",
   "metadata": {},
   "source": [
    "### Vars"
   ]
  },
  {
   "cell_type": "code",
   "execution_count": 130,
   "id": "d9e82276-0b2c-4c33-96cf-6ba779e5b218",
   "metadata": {},
   "outputs": [],
   "source": [
    "TEMPLATE_NAMES = {}\n",
    "TEMPLATE_SPECS = {}\n",
    "TEMPLATE_DICT = {}"
   ]
  },
  {
   "cell_type": "code",
   "execution_count": 121,
   "id": "640df079-5159-44c8-9d46-a8051cd86df8",
   "metadata": {
    "collapsed": true,
    "jupyter": {
     "outputs_hidden": true
    },
    "tags": []
   },
   "outputs": [
    {
     "data": {
      "text/plain": [
       "array(['Demeo_et_al_2009_A', 'Demeo_et_al_2009_B', 'Demeo_et_al_2009_C',\n",
       "       'Demeo_et_al_2009_Cb', 'Demeo_et_al_2009_Cg',\n",
       "       'Demeo_et_al_2009_Cgh', 'Demeo_et_al_2009_Ch',\n",
       "       'Demeo_et_al_2009_D', 'Demeo_et_al_2009_K', 'Demeo_et_al_2009_L',\n",
       "       'Demeo_et_al_2009_O', 'Demeo_et_al_2009_Q', 'Demeo_et_al_2009_R',\n",
       "       'Demeo_et_al_2009_S', 'Demeo_et_al_2009_Sa', 'Demeo_et_al_2009_Sq',\n",
       "       'Demeo_et_al_2009_Sr', 'Demeo_et_al_2009_Sv', 'Demeo_et_al_2009_T',\n",
       "       'Demeo_et_al_2009_V', 'Demeo_et_al_2009_X', 'Demeo_et_al_2009_Xc',\n",
       "       'Demeo_et_al_2009_Xe', 'Demeo_et_al_2009_Xk'], dtype='<U20')"
      ]
     },
     "execution_count": 121,
     "metadata": {},
     "output_type": "execute_result"
    }
   ],
   "source": [
    "template_dir = 'D:\\\\PythonCodes/JupyterWorkspace/Demeo_et_al_2009_Folder/fits'\n",
    "class_names = np.array(sorted(f.split('.fits')[:len(f.split('.'))-1][0] for f in os.listdir(template_dir) if f != '.ipynb_checkpoints'))\n",
    "class_names  # array of strings"
   ]
  },
  {
   "cell_type": "markdown",
   "id": "672ccc1d-9893-4aef-ab6c-324f743682ed",
   "metadata": {},
   "source": [
    "### Functions"
   ]
  },
  {
   "cell_type": "code",
   "execution_count": 131,
   "id": "773d9e21-d4b2-4156-b2ba-a8c6bb33f3fd",
   "metadata": {
    "tags": []
   },
   "outputs": [],
   "source": [
    "def saveTemplate(name:str, template_names:np.array):\n",
    "    TEMPLATE_NAMES[name] = template_names\n",
    "    temp = []\n",
    "    for item in template_names:\n",
    "        sp = splat.Spectrum(filename= template_dir + '/' + item + '.fits')\n",
    "        temp.append(sp)\n",
    "    TEMPLATE_SPECS[name] = temp\n",
    "    TEMPLATE_DICT[name] = (template_names,temp)"
   ]
  },
  {
   "cell_type": "code",
   "execution_count": 195,
   "id": "920f5423-c54c-47a0-93e3-3f51aa2e6fb3",
   "metadata": {},
   "outputs": [],
   "source": [
    "def simpleClassify(spx, name):\n",
    "    temp_list =[]\n",
    "    for tp_spec in TEMPLATE_DICT.get(name)[1]:\n",
    "        temp_list.append(sp.compareSpectra(spx, tp_spec))\n",
    "    results = np.array(temp_list)\n",
    "    index_of_best_fit = np.where(results[:,0] == results[:,0].min())\n",
    "    return results, TEMPLATE_DICT.get(name)[0][index_of_best_fit]"
   ]
  },
  {
   "cell_type": "markdown",
   "id": "643a2659-4d79-4fcc-97d1-8715b9dab5af",
   "metadata": {},
   "source": [
    "___"
   ]
  },
  {
   "cell_type": "code",
   "execution_count": 132,
   "id": "98734daf-5935-45ce-a905-31c0ade3cf5d",
   "metadata": {},
   "outputs": [],
   "source": [
    "saveTemplate('demeo',class_names)"
   ]
  },
  {
   "cell_type": "code",
   "execution_count": 134,
   "id": "d878d80c-6bc4-4cf2-89a9-ae1f5625e953",
   "metadata": {
    "collapsed": true,
    "jupyter": {
     "outputs_hidden": true
    },
    "tags": []
   },
   "outputs": [
    {
     "data": {
      "text/plain": [
       "({'demeo': array(['Demeo_et_al_2009_A', 'Demeo_et_al_2009_B', 'Demeo_et_al_2009_C',\n",
       "         'Demeo_et_al_2009_Cb', 'Demeo_et_al_2009_Cg',\n",
       "         'Demeo_et_al_2009_Cgh', 'Demeo_et_al_2009_Ch',\n",
       "         'Demeo_et_al_2009_D', 'Demeo_et_al_2009_K', 'Demeo_et_al_2009_L',\n",
       "         'Demeo_et_al_2009_O', 'Demeo_et_al_2009_Q', 'Demeo_et_al_2009_R',\n",
       "         'Demeo_et_al_2009_S', 'Demeo_et_al_2009_Sa', 'Demeo_et_al_2009_Sq',\n",
       "         'Demeo_et_al_2009_Sr', 'Demeo_et_al_2009_Sv', 'Demeo_et_al_2009_T',\n",
       "         'Demeo_et_al_2009_V', 'Demeo_et_al_2009_X', 'Demeo_et_al_2009_Xc',\n",
       "         'Demeo_et_al_2009_Xe', 'Demeo_et_al_2009_Xk'], dtype='<U20')},\n",
       " {'demeo': [ spectrum of Demeo_et_al_2009_A.fits,\n",
       "    spectrum of Demeo_et_al_2009_B.fits,\n",
       "    spectrum of Demeo_et_al_2009_C.fits,\n",
       "    spectrum of Demeo_et_al_2009_Cb.fits,\n",
       "    spectrum of Demeo_et_al_2009_Cg.fits,\n",
       "    spectrum of Demeo_et_al_2009_Cgh.fits,\n",
       "    spectrum of Demeo_et_al_2009_Ch.fits,\n",
       "    spectrum of Demeo_et_al_2009_D.fits,\n",
       "    spectrum of Demeo_et_al_2009_K.fits,\n",
       "    spectrum of Demeo_et_al_2009_L.fits,\n",
       "    spectrum of Demeo_et_al_2009_O.fits,\n",
       "    spectrum of Demeo_et_al_2009_Q.fits,\n",
       "    spectrum of Demeo_et_al_2009_R.fits,\n",
       "    spectrum of Demeo_et_al_2009_S.fits,\n",
       "    spectrum of Demeo_et_al_2009_Sa.fits,\n",
       "    spectrum of Demeo_et_al_2009_Sq.fits,\n",
       "    spectrum of Demeo_et_al_2009_Sr.fits,\n",
       "    spectrum of Demeo_et_al_2009_Sv.fits,\n",
       "    spectrum of Demeo_et_al_2009_T.fits,\n",
       "    spectrum of Demeo_et_al_2009_V.fits,\n",
       "    spectrum of Demeo_et_al_2009_X.fits,\n",
       "    spectrum of Demeo_et_al_2009_Xc.fits,\n",
       "    spectrum of Demeo_et_al_2009_Xe.fits,\n",
       "    spectrum of Demeo_et_al_2009_Xk.fits]},\n",
       " {'demeo': (array(['Demeo_et_al_2009_A', 'Demeo_et_al_2009_B', 'Demeo_et_al_2009_C',\n",
       "          'Demeo_et_al_2009_Cb', 'Demeo_et_al_2009_Cg',\n",
       "          'Demeo_et_al_2009_Cgh', 'Demeo_et_al_2009_Ch',\n",
       "          'Demeo_et_al_2009_D', 'Demeo_et_al_2009_K', 'Demeo_et_al_2009_L',\n",
       "          'Demeo_et_al_2009_O', 'Demeo_et_al_2009_Q', 'Demeo_et_al_2009_R',\n",
       "          'Demeo_et_al_2009_S', 'Demeo_et_al_2009_Sa', 'Demeo_et_al_2009_Sq',\n",
       "          'Demeo_et_al_2009_Sr', 'Demeo_et_al_2009_Sv', 'Demeo_et_al_2009_T',\n",
       "          'Demeo_et_al_2009_V', 'Demeo_et_al_2009_X', 'Demeo_et_al_2009_Xc',\n",
       "          'Demeo_et_al_2009_Xe', 'Demeo_et_al_2009_Xk'], dtype='<U20'),\n",
       "   [ spectrum of Demeo_et_al_2009_A.fits,\n",
       "     spectrum of Demeo_et_al_2009_B.fits,\n",
       "     spectrum of Demeo_et_al_2009_C.fits,\n",
       "     spectrum of Demeo_et_al_2009_Cb.fits,\n",
       "     spectrum of Demeo_et_al_2009_Cg.fits,\n",
       "     spectrum of Demeo_et_al_2009_Cgh.fits,\n",
       "     spectrum of Demeo_et_al_2009_Ch.fits,\n",
       "     spectrum of Demeo_et_al_2009_D.fits,\n",
       "     spectrum of Demeo_et_al_2009_K.fits,\n",
       "     spectrum of Demeo_et_al_2009_L.fits,\n",
       "     spectrum of Demeo_et_al_2009_O.fits,\n",
       "     spectrum of Demeo_et_al_2009_Q.fits,\n",
       "     spectrum of Demeo_et_al_2009_R.fits,\n",
       "     spectrum of Demeo_et_al_2009_S.fits,\n",
       "     spectrum of Demeo_et_al_2009_Sa.fits,\n",
       "     spectrum of Demeo_et_al_2009_Sq.fits,\n",
       "     spectrum of Demeo_et_al_2009_Sr.fits,\n",
       "     spectrum of Demeo_et_al_2009_Sv.fits,\n",
       "     spectrum of Demeo_et_al_2009_T.fits,\n",
       "     spectrum of Demeo_et_al_2009_V.fits,\n",
       "     spectrum of Demeo_et_al_2009_X.fits,\n",
       "     spectrum of Demeo_et_al_2009_Xc.fits,\n",
       "     spectrum of Demeo_et_al_2009_Xe.fits,\n",
       "     spectrum of Demeo_et_al_2009_Xk.fits])})"
      ]
     },
     "execution_count": 134,
     "metadata": {},
     "output_type": "execute_result"
    }
   ],
   "source": [
    "TEMPLATE_NAMES, TEMPLATE_SPECS, TEMPLATE_DICT"
   ]
  },
  {
   "cell_type": "code",
   "execution_count": 158,
   "id": "130f1f40-3566-4791-9542-f780bb8709e4",
   "metadata": {},
   "outputs": [],
   "source": [
    "test_spec = sp.Spectrum('D:\\\\PythonCodes\\\\JupyterWorkspace\\\\spex-prism_1036Ganymed_20010322.fits')"
   ]
  },
  {
   "cell_type": "code",
   "execution_count": 260,
   "id": "adfd2e7d-d4c5-494b-950e-b18302d8e15b",
   "metadata": {
    "collapsed": true,
    "jupyter": {
     "outputs_hidden": true
    },
    "tags": []
   },
   "outputs": [
    {
     "data": {
      "text/plain": [
       "(array([[9.64392029e+05, 3.41391735e-01],\n",
       "        [1.53355999e+05, 5.66824795e-01],\n",
       "        [9.83573354e+04, 4.93943905e-01],\n",
       "        [8.79274959e+04, 4.76860784e-01],\n",
       "        [8.04005662e+04, 4.88515827e-01],\n",
       "        [5.87819326e+04, 4.73114373e-01],\n",
       "        [6.04088579e+04, 4.95468831e-01],\n",
       "        [2.74009155e+05, 3.28445051e-01],\n",
       "        [6.99112777e+04, 4.54974993e-01],\n",
       "        [4.64863520e+04, 4.07910517e-01],\n",
       "        [2.73531554e+05, 5.64556664e-01],\n",
       "        [1.15263923e+05, 5.03972924e-01],\n",
       "        [1.99764553e+05, 4.19609387e-01],\n",
       "        [5.54018952e+04, 4.12081543e-01],\n",
       "        [4.56687163e+05, 4.23167529e-01],\n",
       "        [1.04083538e+05, 4.39893344e-01],\n",
       "        [6.33115992e+04, 4.21097744e-01],\n",
       "        [5.48279460e+04, 3.78762793e-01],\n",
       "        [1.01495191e+05, 3.88420357e-01],\n",
       "        [3.16903344e+05, 4.11678680e-01],\n",
       "        [1.08015527e+05, 4.18985979e-01],\n",
       "        [6.47884316e+04, 4.52913281e-01],\n",
       "        [6.01885168e+04, 4.38624989e-01],\n",
       "        [7.13263014e+04, 4.36591504e-01]]),\n",
       " array(['Demeo_et_al_2009_L'], dtype='<U20'))"
      ]
     },
     "execution_count": 260,
     "metadata": {},
     "output_type": "execute_result"
    }
   ],
   "source": [
    "simpleClassify(test_spec, 'demeo')"
   ]
  },
  {
   "cell_type": "code",
   "execution_count": 171,
   "id": "28d5842a-d81b-4562-9de3-2f86b5fe422a",
   "metadata": {},
   "outputs": [],
   "source": [
    "test_spec.normalize()"
   ]
  },
  {
   "cell_type": "code",
   "execution_count": 164,
   "id": "735b2e2e-15d0-44a3-97b0-23ee83f3de64",
   "metadata": {},
   "outputs": [
    {
     "data": {
      "text/latex": [
       "$1 \\; \\mathrm{\\frac{erg}{\\mu m\\,s\\,cm^{2}}}$"
      ],
      "text/plain": [
       "<Quantity 1. erg / (cm2 micron s)>"
      ]
     },
     "execution_count": 164,
     "metadata": {},
     "output_type": "execute_result"
    }
   ],
   "source": [
    "test_spec.fluxMax()"
   ]
  },
  {
   "cell_type": "code",
   "execution_count": 197,
   "id": "1cfb53a5-08e6-4c35-8f9f-bb2053e64c0e",
   "metadata": {},
   "outputs": [
    {
     "data": {
      "text/latex": [
       "$[0.48710036,~0.4909426,~0.49559587,~\\dots,~0.47795492,~0.56401491,~1.2365594] \\; \\mathrm{\\frac{erg}{\\mu m\\,s\\,cm^{2}}}$"
      ],
      "text/plain": [
       "<Quantity [ 0.48710036,  0.4909426 ,  0.49559587,  0.51436144,  0.48706552,\n",
       "            0.48467532,  0.48096344,  0.49595973,  0.5015724 ,  0.48834497,\n",
       "            0.507384  ,  0.49645895,  0.50447685,  0.5127091 ,  0.4932041 ,\n",
       "            0.503905  ,  0.50620365,  0.49635586,  0.5027908 ,  0.4950327 ,\n",
       "            0.5081623 ,  0.5101337 ,  0.49349067,  0.52319396,  0.5133891 ,\n",
       "            0.52085245,  0.510014  ,  0.5048839 ,  0.50627273,  0.52330583,\n",
       "            0.5116363 ,  0.5222453 ,  0.52970105,  0.5131096 ,  0.51289123,\n",
       "            0.51981336,  0.5187922 ,  0.50960493,  0.5168084 ,  0.513981  ,\n",
       "            0.5209811 ,  0.51650333,  0.5155043 ,  0.51076674,  0.5202013 ,\n",
       "            0.5123698 ,  0.49544463,  0.4941811 ,  0.51260084,  0.51575154,\n",
       "            0.5225837 ,  0.5204584 ,  0.5137    ,  0.5132801 ,  0.5106778 ,\n",
       "            0.51121515,  0.50158554,  0.51109886,  0.5021013 ,  0.50202554,\n",
       "            0.5069399 ,  0.50072706,  0.5012985 ,  0.504162  ,  0.49973887,\n",
       "            0.4959453 ,  0.49384674,  0.48550543,  0.48870856,  0.49873254,\n",
       "            0.48412734,  0.48391098,  0.4785065 ,  0.47849622,  0.4802671 ,\n",
       "            0.47588134,  0.47368634,  0.470044  ,  0.46531066,  0.4640263 ,\n",
       "            0.4673996 ,  0.46238688,  0.4622376 ,  0.45329043,  0.456122  ,\n",
       "            0.45580232,  0.45540708,  0.44911215,  0.45566377,  0.4526185 ,\n",
       "            0.45075634,  0.44703108,  0.4452718 ,  0.44552296,  0.44076163,\n",
       "            0.4439542 ,  0.43997863,  0.44470668,  0.44116962,  0.44105205,\n",
       "            0.44590724,  0.4343717 ,  0.43547207,  0.44047695,  0.43763766,\n",
       "            0.44208816,  0.4486956 ,  0.44839263,  0.45033225,  0.45341513,\n",
       "            0.45760092,  0.45974708,  0.4640393 ,  0.46611047,  0.46664843,\n",
       "            0.4743531 ,  0.47389787,  0.47882974,  0.47844702,  0.485081  ,\n",
       "            0.48460028,  0.48446444,  0.48608568,  0.48754072,  0.49623492,\n",
       "            0.4935533 ,  0.49931118,  0.501104  ,  0.4978448 ,  0.49859786,\n",
       "            0.49891037,  0.50076586,  0.50049394,  0.50312144,  0.50341135,\n",
       "            0.5033297 ,  0.50472337,  0.5047814 ,  0.50362176,  0.50553983,\n",
       "            0.51629806,  0.5082137 ,  0.50794244,  0.512689  ,  0.5093066 ,\n",
       "            0.51368666,  0.510954  ,  0.51935625,  0.5182914 ,  0.5190813 ,\n",
       "            0.51642954,  0.51182884,  0.5152531 ,  0.50768304,  0.5245799 ,\n",
       "            0.52143896,  0.52796173,  0.5248474 ,  0.5215877 ,  0.5278258 ,\n",
       "            0.5354676 ,  0.53653973,  0.54159164,  0.5341687 ,  0.5374521 ,\n",
       "            0.5368727 ,  0.5389494 ,  0.53971475,  0.54301924,  0.5396717 ,\n",
       "            0.54541665,  0.5427252 ,  0.5486212 ,  0.5411319 ,  0.54888153,\n",
       "            0.54510957,  0.5509519 ,  0.54995817,  0.5495678 ,  0.55157447,\n",
       "            0.55505013,  0.5534878 ,  0.555744  ,  0.5501256 ,  0.55244917,\n",
       "            0.5453522 ,  0.5505426 ,  0.5447865 ,  0.55722994,  0.54922277,\n",
       "            0.5585519 ,  0.556149  ,  0.56439084,  0.5602509 ,  0.5657582 ,\n",
       "            0.5573253 ,  0.5645995 ,  0.55772656,  0.5665792 ,  0.55883235,\n",
       "            0.55899394,  0.54922897,  0.5648053 ,  0.56911016,  0.58876574,\n",
       "            0.5805769 ,  0.5789002 ,  0.5254437 ,  0.49193627,  0.53998554,\n",
       "            0.5582743 ,  0.5284287 ,  0.5442892 ,  0.5219888 ,  0.5511605 ,\n",
       "            0.5426077 ,  0.52066785,  0.54552865,  0.5619859 ,  0.54299957,\n",
       "            0.5632123 ,  0.5551612 ,  0.57809055,  0.5512781 ,  0.5636803 ,\n",
       "            0.538624  ,  0.56169844,  0.54808366,  0.56738627,  0.56364596,\n",
       "            0.5763762 ,  0.5566596 ,  0.56427574,  0.55766153,  0.56461936,\n",
       "            0.55166787,  0.5688246 ,  0.5531775 ,  0.577833  ,  0.5583079 ,\n",
       "            0.56600726,  0.5506159 ,  0.5695463 ,  0.5529443 ,  0.5689083 ,\n",
       "            0.5435196 ,  0.5735763 ,  0.5455293 ,  0.57124674,  0.5455071 ,\n",
       "            0.562416  ,  0.544953  ,  0.5643778 ,  0.54529727,  0.5648423 ,\n",
       "            0.5397866 ,  0.5580384 ,  0.53657144,  0.55168945,  0.53143895,\n",
       "            0.54700077,  0.52135646,  0.5551969 ,  0.5335782 ,  0.5434866 ,\n",
       "            0.52138   ,  0.5309739 ,  0.5273737 ,  0.5446374 ,  0.5231891 ,\n",
       "            0.5470692 ,  0.52970517,  0.5480268 ,  0.5218476 ,  0.5440337 ,\n",
       "            0.52460605,  0.5422604 ,  0.52396643,  0.5424271 ,  0.5206408 ,\n",
       "            0.5320076 ,  0.5164657 ,  0.52882415,  0.5178937 ,  0.53471756,\n",
       "            0.51971734,  0.53011817,  0.52182484,  0.52839184,  0.5100759 ,\n",
       "            0.52445984,  0.50482154,  0.5227032 ,  0.5095448 ,  0.52898985,\n",
       "            0.5103606 ,  0.5194955 ,  0.5059525 ,  0.51594067,  0.5016902 ,\n",
       "            0.50767434,  0.49826947,  0.5124057 ,  0.5040663 ,  0.50904185,\n",
       "            0.49470776,  0.49643883,  0.49583215,  0.49559948,  0.49546662,\n",
       "            0.50701535,  0.4871165 ,  0.50549936,  0.48520908,  0.4954604 ,\n",
       "            0.47509557,  0.4695019 ,  0.47846103,  0.45523357,  0.4613276 ,\n",
       "            0.4819588 ,  0.4746979 ,  0.4889348 ,  0.44014078,  0.5149956 ,\n",
       "            0.47721547,  0.43359023,  0.4491963 ,  0.4482544 ,  0.51891047,\n",
       "            0.4345104 ,  0.46995   ,  0.49540204,  0.44339824,  0.4395393 ,\n",
       "            0.4453353 ,  0.38633367,  0.45968053,  0.51361936,  0.5100728 ,\n",
       "            0.46011585,  0.454527  ,  0.46731326,  0.42893562,  0.4426837 ,\n",
       "            0.4738891 ,  0.4522752 ,  0.49630597,  0.4861002 ,  0.4979799 ,\n",
       "            0.50727135,  0.47195488,  0.4803279 ,  0.46950865,  0.49538812,\n",
       "            0.48861307,  0.48631743,  0.49655995,  0.4808703 ,  0.46694314,\n",
       "            0.48231843,  0.4820993 ,  0.5001337 ,  0.4952684 ,  0.5029492 ,\n",
       "            0.4963587 ,  0.49686247,  0.50422394,  0.49705675,  0.5052377 ,\n",
       "            0.50577027,  0.5017728 ,  0.51441497,  0.4929226 ,  0.4818305 ,\n",
       "            0.4899626 ,  0.4940238 ,  0.50009555,  0.4948423 ,  0.5086372 ,\n",
       "            0.5063198 ,  0.50575054,  0.5088783 ,  0.4989282 ,  0.5151155 ,\n",
       "            0.50779307,  0.50661343,  0.5002889 ,  0.49840957,  0.5034285 ,\n",
       "            0.50432557,  0.506253  ,  0.5018872 ,  0.5011323 ,  0.5076887 ,\n",
       "            0.5127908 ,  0.5197295 ,  0.5134458 ,  0.5259556 ,  0.5079155 ,\n",
       "            0.5217135 ,  0.5105577 ,  0.51856816,  0.502347  ,  0.5113784 ,\n",
       "            0.50721836,  0.51433074,  0.5118187 ,  0.512372  ,  0.5013622 ,\n",
       "            0.5072058 ,  0.52075547,  0.5223821 ,  0.5175004 ,  0.51314116,\n",
       "            0.5160245 ,  0.50868636,  0.49845752,  0.5161117 ,  0.5125481 ,\n",
       "            0.5213057 ,  0.51609653,  0.52010816,  0.5084491 ,  0.5159109 ,\n",
       "            0.5122957 ,  0.5232546 ,  0.520154  ,  0.52171946,  0.5155683 ,\n",
       "            0.5136181 ,  0.5166995 ,  0.51905465,  0.5201271 ,  0.5132074 ,\n",
       "            0.5188146 ,  0.5114293 ,  0.51693004,  0.52413434,  0.5206196 ,\n",
       "            0.5327679 ,  0.5241714 ,  0.5117204 ,  0.5219544 ,  0.51818746,\n",
       "            0.52631855,  0.521495  ,  0.51952267,  0.51334524,  0.52178895,\n",
       "            0.51099676,  0.50924087,  0.5211001 ,  0.51632476,  0.5142329 ,\n",
       "            0.5090242 ,  0.52251035,  0.5116439 ,  0.52099454,  0.5204582 ,\n",
       "            0.52130353,  0.52029794,  0.5157684 ,  0.5071073 ,  0.53654486,\n",
       "            0.52040666,  0.52160364,  0.5138282 ,  0.5179884 ,  0.50577456,\n",
       "            0.5248273 ,  0.5034207 ,  0.51651436,  0.5198892 ,  0.5086103 ,\n",
       "            0.5343465 ,  0.527414  ,  0.525827  ,  0.5431905 ,  0.51742995,\n",
       "            0.51639193,  0.52443165,  0.52278274,  0.5131284 ,  0.52517474,\n",
       "            0.5257985 ,  0.5211662 ,  0.5254849 ,  0.52405566,  0.54171103,\n",
       "            0.52004814,  0.5065349 ,  0.53768843,  0.5126276 ,  0.5349826 ,\n",
       "            0.520337  ,  0.54277205,  0.5227875 ,  0.54657584,  0.5320952 ,\n",
       "            0.53387433,  0.52200085,  0.5193767 ,  0.52000123,  0.51142615,\n",
       "            0.5331422 ,  0.530295  ,  0.52445805,  0.5077879 ,  0.519593  ,\n",
       "            0.5411367 ,  0.53145516,  0.53670186,  0.5213676 ,  0.53789496,\n",
       "            0.50801784,  0.5340988 ,  0.540656  ,  0.5501564 ,  0.5185537 ,\n",
       "            0.52025545,  0.5391419 ,  0.5835309 ,  0.55877596,  0.5435456 ,\n",
       "            0.5557612 ,  0.51767844,  0.54046303,  0.55394596,  0.5511147 ,\n",
       "            0.58770674,  0.52190894,  0.53138757,  0.5544741 ,  0.5453233 ,\n",
       "            0.50398886,  0.5629852 ,  0.53698814,  0.55548215,  0.48873025,\n",
       "            0.5234538 ,  0.5052386 ,  0.49897107,  0.51501876,  0.48330766,\n",
       "            0.459501  ,  0.6216441 ,  0.52494884,  0.50776154,  0.6322097 ,\n",
       "            0.55642486,  0.53103733,  0.5043003 ,  0.55935675,  0.29578593,\n",
       "            0.46816915,  0.817643  , -0.9435449 , -0.14820366,  1.        ,\n",
       "            0.47795492,  0.5640149 ,  1.2365594 ] erg / (cm2 micron s)>"
      ]
     },
     "execution_count": 197,
     "metadata": {},
     "output_type": "execute_result"
    }
   ],
   "source": [
    "test_spec.flux"
   ]
  },
  {
   "cell_type": "markdown",
   "id": "aeb90d1e-bb5e-4c01-a688-dcda32776009",
   "metadata": {},
   "source": [
    "In the above cell, we see a normalized spectrum with a flux value > 1."
   ]
  },
  {
   "cell_type": "code",
   "execution_count": 205,
   "id": "8c4a5e57-fa83-4ee7-bf33-7ac4dfed594f",
   "metadata": {},
   "outputs": [],
   "source": [
    "sp2 = sp.Spectrum('D:\\\\PythonCodes\\\\JupyterWorkspace\\\\spex-prism_216Kleopatra-2_20010501.fits')"
   ]
  },
  {
   "cell_type": "markdown",
   "id": "97217ccf-353e-413a-b8e9-7c3ccd4cb922",
   "metadata": {},
   "source": [
    "#### Gross compare"
   ]
  },
  {
   "cell_type": "code",
   "execution_count": 252,
   "id": "e4e05e4b-d34b-453e-8ba8-d4eb89239327",
   "metadata": {
    "collapsed": true,
    "jupyter": {
     "outputs_hidden": true
    },
    "tags": []
   },
   "outputs": [
    {
     "data": {
      "text/plain": [
       "array(['spex-prism_1036Ganymed_20010322',\n",
       "       'spex-prism_1036Ganymed_20010502',\n",
       "       'spex-prism_110Lydia-1_20010502',\n",
       "       'spex-prism_110Lydia-2-2_20010501',\n",
       "       'spex-prism_110Lydia-2_20010501', 'spex-prism_110Lydia-2_20010502',\n",
       "       'spex-prism_110Lydia-3_20010501', 'spex-prism_110Lydia-3_20010502',\n",
       "       'spex-prism_110Lydia-4_20010502', 'spex-prism_110Lydia_20010501',\n",
       "       'spex-prism_19356_20010501', 'spex-prism_1998SF36_20010322',\n",
       "       'spex-prism_2000SS164_20010129', 'spex-prism_2000XG47_20010501',\n",
       "       'spex-prism_201Penelope-1_20010502',\n",
       "       'spex-prism_201Penelope-2_20010501',\n",
       "       'spex-prism_201Penelope-2_20010502',\n",
       "       'spex-prism_201Penelope-3-1_20010502',\n",
       "       'spex-prism_201Penelope-3-2_20010502',\n",
       "       'spex-prism_201Penelope-3_20010501',\n",
       "       'spex-prism_201Penelope-4_20010501',\n",
       "       'spex-prism_201Penelope-4_20010502',\n",
       "       'spex-prism_201Penelope-5-2_20010502',\n",
       "       'spex-prism_201Penelope-5.1_20010502',\n",
       "       'spex-prism_201Penelope-6-1_20010502',\n",
       "       'spex-prism_201Penelope-6-2_20010502',\n",
       "       'spex-prism_201Penelope_20010501',\n",
       "       'spex-prism_216Kleopatra-2_20010501',\n",
       "       'spex-prism_216Kleopatra_20010429',\n",
       "       'spex-prism_216Kleopatra_20010501',\n",
       "       'spex-prism_3999Aristarchus_20010322',\n",
       "       'spex-prism_69Hesperia-1_20010502',\n",
       "       'spex-prism_69Hesperia-2_20010501',\n",
       "       'spex-prism_69Hesperia-2_20010502',\n",
       "       'spex-prism_69Hesperia-3_20010501',\n",
       "       'spex-prism_69Hesperia-3_20010502',\n",
       "       'spex-prism_69Hesperia-4_20010502',\n",
       "       'spex-prism_69Hesperia-5_20010502',\n",
       "       'spex-prism_69Hesperia-6-1_20010502',\n",
       "       'spex-prism_69Hesperia-6-2_20010502',\n",
       "       'spex-prism_69Hesperia_20010501',\n",
       "       'spex-prism_Asteroid5587_20010502',\n",
       "       'spex-prism_Asteroid5604_20010501',\n",
       "       'spex-prism_Asteroid5604_20010502', 'spex-prism_Hebe_20010428',\n",
       "       'spex_prism_1658_20010129', 'spex_prism_18736_20010129',\n",
       "       'spex_prism_19356_20010129', 'spex_prism_1992BL2_20010129',\n",
       "       'spex_prism_2000SS164_20010129', 'spex_prism_20429_20010129',\n",
       "       'spex_prism_25_20010129', 'spex_prism_3199_20010129',\n",
       "       'spex_prism_32_20010129', 'spex_prism_359_20010129',\n",
       "       'spex_prism_land102-1081_20010129'], dtype='<U35')"
      ]
     },
     "execution_count": 252,
     "metadata": {},
     "output_type": "execute_result"
    }
   ],
   "source": [
    "objs_dir = 'D:\\\\PythonCodes/JupyterWorkspace/SpeX_asteroid_spectra'\n",
    "obj_names = np.array(sorted(f.split('.fits')[:len(f.split('.'))-1][0] for f in os.listdir(objs_dir) if f != '.ipynb_checkpoints'))\n",
    "obj_names  # array of strings"
   ]
  },
  {
   "cell_type": "code",
   "execution_count": 278,
   "id": "5c76ac9e-c309-4101-bdb9-918ea441bfed",
   "metadata": {},
   "outputs": [],
   "source": [
    "d = {}\n",
    "name_list = []\n",
    "results_list = []"
   ]
  },
  {
   "cell_type": "code",
   "execution_count": 279,
   "id": "f87af892-c128-44c0-9b76-8db9777c784a",
   "metadata": {},
   "outputs": [],
   "source": [
    "for item in obj_names:\n",
    "    name_list.append(item)\n",
    "    temp_spec = sp.Spectrum('D:\\\\PythonCodes\\\\JupyterWorkspace\\\\SpeX_asteroid_spectra/' + item +'.fits')\n",
    "    results_list.append(simpleClassify(temp_spec, 'demeo')[1])\n",
    "\n",
    "d['Objects'] = name_list\n",
    "d['Simple Classifiy'] = results_list"
   ]
  },
  {
   "cell_type": "code",
   "execution_count": 287,
   "id": "8a097ac7-072b-4281-a5c5-2d22b9c450d6",
   "metadata": {},
   "outputs": [],
   "source": [
    "demeo_results = ['S', 'S', 'Xk','Xk','Xk','Xk','Xk','Xk','Xk','Xk','Sq','--','--','--','Xk','Xk','Xk','Xk','Xk','Xk','Xk','Xk','Xk','Xk','Xk','Xk','Xk','Xe','Xe','Xe',\n",
    "                '--', 'Xk','Xk','Xk','Xk','Xk','Xk','Xk','Xk','Xk','Xk','Sr','V','V','--', 'Sw','Sw','Sq','--','--','--','S','K','Sw','Xk','--']\n",
    "d['Demeo Results'] = demeo_results"
   ]
  },
  {
   "cell_type": "code",
   "execution_count": 288,
   "id": "e39756cb-11b6-430b-af36-d08b38fb9b50",
   "metadata": {},
   "outputs": [
    {
     "data": {
      "text/html": [
       "<div>\n",
       "<style scoped>\n",
       "    .dataframe tbody tr th:only-of-type {\n",
       "        vertical-align: middle;\n",
       "    }\n",
       "\n",
       "    .dataframe tbody tr th {\n",
       "        vertical-align: top;\n",
       "    }\n",
       "\n",
       "    .dataframe thead th {\n",
       "        text-align: right;\n",
       "    }\n",
       "</style>\n",
       "<table border=\"1\" class=\"dataframe\">\n",
       "  <thead>\n",
       "    <tr style=\"text-align: right;\">\n",
       "      <th></th>\n",
       "      <th>Objects</th>\n",
       "      <th>Simple Classifiy</th>\n",
       "      <th>Demeo Results</th>\n",
       "    </tr>\n",
       "  </thead>\n",
       "  <tbody>\n",
       "    <tr>\n",
       "      <th>0</th>\n",
       "      <td>spex-prism_1036Ganymed_20010322</td>\n",
       "      <td>[Demeo_et_al_2009_L]</td>\n",
       "      <td>S</td>\n",
       "    </tr>\n",
       "    <tr>\n",
       "      <th>1</th>\n",
       "      <td>spex-prism_1036Ganymed_20010502</td>\n",
       "      <td>[Demeo_et_al_2009_Sv]</td>\n",
       "      <td>S</td>\n",
       "    </tr>\n",
       "    <tr>\n",
       "      <th>2</th>\n",
       "      <td>spex-prism_110Lydia-1_20010502</td>\n",
       "      <td>[Demeo_et_al_2009_X]</td>\n",
       "      <td>Xk</td>\n",
       "    </tr>\n",
       "    <tr>\n",
       "      <th>3</th>\n",
       "      <td>spex-prism_110Lydia-2-2_20010501</td>\n",
       "      <td>[Demeo_et_al_2009_X]</td>\n",
       "      <td>Xk</td>\n",
       "    </tr>\n",
       "    <tr>\n",
       "      <th>4</th>\n",
       "      <td>spex-prism_110Lydia-2_20010501</td>\n",
       "      <td>[Demeo_et_al_2009_X]</td>\n",
       "      <td>Xk</td>\n",
       "    </tr>\n",
       "    <tr>\n",
       "      <th>5</th>\n",
       "      <td>spex-prism_110Lydia-2_20010502</td>\n",
       "      <td>[Demeo_et_al_2009_Xk]</td>\n",
       "      <td>Xk</td>\n",
       "    </tr>\n",
       "    <tr>\n",
       "      <th>6</th>\n",
       "      <td>spex-prism_110Lydia-3_20010501</td>\n",
       "      <td>[Demeo_et_al_2009_X]</td>\n",
       "      <td>Xk</td>\n",
       "    </tr>\n",
       "    <tr>\n",
       "      <th>7</th>\n",
       "      <td>spex-prism_110Lydia-3_20010502</td>\n",
       "      <td>[Demeo_et_al_2009_Xk]</td>\n",
       "      <td>Xk</td>\n",
       "    </tr>\n",
       "    <tr>\n",
       "      <th>8</th>\n",
       "      <td>spex-prism_110Lydia-4_20010502</td>\n",
       "      <td>[Demeo_et_al_2009_Xk]</td>\n",
       "      <td>Xk</td>\n",
       "    </tr>\n",
       "    <tr>\n",
       "      <th>9</th>\n",
       "      <td>spex-prism_110Lydia_20010501</td>\n",
       "      <td>[Demeo_et_al_2009_T]</td>\n",
       "      <td>Xk</td>\n",
       "    </tr>\n",
       "    <tr>\n",
       "      <th>10</th>\n",
       "      <td>spex-prism_19356_20010501</td>\n",
       "      <td>[Demeo_et_al_2009_Sq]</td>\n",
       "      <td>Sq</td>\n",
       "    </tr>\n",
       "    <tr>\n",
       "      <th>11</th>\n",
       "      <td>spex-prism_1998SF36_20010322</td>\n",
       "      <td>[Demeo_et_al_2009_Sq]</td>\n",
       "      <td>--</td>\n",
       "    </tr>\n",
       "    <tr>\n",
       "      <th>12</th>\n",
       "      <td>spex-prism_2000SS164_20010129</td>\n",
       "      <td>[Demeo_et_al_2009_K]</td>\n",
       "      <td>--</td>\n",
       "    </tr>\n",
       "    <tr>\n",
       "      <th>13</th>\n",
       "      <td>spex-prism_2000XG47_20010501</td>\n",
       "      <td>[Demeo_et_al_2009_L]</td>\n",
       "      <td>--</td>\n",
       "    </tr>\n",
       "    <tr>\n",
       "      <th>14</th>\n",
       "      <td>spex-prism_201Penelope-1_20010502</td>\n",
       "      <td>[Demeo_et_al_2009_X]</td>\n",
       "      <td>Xk</td>\n",
       "    </tr>\n",
       "    <tr>\n",
       "      <th>15</th>\n",
       "      <td>spex-prism_201Penelope-2_20010501</td>\n",
       "      <td>[Demeo_et_al_2009_Xk]</td>\n",
       "      <td>Xk</td>\n",
       "    </tr>\n",
       "    <tr>\n",
       "      <th>16</th>\n",
       "      <td>spex-prism_201Penelope-2_20010502</td>\n",
       "      <td>[Demeo_et_al_2009_T]</td>\n",
       "      <td>Xk</td>\n",
       "    </tr>\n",
       "    <tr>\n",
       "      <th>17</th>\n",
       "      <td>spex-prism_201Penelope-3-1_20010502</td>\n",
       "      <td>[Demeo_et_al_2009_Xk]</td>\n",
       "      <td>Xk</td>\n",
       "    </tr>\n",
       "    <tr>\n",
       "      <th>18</th>\n",
       "      <td>spex-prism_201Penelope-3-2_20010502</td>\n",
       "      <td>[Demeo_et_al_2009_Xc]</td>\n",
       "      <td>Xk</td>\n",
       "    </tr>\n",
       "    <tr>\n",
       "      <th>19</th>\n",
       "      <td>spex-prism_201Penelope-3_20010501</td>\n",
       "      <td>[Demeo_et_al_2009_Xk]</td>\n",
       "      <td>Xk</td>\n",
       "    </tr>\n",
       "    <tr>\n",
       "      <th>20</th>\n",
       "      <td>spex-prism_201Penelope-4_20010501</td>\n",
       "      <td>[Demeo_et_al_2009_X]</td>\n",
       "      <td>Xk</td>\n",
       "    </tr>\n",
       "    <tr>\n",
       "      <th>21</th>\n",
       "      <td>spex-prism_201Penelope-4_20010502</td>\n",
       "      <td>[Demeo_et_al_2009_X]</td>\n",
       "      <td>Xk</td>\n",
       "    </tr>\n",
       "    <tr>\n",
       "      <th>22</th>\n",
       "      <td>spex-prism_201Penelope-5-2_20010502</td>\n",
       "      <td>[Demeo_et_al_2009_Xk]</td>\n",
       "      <td>Xk</td>\n",
       "    </tr>\n",
       "    <tr>\n",
       "      <th>23</th>\n",
       "      <td>spex-prism_201Penelope-5.1_20010502</td>\n",
       "      <td>[Demeo_et_al_2009_Xc]</td>\n",
       "      <td>Xk</td>\n",
       "    </tr>\n",
       "    <tr>\n",
       "      <th>24</th>\n",
       "      <td>spex-prism_201Penelope-6-1_20010502</td>\n",
       "      <td>[Demeo_et_al_2009_B]</td>\n",
       "      <td>Xk</td>\n",
       "    </tr>\n",
       "    <tr>\n",
       "      <th>25</th>\n",
       "      <td>spex-prism_201Penelope-6-2_20010502</td>\n",
       "      <td>[Demeo_et_al_2009_X]</td>\n",
       "      <td>Xk</td>\n",
       "    </tr>\n",
       "    <tr>\n",
       "      <th>26</th>\n",
       "      <td>spex-prism_201Penelope_20010501</td>\n",
       "      <td>[Demeo_et_al_2009_T]</td>\n",
       "      <td>Xk</td>\n",
       "    </tr>\n",
       "    <tr>\n",
       "      <th>27</th>\n",
       "      <td>spex-prism_216Kleopatra-2_20010501</td>\n",
       "      <td>[Demeo_et_al_2009_X]</td>\n",
       "      <td>Xe</td>\n",
       "    </tr>\n",
       "    <tr>\n",
       "      <th>28</th>\n",
       "      <td>spex-prism_216Kleopatra_20010429</td>\n",
       "      <td>[Demeo_et_al_2009_Cb]</td>\n",
       "      <td>Xe</td>\n",
       "    </tr>\n",
       "    <tr>\n",
       "      <th>29</th>\n",
       "      <td>spex-prism_216Kleopatra_20010501</td>\n",
       "      <td>[Demeo_et_al_2009_X]</td>\n",
       "      <td>Xe</td>\n",
       "    </tr>\n",
       "    <tr>\n",
       "      <th>30</th>\n",
       "      <td>spex-prism_3999Aristarchus_20010322</td>\n",
       "      <td>[Demeo_et_al_2009_B]</td>\n",
       "      <td>--</td>\n",
       "    </tr>\n",
       "    <tr>\n",
       "      <th>31</th>\n",
       "      <td>spex-prism_69Hesperia-1_20010502</td>\n",
       "      <td>[Demeo_et_al_2009_Xc]</td>\n",
       "      <td>Xk</td>\n",
       "    </tr>\n",
       "    <tr>\n",
       "      <th>32</th>\n",
       "      <td>spex-prism_69Hesperia-2_20010501</td>\n",
       "      <td>[Demeo_et_al_2009_Xk]</td>\n",
       "      <td>Xk</td>\n",
       "    </tr>\n",
       "    <tr>\n",
       "      <th>33</th>\n",
       "      <td>spex-prism_69Hesperia-2_20010502</td>\n",
       "      <td>[Demeo_et_al_2009_Cb]</td>\n",
       "      <td>Xk</td>\n",
       "    </tr>\n",
       "    <tr>\n",
       "      <th>34</th>\n",
       "      <td>spex-prism_69Hesperia-3_20010501</td>\n",
       "      <td>[Demeo_et_al_2009_Xk]</td>\n",
       "      <td>Xk</td>\n",
       "    </tr>\n",
       "    <tr>\n",
       "      <th>35</th>\n",
       "      <td>spex-prism_69Hesperia-3_20010502</td>\n",
       "      <td>[Demeo_et_al_2009_Cb]</td>\n",
       "      <td>Xk</td>\n",
       "    </tr>\n",
       "    <tr>\n",
       "      <th>36</th>\n",
       "      <td>spex-prism_69Hesperia-4_20010502</td>\n",
       "      <td>[Demeo_et_al_2009_Cb]</td>\n",
       "      <td>Xk</td>\n",
       "    </tr>\n",
       "    <tr>\n",
       "      <th>37</th>\n",
       "      <td>spex-prism_69Hesperia-5_20010502</td>\n",
       "      <td>[Demeo_et_al_2009_X]</td>\n",
       "      <td>Xk</td>\n",
       "    </tr>\n",
       "    <tr>\n",
       "      <th>38</th>\n",
       "      <td>spex-prism_69Hesperia-6-1_20010502</td>\n",
       "      <td>[Demeo_et_al_2009_Xc]</td>\n",
       "      <td>Xk</td>\n",
       "    </tr>\n",
       "    <tr>\n",
       "      <th>39</th>\n",
       "      <td>spex-prism_69Hesperia-6-2_20010502</td>\n",
       "      <td>[Demeo_et_al_2009_Xc]</td>\n",
       "      <td>Xk</td>\n",
       "    </tr>\n",
       "    <tr>\n",
       "      <th>40</th>\n",
       "      <td>spex-prism_69Hesperia_20010501</td>\n",
       "      <td>[Demeo_et_al_2009_Cb]</td>\n",
       "      <td>Xk</td>\n",
       "    </tr>\n",
       "    <tr>\n",
       "      <th>41</th>\n",
       "      <td>spex-prism_Asteroid5587_20010502</td>\n",
       "      <td>[Demeo_et_al_2009_Sv]</td>\n",
       "      <td>Sr</td>\n",
       "    </tr>\n",
       "    <tr>\n",
       "      <th>42</th>\n",
       "      <td>spex-prism_Asteroid5604_20010501</td>\n",
       "      <td>[Demeo_et_al_2009_V]</td>\n",
       "      <td>V</td>\n",
       "    </tr>\n",
       "    <tr>\n",
       "      <th>43</th>\n",
       "      <td>spex-prism_Asteroid5604_20010502</td>\n",
       "      <td>[Demeo_et_al_2009_V]</td>\n",
       "      <td>V</td>\n",
       "    </tr>\n",
       "    <tr>\n",
       "      <th>44</th>\n",
       "      <td>spex-prism_Hebe_20010428</td>\n",
       "      <td>[Demeo_et_al_2009_S]</td>\n",
       "      <td>--</td>\n",
       "    </tr>\n",
       "    <tr>\n",
       "      <th>45</th>\n",
       "      <td>spex_prism_1658_20010129</td>\n",
       "      <td>[Demeo_et_al_2009_Sq]</td>\n",
       "      <td>Sw</td>\n",
       "    </tr>\n",
       "    <tr>\n",
       "      <th>46</th>\n",
       "      <td>spex_prism_18736_20010129</td>\n",
       "      <td>[Demeo_et_al_2009_R]</td>\n",
       "      <td>Sw</td>\n",
       "    </tr>\n",
       "    <tr>\n",
       "      <th>47</th>\n",
       "      <td>spex_prism_19356_20010129</td>\n",
       "      <td>[Demeo_et_al_2009_Sq]</td>\n",
       "      <td>Sq</td>\n",
       "    </tr>\n",
       "    <tr>\n",
       "      <th>48</th>\n",
       "      <td>spex_prism_1992BL2_20010129</td>\n",
       "      <td>[Demeo_et_al_2009_Sa]</td>\n",
       "      <td>--</td>\n",
       "    </tr>\n",
       "    <tr>\n",
       "      <th>49</th>\n",
       "      <td>spex_prism_2000SS164_20010129</td>\n",
       "      <td>[Demeo_et_al_2009_K]</td>\n",
       "      <td>--</td>\n",
       "    </tr>\n",
       "    <tr>\n",
       "      <th>50</th>\n",
       "      <td>spex_prism_20429_20010129</td>\n",
       "      <td>[Demeo_et_al_2009_Sq]</td>\n",
       "      <td>--</td>\n",
       "    </tr>\n",
       "    <tr>\n",
       "      <th>51</th>\n",
       "      <td>spex_prism_25_20010129</td>\n",
       "      <td>[Demeo_et_al_2009_Sq]</td>\n",
       "      <td>S</td>\n",
       "    </tr>\n",
       "    <tr>\n",
       "      <th>52</th>\n",
       "      <td>spex_prism_3199_20010129</td>\n",
       "      <td>[Demeo_et_al_2009_Sa]</td>\n",
       "      <td>K</td>\n",
       "    </tr>\n",
       "    <tr>\n",
       "      <th>53</th>\n",
       "      <td>spex_prism_32_20010129</td>\n",
       "      <td>[Demeo_et_al_2009_S]</td>\n",
       "      <td>Sw</td>\n",
       "    </tr>\n",
       "    <tr>\n",
       "      <th>54</th>\n",
       "      <td>spex_prism_359_20010129</td>\n",
       "      <td>[Demeo_et_al_2009_T]</td>\n",
       "      <td>Xk</td>\n",
       "    </tr>\n",
       "    <tr>\n",
       "      <th>55</th>\n",
       "      <td>spex_prism_land102-1081_20010129</td>\n",
       "      <td>[Demeo_et_al_2009_Xc]</td>\n",
       "      <td>--</td>\n",
       "    </tr>\n",
       "  </tbody>\n",
       "</table>\n",
       "</div>"
      ],
      "text/plain": [
       "                                Objects       Simple Classifiy Demeo Results\n",
       "0       spex-prism_1036Ganymed_20010322   [Demeo_et_al_2009_L]             S\n",
       "1       spex-prism_1036Ganymed_20010502  [Demeo_et_al_2009_Sv]             S\n",
       "2        spex-prism_110Lydia-1_20010502   [Demeo_et_al_2009_X]            Xk\n",
       "3      spex-prism_110Lydia-2-2_20010501   [Demeo_et_al_2009_X]            Xk\n",
       "4        spex-prism_110Lydia-2_20010501   [Demeo_et_al_2009_X]            Xk\n",
       "5        spex-prism_110Lydia-2_20010502  [Demeo_et_al_2009_Xk]            Xk\n",
       "6        spex-prism_110Lydia-3_20010501   [Demeo_et_al_2009_X]            Xk\n",
       "7        spex-prism_110Lydia-3_20010502  [Demeo_et_al_2009_Xk]            Xk\n",
       "8        spex-prism_110Lydia-4_20010502  [Demeo_et_al_2009_Xk]            Xk\n",
       "9          spex-prism_110Lydia_20010501   [Demeo_et_al_2009_T]            Xk\n",
       "10            spex-prism_19356_20010501  [Demeo_et_al_2009_Sq]            Sq\n",
       "11         spex-prism_1998SF36_20010322  [Demeo_et_al_2009_Sq]            --\n",
       "12        spex-prism_2000SS164_20010129   [Demeo_et_al_2009_K]            --\n",
       "13         spex-prism_2000XG47_20010501   [Demeo_et_al_2009_L]            --\n",
       "14    spex-prism_201Penelope-1_20010502   [Demeo_et_al_2009_X]            Xk\n",
       "15    spex-prism_201Penelope-2_20010501  [Demeo_et_al_2009_Xk]            Xk\n",
       "16    spex-prism_201Penelope-2_20010502   [Demeo_et_al_2009_T]            Xk\n",
       "17  spex-prism_201Penelope-3-1_20010502  [Demeo_et_al_2009_Xk]            Xk\n",
       "18  spex-prism_201Penelope-3-2_20010502  [Demeo_et_al_2009_Xc]            Xk\n",
       "19    spex-prism_201Penelope-3_20010501  [Demeo_et_al_2009_Xk]            Xk\n",
       "20    spex-prism_201Penelope-4_20010501   [Demeo_et_al_2009_X]            Xk\n",
       "21    spex-prism_201Penelope-4_20010502   [Demeo_et_al_2009_X]            Xk\n",
       "22  spex-prism_201Penelope-5-2_20010502  [Demeo_et_al_2009_Xk]            Xk\n",
       "23  spex-prism_201Penelope-5.1_20010502  [Demeo_et_al_2009_Xc]            Xk\n",
       "24  spex-prism_201Penelope-6-1_20010502   [Demeo_et_al_2009_B]            Xk\n",
       "25  spex-prism_201Penelope-6-2_20010502   [Demeo_et_al_2009_X]            Xk\n",
       "26      spex-prism_201Penelope_20010501   [Demeo_et_al_2009_T]            Xk\n",
       "27   spex-prism_216Kleopatra-2_20010501   [Demeo_et_al_2009_X]            Xe\n",
       "28     spex-prism_216Kleopatra_20010429  [Demeo_et_al_2009_Cb]            Xe\n",
       "29     spex-prism_216Kleopatra_20010501   [Demeo_et_al_2009_X]            Xe\n",
       "30  spex-prism_3999Aristarchus_20010322   [Demeo_et_al_2009_B]            --\n",
       "31     spex-prism_69Hesperia-1_20010502  [Demeo_et_al_2009_Xc]            Xk\n",
       "32     spex-prism_69Hesperia-2_20010501  [Demeo_et_al_2009_Xk]            Xk\n",
       "33     spex-prism_69Hesperia-2_20010502  [Demeo_et_al_2009_Cb]            Xk\n",
       "34     spex-prism_69Hesperia-3_20010501  [Demeo_et_al_2009_Xk]            Xk\n",
       "35     spex-prism_69Hesperia-3_20010502  [Demeo_et_al_2009_Cb]            Xk\n",
       "36     spex-prism_69Hesperia-4_20010502  [Demeo_et_al_2009_Cb]            Xk\n",
       "37     spex-prism_69Hesperia-5_20010502   [Demeo_et_al_2009_X]            Xk\n",
       "38   spex-prism_69Hesperia-6-1_20010502  [Demeo_et_al_2009_Xc]            Xk\n",
       "39   spex-prism_69Hesperia-6-2_20010502  [Demeo_et_al_2009_Xc]            Xk\n",
       "40       spex-prism_69Hesperia_20010501  [Demeo_et_al_2009_Cb]            Xk\n",
       "41     spex-prism_Asteroid5587_20010502  [Demeo_et_al_2009_Sv]            Sr\n",
       "42     spex-prism_Asteroid5604_20010501   [Demeo_et_al_2009_V]             V\n",
       "43     spex-prism_Asteroid5604_20010502   [Demeo_et_al_2009_V]             V\n",
       "44             spex-prism_Hebe_20010428   [Demeo_et_al_2009_S]            --\n",
       "45             spex_prism_1658_20010129  [Demeo_et_al_2009_Sq]            Sw\n",
       "46            spex_prism_18736_20010129   [Demeo_et_al_2009_R]            Sw\n",
       "47            spex_prism_19356_20010129  [Demeo_et_al_2009_Sq]            Sq\n",
       "48          spex_prism_1992BL2_20010129  [Demeo_et_al_2009_Sa]            --\n",
       "49        spex_prism_2000SS164_20010129   [Demeo_et_al_2009_K]            --\n",
       "50            spex_prism_20429_20010129  [Demeo_et_al_2009_Sq]            --\n",
       "51               spex_prism_25_20010129  [Demeo_et_al_2009_Sq]             S\n",
       "52             spex_prism_3199_20010129  [Demeo_et_al_2009_Sa]             K\n",
       "53               spex_prism_32_20010129   [Demeo_et_al_2009_S]            Sw\n",
       "54              spex_prism_359_20010129   [Demeo_et_al_2009_T]            Xk\n",
       "55     spex_prism_land102-1081_20010129  [Demeo_et_al_2009_Xc]            --"
      ]
     },
     "execution_count": 288,
     "metadata": {},
     "output_type": "execute_result"
    }
   ],
   "source": [
    "df = pd.DataFrame(data=d)\n",
    "df"
   ]
  },
  {
   "cell_type": "markdown",
   "id": "328258af-46c0-4378-ad4d-64137495a2f3",
   "metadata": {},
   "source": [
    "___"
   ]
  },
  {
   "cell_type": "markdown",
   "id": "d8c7ef63-4602-4b1e-882e-c2b4608db8a4",
   "metadata": {},
   "source": [
    "From this small sample group, **10/47** spectra fits were categorized the same as published in Demeo 2009.  \n",
    "simpleCompare often reach classifications of the same complex, but a different sub-class. (**20/47**)  \n",
    "There also seems to be difficulty in classifying classes when slope is the main determiner. Classes of similar shape, but different depth/width of absorption even across complexes and when absoprtion features are lacking appear to have tricked simpleCompare.  \n",
    "Correct and close $\\rightarrow$ 30/47 = 63.8%    \n",
    "Mistaken Identity $\\rightarrow$ 17/47 = 36.2%\n",
    "\n",
    "\n",
    "simpleCompare could be good, but not reliable and rigorous. \n",
    "___"
   ]
  },
  {
   "cell_type": "markdown",
   "id": "02fd0ea8-3b36-45ed-9efc-3e16ab753fd1",
   "metadata": {},
   "source": [
    "### IR only, as an \"an intermediate tool to indicate classes\""
   ]
  },
  {
   "cell_type": "markdown",
   "id": "fb61421e-7d3d-4b1e-b49d-7c72825058a6",
   "metadata": {
    "tags": []
   },
   "source": [
    "For **C** and **X** in IR, we expect to see these two types occupy the same space in PCA as distinguishing features are in the visible range.    \n",
    "Author notes \"**L-type** objects may be mixed in with our definition of **Sv- and R-types** because they do not fully separate in all cases.\"    \n",
    "**Cg, Cgh, Xc, Xe**, and **Xk** objects requires visible wavelength   \n",
    "That leaves us with **D, K, L, O, Q, R, S, Sa, Sq, Sr, Sv, T, V**\n",
    "\n",
    "End members: D, K, L, T, A, O, Q, R V\n",
    "In Demeo 2009, the team began with End Members first."
   ]
  },
  {
   "cell_type": "markdown",
   "id": "a367768b-fe5a-4883-ba3e-055445017fc9",
   "metadata": {},
   "source": [
    "#### S Complex - example 1036Ganymed (S), simpleClassify => L\n",
    "Appear to coincide with Demeo's observation   \n",
    "J: dip near 1 micron could be key to ID S complexes vs some End Members  \n",
    "Careful as S complex appear similar in IR  \n",
    "Slope could become distinguishing factor (e.g. Sa and S share similar absorption features, but Sa has greater slope in 1-1.5 $\\mu m$).  \n",
    "*Consider removing noisy region > 2.50 $\\mu m$, may help?* --> still categorized as L"
   ]
  },
  {
   "cell_type": "code",
   "execution_count": 216,
   "id": "a462ea65-4cdf-464d-b060-dbc17a35c7d8",
   "metadata": {},
   "outputs": [
    {
     "data": {
      "image/png": "[encoded data removed]",
      "text/plain": [
       "<Figure size 432x288 with 1 Axes>"
      ]
     },
     "metadata": {
      "needs_background": "light"
     },
     "output_type": "display_data"
    },
    {
     "data": {
      "text/plain": [
       "[<Figure size 432x288 with 1 Axes>]"
      ]
     },
     "execution_count": 216,
     "metadata": {},
     "output_type": "execute_result"
    },
    {
     "data": {
      "text/plain": [
       "<Figure size 432x288 with 0 Axes>"
      ]
     },
     "metadata": {},
     "output_type": "display_data"
    }
   ],
   "source": [
    "spS = sp.Spectrum('D:\\\\PythonCodes\\\\JupyterWorkspace\\\\spex-prism_1036Ganymed_20010322.fits')\n",
    "spS.plot()"
   ]
  },
  {
   "cell_type": "code",
   "execution_count": 245,
   "id": "3589ef9d-399e-40f3-8680-68294f4d975a",
   "metadata": {
    "collapsed": true,
    "jupyter": {
     "outputs_hidden": true
    },
    "tags": []
   },
   "outputs": [
    {
     "data": {
      "text/plain": [
       "\u001b[1;31mSignature:\u001b[0m \u001b[0msplat\u001b[0m\u001b[1;33m.\u001b[0m\u001b[0mSpectrum\u001b[0m\u001b[1;33m.\u001b[0m\u001b[0mtrim\u001b[0m\u001b[1;33m(\u001b[0m\u001b[0mself\u001b[0m\u001b[1;33m,\u001b[0m \u001b[0mrng\u001b[0m\u001b[1;33m,\u001b[0m \u001b[1;33m**\u001b[0m\u001b[0mkwargs\u001b[0m\u001b[1;33m)\u001b[0m\u001b[1;33m\u001b[0m\u001b[1;33m\u001b[0m\u001b[0m\n",
       "\u001b[1;31mDocstring:\u001b[0m\n",
       ":Purpose: \n",
       "    Trims a spectrum to be within a certain wavelength range or set of ranges. \n",
       "    Data outside of these ranges are excised from the wave, flux and noise arrays. \n",
       "    The full spectrum can be restored with the reset() procedure.\n",
       "\n",
       ":Required Inputs: \n",
       "\n",
       "    :param range: the range(s) over which the spectrum is retained - a series of nested 2-element arrays\n",
       "\n",
       ":Optional Inputs: \n",
       "\n",
       "    None\n",
       "\n",
       ":Example:\n",
       "   >>> import splat\n",
       "   >>> sp = splat.getSpectrum(lucky=True)[0]\n",
       "   >>> sp.smoothfluxMax()\n",
       "   <Quantity 1.0577336634332284e-14 erg / (cm2 micron s)>\n",
       "   >>> sp.computeSN()\n",
       "   124.5198\n",
       "   >>> sp.scale(1.e15)\n",
       "   >>> sp.fluxMax()\n",
       "   <Quantity 1.0577336549758911 erg / (cm2 micron s)>\n",
       "   >>> sp.computeSN()\n",
       "   124.51981\n",
       "\u001b[1;31mFile:\u001b[0m      d:\\pythoncodes\\splat\\splat\\core.py\n",
       "\u001b[1;31mType:\u001b[0m      function\n"
      ]
     },
     "metadata": {},
     "output_type": "display_data"
    }
   ],
   "source": [
    "splat.Spectrum.trim?"
   ]
  },
  {
   "cell_type": "code",
   "execution_count": 222,
   "id": "86cab834-157d-4a0c-9784-55cfa8e2c622",
   "metadata": {},
   "outputs": [
    {
     "data": {
      "image/png": "[encoded data removed]",
      "text/plain": [
       "<Figure size 432x288 with 1 Axes>"
      ]
     },
     "metadata": {
      "needs_background": "light"
     },
     "output_type": "display_data"
    },
    {
     "data": {
      "text/plain": [
       "[<Figure size 432x288 with 1 Axes>]"
      ]
     },
     "execution_count": 222,
     "metadata": {},
     "output_type": "execute_result"
    },
    {
     "data": {
      "text/plain": [
       "<Figure size 432x288 with 0 Axes>"
      ]
     },
     "metadata": {},
     "output_type": "display_data"
    }
   ],
   "source": [
    "spS_copy = spS\n",
    "spS_copy.normalize()\n",
    "spS_copy.plot()"
   ]
  },
  {
   "cell_type": "code",
   "execution_count": 225,
   "id": "a20a6d71-8193-4355-9796-4b6e7830d2a9",
   "metadata": {},
   "outputs": [],
   "source": [
    "troubleShoot = fits.open('D:\\\\PythonCodes\\\\JupyterWorkspace\\\\spex-prism_1036Ganymed_20010322.fits')"
   ]
  },
  {
   "cell_type": "code",
   "execution_count": 232,
   "id": "449dc5fc-9643-4d50-88c6-845da4b5b3e2",
   "metadata": {},
   "outputs": [],
   "source": [
    "tblshoot = fits.getdata('D:\\\\PythonCodes\\\\JupyterWorkspace\\\\spex-prism_1036Ganymed_20010322.fits')"
   ]
  },
  {
   "cell_type": "code",
   "execution_count": 244,
   "id": "c0f8e31c-8a95-4d6b-a615-1e5a841461d3",
   "metadata": {},
   "outputs": [
    {
     "data": {
      "text/plain": [
       "<matplotlib.image.AxesImage at 0x2360c401670>"
      ]
     },
     "execution_count": 244,
     "metadata": {},
     "output_type": "execute_result"
    },
    {
     "data": {
      "image/png": "[encoded data removed]",
      "text/plain": [
       "<Figure size 432x288 with 1 Axes>"
      ]
     },
     "metadata": {
      "needs_background": "light"
     },
     "output_type": "display_data"
    }
   ],
   "source": [
    "plt.imshow(tblshoot, aspect='auto')"
   ]
  },
  {
   "cell_type": "code",
   "execution_count": 249,
   "id": "aeeb47dd-7231-46b9-92ba-f8bbe1b63512",
   "metadata": {},
   "outputs": [],
   "source": [
    "spS_copy.trim([0.6,2.5])"
   ]
  },
  {
   "cell_type": "code",
   "execution_count": 250,
   "id": "c8a1c011-99b2-4e36-9ff6-ca331d450468",
   "metadata": {},
   "outputs": [
    {
     "data": {
      "image/png": "[encoded data removed]",
      "text/plain": [
       "<Figure size 432x288 with 1 Axes>"
      ]
     },
     "metadata": {
      "needs_background": "light"
     },
     "output_type": "display_data"
    },
    {
     "data": {
      "text/plain": [
       "[<Figure size 432x288 with 1 Axes>]"
      ]
     },
     "execution_count": 250,
     "metadata": {},
     "output_type": "execute_result"
    },
    {
     "data": {
      "text/plain": [
       "<Figure size 432x288 with 0 Axes>"
      ]
     },
     "metadata": {},
     "output_type": "display_data"
    }
   ],
   "source": [
    "spS_copy.plot()"
   ]
  },
  {
   "cell_type": "code",
   "execution_count": 289,
   "id": "ab9af5d7-2c94-4dc5-8441-7599d6e2987c",
   "metadata": {
    "tags": []
   },
   "outputs": [
    {
     "data": {
      "text/plain": [
       "array(['Demeo_et_al_2009_L'], dtype='<U20')"
      ]
     },
     "execution_count": 289,
     "metadata": {},
     "output_type": "execute_result"
    }
   ],
   "source": [
    "simpleClassify(spS_copy, 'demeo')[1]"
   ]
  },
  {
   "cell_type": "code",
   "execution_count": 312,
   "id": "35bb060f-123a-4e72-8176-3d1238339b2c",
   "metadata": {},
   "outputs": [],
   "source": [
    "f1wave, f1flux, f1sig, f1avg = np.transpose(np.genfromtxt('D:\\\\PythonCodes\\\\JupyterWorkspace\\\\MITHNEOS_data/sp291/a022099.sp291.txt'))"
   ]
  },
  {
   "cell_type": "code",
   "execution_count": 304,
   "id": "4eb44707-7d34-4dd7-8349-a6541468caa5",
   "metadata": {},
   "outputs": [],
   "source": [
    "# sp3 = sp.Spectrum('D:\\\\PythonCodes\\\\JupyterWorkspace\\\\MITHNEOS_data/sp291/a022099.sp291.txt')"
   ]
  },
  {
   "cell_type": "code",
   "execution_count": 313,
   "id": "09545884-bf2d-4341-832f-e29d9feff6c6",
   "metadata": {},
   "outputs": [
    {
     "data": {
      "text/plain": [
       "(array([0.65 , 0.655, 0.66 , 0.665, 0.67 , 0.675, 0.68 , 0.685, 0.69 ,\n",
       "        0.695, 0.7  , 0.705, 0.71 , 0.715, 0.72 , 0.725, 0.73 , 0.735,\n",
       "        0.74 , 0.745, 0.75 , 0.755, 0.76 , 0.765, 0.77 , 0.775, 0.78 ,\n",
       "        0.785, 0.79 , 0.795, 0.8  , 0.805, 0.81 , 0.815, 0.82 , 0.825,\n",
       "        0.83 , 0.835, 0.84 , 0.845, 0.85 , 0.855, 0.86 , 0.865, 0.87 ,\n",
       "        0.875, 0.88 , 0.885, 0.89 , 0.895, 0.9  , 0.905, 0.91 , 0.915,\n",
       "        0.92 , 0.925, 0.93 , 0.935, 0.94 , 0.945, 0.95 , 0.955, 0.96 ,\n",
       "        0.965, 0.97 , 0.975, 0.98 , 0.985, 0.99 , 0.995, 1.   , 1.005,\n",
       "        1.01 , 1.015, 1.02 , 1.025, 1.03 , 1.035, 1.04 , 1.045, 1.05 ,\n",
       "        1.055, 1.06 , 1.065, 1.07 , 1.075, 1.08 , 1.085, 1.09 , 1.095,\n",
       "        1.1  , 1.105, 1.11 , 1.115, 1.12 , 1.125, 1.13 , 1.135, 1.14 ,\n",
       "        1.145, 1.15 , 1.155, 1.16 , 1.165, 1.17 , 1.175, 1.18 , 1.185,\n",
       "        1.19 , 1.195, 1.2  , 1.205, 1.21 , 1.215, 1.22 , 1.225, 1.23 ,\n",
       "        1.235, 1.24 , 1.245, 1.25 , 1.255, 1.26 , 1.265, 1.27 , 1.275,\n",
       "        1.28 , 1.285, 1.29 , 1.295, 1.3  , 1.305, 1.31 , 1.315, 1.32 ,\n",
       "        1.325, 1.33 , 1.335, 1.34 , 1.345, 1.35 , 1.355, 1.36 , 1.365,\n",
       "        1.37 , 1.375, 1.38 , 1.385, 1.39 , 1.395, 1.4  , 1.405, 1.41 ,\n",
       "        1.415, 1.42 , 1.425, 1.43 , 1.435, 1.44 , 1.445, 1.45 , 1.455,\n",
       "        1.46 , 1.465, 1.47 , 1.475, 1.48 , 1.485, 1.49 , 1.495, 1.5  ,\n",
       "        1.505, 1.51 , 1.515, 1.52 , 1.525, 1.53 , 1.535, 1.54 , 1.545,\n",
       "        1.55 , 1.555, 1.56 , 1.565, 1.57 , 1.575, 1.58 , 1.585, 1.59 ,\n",
       "        1.595, 1.6  , 1.605, 1.61 , 1.615, 1.62 , 1.625, 1.63 , 1.635,\n",
       "        1.64 , 1.645, 1.65 , 1.655, 1.66 , 1.665, 1.67 , 1.675, 1.68 ,\n",
       "        1.685, 1.69 , 1.695, 1.7  , 1.705, 1.71 , 1.715, 1.72 , 1.725,\n",
       "        1.73 , 1.735, 1.74 , 1.745, 1.75 , 1.755, 1.76 , 1.765, 1.77 ,\n",
       "        1.775, 1.78 , 1.785, 1.79 , 1.795, 1.8  , 1.805, 1.81 , 1.815,\n",
       "        1.82 , 1.825, 1.83 , 1.835, 1.84 , 1.845, 1.85 , 1.855, 1.86 ,\n",
       "        1.865, 1.87 , 1.875, 1.88 , 1.885, 1.89 , 1.895, 1.9  , 1.905,\n",
       "        1.91 , 1.915, 1.92 , 1.925, 1.93 , 1.935, 1.94 , 1.945, 1.95 ,\n",
       "        1.955, 1.96 , 1.965, 1.97 , 1.975, 1.98 , 1.985, 1.99 , 1.995,\n",
       "        2.   , 2.005, 2.01 , 2.015, 2.02 , 2.025, 2.03 , 2.035, 2.04 ,\n",
       "        2.045, 2.05 , 2.055, 2.06 , 2.065, 2.07 , 2.075, 2.08 , 2.085,\n",
       "        2.09 , 2.095, 2.1  , 2.105, 2.11 , 2.115, 2.12 , 2.125, 2.13 ,\n",
       "        2.135, 2.14 , 2.145, 2.15 , 2.155, 2.16 , 2.165, 2.17 , 2.175,\n",
       "        2.18 , 2.185, 2.19 , 2.195, 2.2  , 2.205, 2.21 , 2.215, 2.22 ,\n",
       "        2.225, 2.23 , 2.235, 2.24 , 2.245, 2.25 , 2.255, 2.26 , 2.265,\n",
       "        2.27 , 2.275, 2.28 , 2.285, 2.29 , 2.295, 2.3  , 2.305, 2.31 ,\n",
       "        2.315, 2.32 , 2.325, 2.33 , 2.335, 2.34 , 2.345, 2.35 , 2.355,\n",
       "        2.36 , 2.365, 2.37 , 2.375, 2.38 , 2.385, 2.39 , 2.395, 2.4  ,\n",
       "        2.405, 2.41 , 2.415, 2.42 , 2.425, 2.43 , 2.435, 2.44 , 2.445,\n",
       "        2.45 , 2.455, 2.46 , 2.465, 2.47 , 2.475, 2.48 , 2.485, 2.49 ]),\n",
       " array([-1.    , -1.    , -1.    , -1.    ,  1.4836,  1.3966,  1.3253,\n",
       "         1.4074,  1.2961,  1.3157,  1.3086,  1.2808,  1.2773,  1.3631,\n",
       "         1.2634,  1.3309,  1.321 ,  1.3026,  1.2872,  1.2828, -1.    ,\n",
       "        -1.    ,  1.2984,  1.2595,  1.2367,  1.2418,  1.2607,  1.2378,\n",
       "         1.1976,  1.2172,  1.1874,  1.1903,  1.1845,  1.1822,  1.1803,\n",
       "         1.1551,  1.126 ,  1.1211,  1.1187,  1.1042,  1.0937,  1.0814,\n",
       "         1.0987,  1.1118,  1.12  ,  1.1045,  1.0802,  1.079 ,  1.0725,\n",
       "         1.0463,  1.0481,  1.0458,  1.0264,  1.0276,  1.0321,  1.0544,\n",
       "         1.0569,  1.0236,  0.9962,  1.0094,  1.0234,  1.0253,  1.0302,\n",
       "         1.0348,  1.039 ,  1.0208,  0.9955,  1.0066,  1.0163,  1.0239,\n",
       "         1.0274,  1.0167,  1.0066,  1.0085,  0.9981,  0.9955,  1.0007,\n",
       "         0.9992,  0.9823,  0.9971,  1.0253,  1.024 ,  0.9958,  1.0035,\n",
       "         1.0198,  1.0314,  1.0413,  1.0534,  1.0702,  1.0595,  1.0609,\n",
       "         1.08  ,  1.0448,  1.0324,  1.0676,  1.0854,  1.053 ,  1.0369,\n",
       "         1.0541,  1.0657,  1.0953,  1.1373,  1.113 ,  1.0932,  1.1034,\n",
       "         1.1232,  1.1412,  1.1194,  1.13  ,  1.1428,  1.1374,  1.165 ,\n",
       "         1.1738,  1.1585,  1.1773,  1.1918,  1.1876,  1.1484,  1.135 ,\n",
       "         1.1322,  1.1555,  1.1759,  1.1796,  1.1637,  1.1441,  1.1442,\n",
       "         1.1814,  1.1808,  1.1763,  1.2419,  1.2154,  1.1804,  1.1574,\n",
       "         1.1765,  1.1986,  1.1953,  1.1919,  1.2129,  1.2293,  1.2413,\n",
       "         1.2593, -1.    , -1.    ,  1.1783,  1.1895,  1.2407,  1.2371,\n",
       "         1.2335,  1.2129,  1.1816,  1.1751,  1.2202,  1.2442,  1.1994,\n",
       "         1.1825,  1.2383,  1.2246,  1.1747,  1.2394,  1.2514,  1.2337,\n",
       "         1.2284,  1.2364,  1.2422,  1.269 ,  1.2594,  1.2367,  1.2836,\n",
       "         1.2813,  1.3123,  1.3068,  1.2766,  1.2328,  1.2847,  1.2937,\n",
       "         1.3119,  1.2655,  1.2169,  1.2635,  1.3104,  1.3204,  1.2982,\n",
       "         1.2802,  1.2725,  1.2579,  1.2455,  1.2727,  1.2932,  1.3035,\n",
       "         1.3483,  1.3052,  1.2901,  1.386 ,  1.4065,  1.3376,  1.3622,\n",
       "         1.4048,  1.3364,  1.2596,  1.2675,  1.3256,  1.3435,  1.3453,\n",
       "         1.3158,  1.3075,  1.3258,  1.3286,  1.3225,  1.3227,  1.2536,\n",
       "         1.2074,  1.2458,  1.2652,  1.2369,  1.2001,  1.208 ,  1.2602,\n",
       "         1.3043,  1.2916,  1.2667,  1.2766,  1.427 ,  1.3704,  1.2913,\n",
       "         1.2633,  1.2788,  1.2601,  1.2781,  1.3482,  1.3508,  1.3522,\n",
       "         1.3047,  1.2775,  1.3104,  1.2828,  1.209 ,  1.1963,  1.2224,\n",
       "         1.2155,  1.13  ,  1.2896,  1.2437,  1.1923,  1.1683, -1.    ,\n",
       "         1.3699,  1.3961,  1.2994,  1.1823,  1.0773,  1.3686,  1.3549,\n",
       "        -1.    ,  1.385 ,  1.3413,  1.2363,  1.2331,  1.2622,  1.1713,\n",
       "         1.1814,  1.2339,  1.3513,  1.3671,  1.3244,  1.2631,  1.207 ,\n",
       "         1.2094,  1.2295,  1.2437,  1.1627,  1.1366,  1.176 ,  1.2349,\n",
       "         1.3714,  1.36  ,  1.2793,  1.2284,  1.219 ,  1.1678,  1.1661,\n",
       "         1.15  ,  1.1324,  1.197 ,  1.3005,  1.2843,  1.1882,  1.1527,\n",
       "         1.2347,  1.2577,  1.2217,  1.2328,  1.2066,  1.2334,  1.2007,\n",
       "         1.2021,  1.2874,  1.2696,  1.2364,  1.2666,  1.3088,  1.3581,\n",
       "         1.2716,  1.1459,  1.1072,  1.1389,  1.1825,  1.1069,  1.0121,\n",
       "         1.2218,  1.3   ,  1.2085,  1.1794,  1.2194,  1.2054,  1.2382,\n",
       "         1.3134,  1.2635,  1.1029,  1.146 ,  1.2888,  1.214 ,  1.1484,\n",
       "         1.182 ,  1.2782,  1.2339,  1.1825,  1.2137,  1.2626,  1.2403,\n",
       "         1.3354,  1.2899,  1.2945,  1.3251,  1.3155,  1.231 ,  1.2052,\n",
       "         1.2601,  1.2956,  1.185 ,  1.0797, -1.    , -1.    ,  1.0613,\n",
       "         1.0599,  1.2834,  1.3817,  1.3376,  1.3297,  1.2774,  1.4022,\n",
       "        -1.    ,  1.2273,  1.1894,  1.2172,  1.1573,  1.2215, -1.    ,\n",
       "        -1.    ,  1.0399,  1.0271,  1.0352, -1.    , -1.    , -1.    ,\n",
       "        -1.    , -1.    , -1.    , -1.    , -1.    ]),\n",
       " array([-1.    , -1.    , -1.    , -1.    ,  0.1689,  0.1139,  0.0923,\n",
       "         0.0744,  0.0557,  0.0456,  0.0408,  0.0386,  0.0347,  0.036 ,\n",
       "         0.0317,  0.0306,  0.0292,  0.0268,  0.0253,  0.0256, -1.    ,\n",
       "        -1.    ,  0.0261,  0.0237,  0.0217,  0.0211,  0.0211,  0.0215,\n",
       "         0.0205,  0.021 ,  0.02  ,  0.0198,  0.0197,  0.0209,  0.0193,\n",
       "         0.0198,  0.0186,  0.0189,  0.0183,  0.0181,  0.0186,  0.0177,\n",
       "         0.0182,  0.0182,  0.0174,  0.0172,  0.0173,  0.0162,  0.0171,\n",
       "         0.0178,  0.0165,  0.0169,  0.0163,  0.0153,  0.0145,  0.0152,\n",
       "         0.0171,  0.0164,  0.0178,  0.0164,  0.0172,  0.0154,  0.0153,\n",
       "         0.0152,  0.0154,  0.0146,  0.0138,  0.0137,  0.0142,  0.0136,\n",
       "         0.0136,  0.0137,  0.0129,  0.0134,  0.0125,  0.0125,  0.0136,\n",
       "         0.0146,  0.0127,  0.0144,  0.0135,  0.0127,  0.0141,  0.0133,\n",
       "         0.0139,  0.0138,  0.0135,  0.0137,  0.0153,  0.0136,  0.0145,\n",
       "         0.0142,  0.0144,  0.0144,  0.0159,  0.0168,  0.017 ,  0.0179,\n",
       "         0.0168,  0.0154,  0.0157,  0.0159,  0.0158,  0.0152,  0.0164,\n",
       "         0.0158,  0.0149,  0.0141,  0.0161,  0.0145,  0.015 ,  0.0173,\n",
       "         0.0157,  0.0167,  0.02  ,  0.0177,  0.0166,  0.0156,  0.0156,\n",
       "         0.0149,  0.016 ,  0.0157,  0.0168,  0.0174,  0.0176,  0.0178,\n",
       "         0.0185,  0.017 ,  0.0189,  0.017 ,  0.0175,  0.0179,  0.0158,\n",
       "         0.0166,  0.0168,  0.0171,  0.0175,  0.0166,  0.0195,  0.0203,\n",
       "         0.0227, -1.    , -1.    ,  0.04  ,  0.0415,  0.0412,  0.0392,\n",
       "         0.0338,  0.0337,  0.0342,  0.0311,  0.0356,  0.03  ,  0.0261,\n",
       "         0.0261,  0.0259,  0.0287,  0.0239,  0.0225,  0.0233,  0.0237,\n",
       "         0.0225,  0.0204,  0.0212,  0.0229,  0.0209,  0.0216,  0.0192,\n",
       "         0.021 ,  0.0209,  0.0206,  0.0203,  0.0195,  0.0187,  0.0199,\n",
       "         0.0187,  0.0188,  0.019 ,  0.0189,  0.0189,  0.0184,  0.0208,\n",
       "         0.022 ,  0.0207,  0.02  ,  0.0206,  0.0201,  0.02  ,  0.0195,\n",
       "         0.0219,  0.0204,  0.0208,  0.0218,  0.0209,  0.0192,  0.0204,\n",
       "         0.0223,  0.0209,  0.021 ,  0.0192,  0.0209,  0.0206,  0.0236,\n",
       "         0.0224,  0.0223,  0.0219,  0.0231,  0.0211,  0.0216,  0.0202,\n",
       "         0.0231,  0.0216,  0.0218,  0.0201,  0.0217,  0.0234,  0.0256,\n",
       "         0.0259,  0.0232,  0.0243,  0.0228,  0.0293,  0.0246,  0.0235,\n",
       "         0.0237,  0.0261,  0.0236,  0.0263,  0.0274,  0.031 ,  0.0354,\n",
       "         0.0331,  0.0348,  0.0403,  0.0438,  0.0462,  0.0509,  0.0679,\n",
       "         0.0635,  0.0654,  0.0677,  0.0631,  0.0739,  0.0719, -1.    ,\n",
       "         0.0617,  0.0619,  0.048 ,  0.0493,  0.0495,  0.0618,  0.0642,\n",
       "        -1.    ,  0.0535,  0.0522,  0.0487,  0.0467,  0.0399,  0.0382,\n",
       "         0.0388,  0.039 ,  0.0429,  0.0426,  0.0372,  0.0397,  0.0337,\n",
       "         0.0328,  0.0319,  0.0324,  0.0396,  0.0481,  0.0561,  0.0496,\n",
       "         0.0524,  0.0459,  0.0437,  0.0329,  0.0352,  0.033 ,  0.0365,\n",
       "         0.0394,  0.0385,  0.0404,  0.0368,  0.0383,  0.0406,  0.0336,\n",
       "         0.0343,  0.0352,  0.0358,  0.0346,  0.0364,  0.034 ,  0.0336,\n",
       "         0.0376,  0.0341,  0.0339,  0.0381,  0.045 ,  0.0398,  0.039 ,\n",
       "         0.0377,  0.037 ,  0.0375,  0.0393,  0.0401,  0.0387,  0.0388,\n",
       "         0.0388,  0.0462,  0.0444,  0.0381,  0.0385,  0.0384,  0.0387,\n",
       "         0.0404,  0.0445,  0.0363,  0.0419,  0.0438,  0.0401,  0.0419,\n",
       "         0.0439,  0.0446,  0.0475,  0.0498,  0.0432,  0.0506,  0.0458,\n",
       "         0.0532,  0.0459,  0.0543,  0.0524,  0.0583,  0.0466,  0.0484,\n",
       "         0.0515,  0.0495,  0.0515,  0.0543, -1.    , -1.    ,  0.0525,\n",
       "         0.055 ,  0.0616,  0.0616,  0.0621,  0.0602,  0.0592,  0.0584,\n",
       "        -1.    ,  0.0648,  0.0668,  0.0659,  0.0694,  0.0628, -1.    ,\n",
       "        -1.    ,  0.0649,  0.064 ,  0.0751, -1.    , -1.    , -1.    ,\n",
       "        -1.    , -1.    , -1.    , -1.    , -1.    ]),\n",
       " array([0., 0., 0., 0., 3., 3., 3., 3., 3., 3., 3., 3., 3., 3., 3., 3., 3.,\n",
       "        3., 3., 3., 0., 0., 3., 3., 3., 3., 3., 3., 3., 3., 3., 3., 3., 3.,\n",
       "        3., 3., 3., 3., 3., 3., 3., 3., 3., 3., 3., 3., 3., 3., 3., 3., 3.,\n",
       "        3., 3., 3., 3., 3., 3., 3., 3., 3., 3., 3., 3., 3., 3., 3., 3., 3.,\n",
       "        3., 3., 3., 3., 3., 3., 3., 3., 3., 3., 3., 3., 3., 3., 3., 3., 3.,\n",
       "        3., 3., 3., 3., 3., 3., 3., 3., 3., 3., 3., 3., 3., 3., 3., 3., 3.,\n",
       "        2., 3., 3., 3., 3., 3., 3., 3., 3., 3., 3., 3., 3., 3., 3., 3., 2.,\n",
       "        3., 3., 3., 3., 3., 3., 3., 3., 3., 2., 2., 3., 3., 3., 3., 3., 3.,\n",
       "        3., 3., 3., 2., 2., 0., 0., 2., 3., 3., 3., 3., 3., 2., 3., 3., 3.,\n",
       "        3., 3., 3., 3., 1., 2., 3., 3., 3., 3., 3., 3., 3., 3., 3., 3., 3.,\n",
       "        1., 2., 3., 3., 3., 3., 3., 3., 3., 3., 3., 3., 3., 3., 3., 3., 3.,\n",
       "        3., 3., 3., 3., 3., 3., 3., 3., 3., 3., 3., 3., 3., 3., 3., 3., 3.,\n",
       "        3., 3., 3., 3., 3., 3., 3., 3., 3., 3., 3., 3., 3., 3., 3., 3., 3.,\n",
       "        3., 3., 3., 3., 3., 3., 3., 3., 3., 3., 3., 3., 3., 3., 3., 3., 3.,\n",
       "        1., 2., 3., 3., 3., 2., 0., 2., 3., 3., 3., 1., 2., 1., 0., 3., 3.,\n",
       "        3., 3., 3., 3., 3., 3., 3., 3., 3., 3., 3., 3., 3., 3., 3., 3., 3.,\n",
       "        3., 3., 3., 3., 3., 3., 3., 3., 3., 3., 3., 3., 3., 3., 3., 3., 3.,\n",
       "        3., 3., 3., 3., 3., 3., 3., 3., 3., 3., 3., 3., 3., 3., 3., 3., 3.,\n",
       "        3., 2., 3., 3., 3., 3., 3., 3., 3., 3., 3., 2., 3., 3., 3., 3., 3.,\n",
       "        3., 3., 3., 3., 3., 3., 3., 3., 3., 3., 3., 3., 3., 3., 3., 2., 1.,\n",
       "        0., 0., 1., 1., 2., 3., 3., 3., 3., 3., 0., 2., 3., 3., 3., 3., 0.,\n",
       "        0., 2., 3., 1., 0., 0., 0., 0., 0., 0., 0., 0.]))"
      ]
     },
     "execution_count": 313,
     "metadata": {},
     "output_type": "execute_result"
    }
   ],
   "source": [
    "f1wave, f1flux, f1sig, f1avg"
   ]
  },
  {
   "cell_type": "code",
   "execution_count": 307,
   "id": "6e3a36a8-9fdf-4e7a-8836-6d29f455223e",
   "metadata": {},
   "outputs": [],
   "source": [
    "f2 = (np.genfromtxt('D:\\\\PythonCodes\\\\JupyterWorkspace\\\\MITHNEOS_data/sp291/a022099.sp291.txt'))"
   ]
  },
  {
   "cell_type": "code",
   "execution_count": 311,
   "id": "3409cecf-185e-4cf3-b15c-b76df3b7c66f",
   "metadata": {},
   "outputs": [
    {
     "data": {
      "text/plain": [
       "array([ 0.65, -1.  , -1.  ,  0.  ])"
      ]
     },
     "execution_count": 311,
     "metadata": {},
     "output_type": "execute_result"
    }
   ],
   "source": [
    "f2[0]"
   ]
  },
  {
   "cell_type": "code",
   "execution_count": null,
   "id": "f16a242c-0c10-4ac1-95d2-d32e37be63c8",
   "metadata": {},
   "outputs": [],
   "source": []
  },
  {
   "cell_type": "markdown",
   "id": "2ecf117c-0a0b-4915-8788-0d9365ea3402",
   "metadata": {},
   "source": [
    "Attempting PCA below \n",
    "1) map different data on properties/variables as points\n",
    "    - First principal axis (PA) $\\rightarrow$ max(variance)\n",
    "    - 2nd PA $\\rightarrow$ $PA_2 \\perp PA_1$\n",
    "   \n",
    "in paper, helpful to see decision tree in apx B."
   ]
  },
  {
   "cell_type": "code",
   "execution_count": null,
   "id": "446e057d-948f-4b3d-805a-dbf1ae49861f",
   "metadata": {},
   "outputs": [],
   "source": []
  },
  {
   "cell_type": "code",
   "execution_count": null,
   "id": "f6ce3dd7-cdc3-4c0e-a0d7-fa454f0b0e2e",
   "metadata": {},
   "outputs": [],
   "source": []
  },
  {
   "cell_type": "code",
   "execution_count": null,
   "id": "ba6d084b-ed03-4752-9fad-4ea63f80d14c",
   "metadata": {},
   "outputs": [],
   "source": []
  },
  {
   "cell_type": "markdown",
   "id": "b54b2a9f-01a9-4b52-a223-523e8ec72a69",
   "metadata": {},
   "source": [
    "##### Old Functions\n",
    "---"
   ]
  },
  {
   "cell_type": "code",
   "execution_count": null,
   "id": "e1ad3583-9b23-43dd-8a6b-146d1c9e183e",
   "metadata": {
    "jupyter": {
     "source_hidden": true
    },
    "tags": []
   },
   "outputs": [],
   "source": [
    "#############\n",
    "# functions #\n",
    "#############\n",
    "\n",
    "def saveTemplate(directory: str, saveName: str, classNames): #need revision, update: 'one step' is working\n",
    "#     if not delim: #defaults separation to one space\n",
    "#         delim = ' '\n",
    "    \n",
    "    saveFolderName = saveName + '_Folder'\n",
    "    \n",
    "    #check if save location already existed (e.g. from previous calls)\n",
    "    if os.path.isdir(saveFolderName) == False: os.makedirs(saveFolderName)\n",
    "    if os.path.isdir(saveFolderName+'\\\\csv') == False: \n",
    "        os.makedirs(saveFolderName+'\\\\csv')\n",
    "        os.makedirs(saveFolderName+'\\\\fits')\n",
    "    \n",
    "    temp = pd.read_csv(directory, sep=' ', header=None, index_col=0) #uses col 0 for index\n",
    "    temp.index.name = 'Wave' #dataframe with colomns Wave, and 2 other unnamed colomns\n",
    "    n = 0\n",
    "    tempDict ={}\n",
    "    for j in classNames:\n",
    "        tempDict[j] = temp.iloc[:,[n, n+1]].rename(columns={n+1: 'Flux', n+2: 'Noise'})#.index.names = ['wave']\n",
    "        tempDict.get(j).to_csv(path_or_buf = saveFolderName+'\\\\csv\\\\' + saveName + '_' + j + '.csv' ,sep=',')\n",
    "        print(type(tempDict.get(j)))\n",
    "        splat.Spectrum(saveFolderName+'\\\\csv\\\\'+saveName+'_'+j+'.csv').save(saveFolderName+'\\\\fits\\\\'+saveName+'_'+j+'.fits')  \n",
    "        n += 2\n",
    "\n",
    "\n",
    "def slopeless(inSpec: splat.Spectrum, slope = 0):\n",
    "    x = inSpec.wave.value\n",
    "    y = inSpec.flux.value\n",
    "    dy = inSpec.noise.value\n",
    "    \n",
    "    m,b = np.polyfit(x,y, 1) # returns m, b in y = mx + b, then use this with each value of fpx.wave as x to calculate line\n",
    "    \n",
    "    fitArray = np.empty_like(y, dtype=float)\n",
    "    n = 0\n",
    "    for val in x:\n",
    "        fitArray[n] = m*val+b\n",
    "        n+=1\n",
    "\n",
    "    tDict = {}\n",
    "    tDict['wave'] = x\n",
    "    tDict['flux'] = np.divide(y, fitArray)\n",
    "    tDict['noise'] = np.divide(dy, fitArray)\n",
    "    outSpec = splat.Spectrum(tDict)\n",
    "    outSpec.name =  inSpec.name + '_Slopeless'\n",
    "    \n",
    "    return outSpec\n",
    "\n",
    "    \n",
    "def classifyAsteroid(sp1, scheme, *output, slope=True, folder=False, **kwargs):\n",
    "    \"\"\"\n",
    "    :Purpose: \n",
    "    \n",
    "        Categorize input spectra to a specific available classification scheme.\n",
    "    \n",
    "    :Required Inputs:\n",
    "    \n",
    "        :Param sp1: a single splat.Spectrum\n",
    "        :Param scheme: a dictionary of template spectra from that scheme\n",
    "        \n",
    "    :Optional Inputs:\n",
    "        \n",
    "        :Param showAll: boolean, True: shows the fit scores for all the templates.\n",
    "        :Param plot: boolean, True (default): shows plot of sp1 vs the best template fit determined.\n",
    "        :Param save: boolean, True: saves comparison plot as <sp1 name>_<scheme name>_<class name>.pdf #yet to be implemented\n",
    "        :Param slope: boolean, True(default): slope=False to remove slope during comparison.\n",
    "        \n",
    "    :Output:\n",
    "        \n",
    "        Name of the spectral class and the corresponding fit score.\n",
    "        \n",
    "    \"\"\"\n",
    "    if(kwargs.get('plot') == None):\n",
    "        kwargs['plot'] = True\n",
    "    \n",
    "    fitScores = {}\n",
    "    ranges = [0.85, 2.45]\n",
    "\n",
    "    if(slope == False):\n",
    "        slopelessScheme = {}\n",
    "        for key, template in scheme.items():\n",
    "            slopelessScheme[key] = slopeless(template)\n",
    "        sp1 = slopeless(sp1)\n",
    "        scheme = slopelessScheme\n",
    "        \n",
    "    for key, template in scheme.items():\n",
    "            fitScores[key] = splat.compareSpectra(sp1, template, fit_ranges=ranges, mask_telluric=True, novar2=True)[0]\n",
    "    \n",
    "    bestFitName = min(fitScores, key=fitScores.get)\n",
    "    \n",
    "#     if(kwargs.get('plot') and slope==False):\n",
    "#         splat.compareSpectra(sp1, scheme.get(bestFitName), fit_ranges=ranges, mask_telluric=True, plot=True, novar2=True)\n",
    "#     # elif(kwargs.get('save')):\n",
    "    \n",
    "    if(kwargs.get('plot')):\n",
    "        splat.compareSpectra(sp1, scheme.get(bestFitName), fit_ranges=ranges, mask_telluric=True, novar2=True, plot=True)\n",
    "\n",
    "    if(kwargs.get('showAll')):\n",
    "        return bestFitName, fitScores.get(bestFitName), fitScores\n",
    "    else:\n",
    "        return bestFitName, fitScores.get(bestFitName)\n"
   ]
  }
 ],
 "metadata": {
  "kernelspec": {
   "display_name": "Python 3",
   "language": "python",
   "name": "python3"
  },
  "language_info": {
   "codemirror_mode": {
    "name": "ipython",
    "version": 3
   },
   "file_extension": ".py",
   "mimetype": "text/x-python",
   "name": "python",
   "nbconvert_exporter": "python",
   "pygments_lexer": "ipython3",
   "version": "3.8.8"
  }
 },
 "nbformat": 4,
 "nbformat_minor": 5
}
