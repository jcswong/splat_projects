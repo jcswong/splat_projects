{
 "cells": [
  {
   "cell_type": "markdown",
   "id": "0a40c963-49c3-4e2f-bd79-80ab5ff7aec6",
   "metadata": {},
   "source": [
    "## Cool Star Lab, UCSD   \n",
    "## Joman, 14 July, 2022  \n",
    "---"
   ]
  },
  {
   "cell_type": "markdown",
   "id": "24ad9776-54be-4ec1-ae57-3d57ee9c5471",
   "metadata": {},
   "source": [
    "### imports "
   ]
  },
  {
   "cell_type": "code",
   "execution_count": 1,
   "id": "13b07265-7727-40c4-9d47-c3277c5b2d1a",
   "metadata": {
    "tags": []
   },
   "outputs": [
    {
     "name": "stdout",
     "output_type": "stream",
     "text": [
      "\n",
      "\n",
      "Welcome to the Spex Prism Library Analysis Toolkit (SPLAT)!\n",
      "If you make use of any features of this toolkit for your research, please remember to cite the SPLAT paper:\n",
      "\n",
      "Burgasser et al. (2017, Astro. Soc. India Conf. Series 14, p. 7); Bibcode: 2017ASInC..14....7B\n",
      "\n",
      "If you make use of any spectra or models in this toolkit, please remember to cite the original source.\n",
      "Please report any errors are feature requests to our github page, https://github.com/aburgasser/splat/\n",
      "\n",
      "\n"
     ]
    }
   ],
   "source": [
    "import splat\n",
    "from splat.plot import plotSpectrum"
   ]
  },
  {
   "cell_type": "code",
   "execution_count": 2,
   "id": "c6b9dbe4-e86d-4701-9934-3dfd1038d1b4",
   "metadata": {},
   "outputs": [
    {
     "data": {
      "text/plain": [
       "'2022.07.05'"
      ]
     },
     "execution_count": 2,
     "metadata": {},
     "output_type": "execute_result"
    }
   ],
   "source": [
    "splat.VERSION"
   ]
  },
  {
   "cell_type": "code",
   "execution_count": 282,
   "id": "3e43ba3c-abd0-4e8e-b3c5-640ecdaa08d5",
   "metadata": {},
   "outputs": [],
   "source": [
    "import numpy as np\n",
    "import pandas as pd\n",
    "import matplotlib.pyplot as plt\n",
    "import csv\n",
    "import os\n",
    "import os.path\n",
    "from scipy import stats as scipy\n",
    "from scipy import interpolate\n",
    "import math\n",
    "\n",
    "from astroquery.simbad import Simbad\n",
    "from astroquery.vizier import Vizier\n",
    "from astroquery.xmatch import XMatch\n",
    "\n",
    "from astropy.io import fits\n",
    "from astropy.io import ascii # we'll use this to upload files\n",
    "import astropy.units as u # units\n",
    "from astropy.coordinates import SkyCoord # astropy coordinate object\n",
    "from astropy.table import Table"
   ]
  },
  {
   "cell_type": "markdown",
   "id": "321e330c-e7fa-4258-8112-33f551e40a4c",
   "metadata": {},
   "source": [
    "### Vars"
   ]
  },
  {
   "cell_type": "code",
   "execution_count": 4,
   "id": "d9e82276-0b2c-4c33-96cf-6ba779e5b218",
   "metadata": {},
   "outputs": [],
   "source": [
    "PATH = os.getcwd()\n",
    "TEMPLATE_NAMES = {}\n",
    "TEMPLATE_SPECS = {}\n",
    "TEMPLATE_DICT = {}"
   ]
  },
  {
   "cell_type": "code",
   "execution_count": 5,
   "id": "640df079-5159-44c8-9d46-a8051cd86df8",
   "metadata": {
    "tags": []
   },
   "outputs": [
    {
     "data": {
      "text/plain": [
       "array(['Demeo_et_al_2009_A', 'Demeo_et_al_2009_B', 'Demeo_et_al_2009_C',\n",
       "       'Demeo_et_al_2009_Cb', 'Demeo_et_al_2009_Cg',\n",
       "       'Demeo_et_al_2009_Cgh', 'Demeo_et_al_2009_Ch',\n",
       "       'Demeo_et_al_2009_D', 'Demeo_et_al_2009_K', 'Demeo_et_al_2009_L',\n",
       "       'Demeo_et_al_2009_O', 'Demeo_et_al_2009_Q', 'Demeo_et_al_2009_R',\n",
       "       'Demeo_et_al_2009_S', 'Demeo_et_al_2009_Sa', 'Demeo_et_al_2009_Sq',\n",
       "       'Demeo_et_al_2009_Sr', 'Demeo_et_al_2009_Sv', 'Demeo_et_al_2009_T',\n",
       "       'Demeo_et_al_2009_V', 'Demeo_et_al_2009_X', 'Demeo_et_al_2009_Xc',\n",
       "       'Demeo_et_al_2009_Xe', 'Demeo_et_al_2009_Xk'], dtype='<U20')"
      ]
     },
     "execution_count": 5,
     "metadata": {},
     "output_type": "execute_result"
    }
   ],
   "source": [
    "template_dir = PATH + '/Demeo_et_al_2009_Folder/fits'\n",
    "class_names = np.array(sorted(f.split('.fits')[:-1][0] for f in os.listdir(template_dir) if f != '.ipynb_checkpoints'))\n",
    "class_names  # array of strings"
   ]
  },
  {
   "cell_type": "markdown",
   "id": "672ccc1d-9893-4aef-ab6c-324f743682ed",
   "metadata": {},
   "source": [
    "### Functions"
   ]
  },
  {
   "cell_type": "code",
   "execution_count": 6,
   "id": "773d9e21-d4b2-4156-b2ba-a8c6bb33f3fd",
   "metadata": {
    "tags": []
   },
   "outputs": [],
   "source": [
    "def saveTemplate(name:str, template_names:np.array):\n",
    "    TEMPLATE_NAMES[name] = template_names\n",
    "    temp = []\n",
    "    for item in template_names:\n",
    "        sp = splat.Spectrum(filename= template_dir + '/' + item + '.fits')\n",
    "        temp.append(sp)\n",
    "    TEMPLATE_SPECS[name] = temp\n",
    "    TEMPLATE_DICT[name] = (template_names,temp)"
   ]
  },
  {
   "cell_type": "code",
   "execution_count": 7,
   "id": "920f5423-c54c-47a0-93e3-3f51aa2e6fb3",
   "metadata": {},
   "outputs": [],
   "source": [
    "def simpleClassify(spx, name):\n",
    "    temp_list =[]\n",
    "    for tp_spec in TEMPLATE_DICT.get(name)[1]:\n",
    "        temp_list.append(splat.compareSpectra(spx, tp_spec))\n",
    "    results = np.array(temp_list)\n",
    "    index_of_best_fit = np.where(results[:,0] == results[:,0].min())\n",
    "    return results, TEMPLATE_DICT.get(name)[0][index_of_best_fit]"
   ]
  },
  {
   "cell_type": "markdown",
   "id": "643a2659-4d79-4fcc-97d1-8715b9dab5af",
   "metadata": {},
   "source": [
    "___"
   ]
  },
  {
   "cell_type": "code",
   "execution_count": 8,
   "id": "98734daf-5935-45ce-a905-31c0ade3cf5d",
   "metadata": {},
   "outputs": [],
   "source": [
    "saveTemplate('demeo',class_names)"
   ]
  },
  {
   "cell_type": "code",
   "execution_count": 9,
   "id": "d878d80c-6bc4-4cf2-89a9-ae1f5625e953",
   "metadata": {
    "collapsed": true,
    "jupyter": {
     "outputs_hidden": true
    },
    "tags": []
   },
   "outputs": [
    {
     "data": {
      "text/plain": [
       "({'demeo': array(['Demeo_et_al_2009_A', 'Demeo_et_al_2009_B', 'Demeo_et_al_2009_C',\n",
       "         'Demeo_et_al_2009_Cb', 'Demeo_et_al_2009_Cg',\n",
       "         'Demeo_et_al_2009_Cgh', 'Demeo_et_al_2009_Ch',\n",
       "         'Demeo_et_al_2009_D', 'Demeo_et_al_2009_K', 'Demeo_et_al_2009_L',\n",
       "         'Demeo_et_al_2009_O', 'Demeo_et_al_2009_Q', 'Demeo_et_al_2009_R',\n",
       "         'Demeo_et_al_2009_S', 'Demeo_et_al_2009_Sa', 'Demeo_et_al_2009_Sq',\n",
       "         'Demeo_et_al_2009_Sr', 'Demeo_et_al_2009_Sv', 'Demeo_et_al_2009_T',\n",
       "         'Demeo_et_al_2009_V', 'Demeo_et_al_2009_X', 'Demeo_et_al_2009_Xc',\n",
       "         'Demeo_et_al_2009_Xe', 'Demeo_et_al_2009_Xk'], dtype='<U20')},\n",
       " {'demeo': [ spectrum of Demeo_et_al_2009_A.fits,\n",
       "    spectrum of Demeo_et_al_2009_B.fits,\n",
       "    spectrum of Demeo_et_al_2009_C.fits,\n",
       "    spectrum of Demeo_et_al_2009_Cb.fits,\n",
       "    spectrum of Demeo_et_al_2009_Cg.fits,\n",
       "    spectrum of Demeo_et_al_2009_Cgh.fits,\n",
       "    spectrum of Demeo_et_al_2009_Ch.fits,\n",
       "    spectrum of Demeo_et_al_2009_D.fits,\n",
       "    spectrum of Demeo_et_al_2009_K.fits,\n",
       "    spectrum of Demeo_et_al_2009_L.fits,\n",
       "    spectrum of Demeo_et_al_2009_O.fits,\n",
       "    spectrum of Demeo_et_al_2009_Q.fits,\n",
       "    spectrum of Demeo_et_al_2009_R.fits,\n",
       "    spectrum of Demeo_et_al_2009_S.fits,\n",
       "    spectrum of Demeo_et_al_2009_Sa.fits,\n",
       "    spectrum of Demeo_et_al_2009_Sq.fits,\n",
       "    spectrum of Demeo_et_al_2009_Sr.fits,\n",
       "    spectrum of Demeo_et_al_2009_Sv.fits,\n",
       "    spectrum of Demeo_et_al_2009_T.fits,\n",
       "    spectrum of Demeo_et_al_2009_V.fits,\n",
       "    spectrum of Demeo_et_al_2009_X.fits,\n",
       "    spectrum of Demeo_et_al_2009_Xc.fits,\n",
       "    spectrum of Demeo_et_al_2009_Xe.fits,\n",
       "    spectrum of Demeo_et_al_2009_Xk.fits]},\n",
       " {'demeo': (array(['Demeo_et_al_2009_A', 'Demeo_et_al_2009_B', 'Demeo_et_al_2009_C',\n",
       "          'Demeo_et_al_2009_Cb', 'Demeo_et_al_2009_Cg',\n",
       "          'Demeo_et_al_2009_Cgh', 'Demeo_et_al_2009_Ch',\n",
       "          'Demeo_et_al_2009_D', 'Demeo_et_al_2009_K', 'Demeo_et_al_2009_L',\n",
       "          'Demeo_et_al_2009_O', 'Demeo_et_al_2009_Q', 'Demeo_et_al_2009_R',\n",
       "          'Demeo_et_al_2009_S', 'Demeo_et_al_2009_Sa', 'Demeo_et_al_2009_Sq',\n",
       "          'Demeo_et_al_2009_Sr', 'Demeo_et_al_2009_Sv', 'Demeo_et_al_2009_T',\n",
       "          'Demeo_et_al_2009_V', 'Demeo_et_al_2009_X', 'Demeo_et_al_2009_Xc',\n",
       "          'Demeo_et_al_2009_Xe', 'Demeo_et_al_2009_Xk'], dtype='<U20'),\n",
       "   [ spectrum of Demeo_et_al_2009_A.fits,\n",
       "     spectrum of Demeo_et_al_2009_B.fits,\n",
       "     spectrum of Demeo_et_al_2009_C.fits,\n",
       "     spectrum of Demeo_et_al_2009_Cb.fits,\n",
       "     spectrum of Demeo_et_al_2009_Cg.fits,\n",
       "     spectrum of Demeo_et_al_2009_Cgh.fits,\n",
       "     spectrum of Demeo_et_al_2009_Ch.fits,\n",
       "     spectrum of Demeo_et_al_2009_D.fits,\n",
       "     spectrum of Demeo_et_al_2009_K.fits,\n",
       "     spectrum of Demeo_et_al_2009_L.fits,\n",
       "     spectrum of Demeo_et_al_2009_O.fits,\n",
       "     spectrum of Demeo_et_al_2009_Q.fits,\n",
       "     spectrum of Demeo_et_al_2009_R.fits,\n",
       "     spectrum of Demeo_et_al_2009_S.fits,\n",
       "     spectrum of Demeo_et_al_2009_Sa.fits,\n",
       "     spectrum of Demeo_et_al_2009_Sq.fits,\n",
       "     spectrum of Demeo_et_al_2009_Sr.fits,\n",
       "     spectrum of Demeo_et_al_2009_Sv.fits,\n",
       "     spectrum of Demeo_et_al_2009_T.fits,\n",
       "     spectrum of Demeo_et_al_2009_V.fits,\n",
       "     spectrum of Demeo_et_al_2009_X.fits,\n",
       "     spectrum of Demeo_et_al_2009_Xc.fits,\n",
       "     spectrum of Demeo_et_al_2009_Xe.fits,\n",
       "     spectrum of Demeo_et_al_2009_Xk.fits])})"
      ]
     },
     "execution_count": 9,
     "metadata": {},
     "output_type": "execute_result"
    }
   ],
   "source": [
    "TEMPLATE_NAMES, TEMPLATE_SPECS, TEMPLATE_DICT"
   ]
  },
  {
   "cell_type": "code",
   "execution_count": 158,
   "id": "130f1f40-3566-4791-9542-f780bb8709e4",
   "metadata": {},
   "outputs": [],
   "source": [
    "test_spec = splat.Spectrum('D:\\\\PythonCodes\\\\JupyterWorkspace\\\\spex-prism_1036Ganymed_20010322.fits')"
   ]
  },
  {
   "cell_type": "code",
   "execution_count": 260,
   "id": "adfd2e7d-d4c5-494b-950e-b18302d8e15b",
   "metadata": {
    "collapsed": true,
    "jupyter": {
     "outputs_hidden": true
    },
    "tags": []
   },
   "outputs": [
    {
     "data": {
      "text/plain": [
       "(array([[9.64392029e+05, 3.41391735e-01],\n",
       "        [1.53355999e+05, 5.66824795e-01],\n",
       "        [9.83573354e+04, 4.93943905e-01],\n",
       "        [8.79274959e+04, 4.76860784e-01],\n",
       "        [8.04005662e+04, 4.88515827e-01],\n",
       "        [5.87819326e+04, 4.73114373e-01],\n",
       "        [6.04088579e+04, 4.95468831e-01],\n",
       "        [2.74009155e+05, 3.28445051e-01],\n",
       "        [6.99112777e+04, 4.54974993e-01],\n",
       "        [4.64863520e+04, 4.07910517e-01],\n",
       "        [2.73531554e+05, 5.64556664e-01],\n",
       "        [1.15263923e+05, 5.03972924e-01],\n",
       "        [1.99764553e+05, 4.19609387e-01],\n",
       "        [5.54018952e+04, 4.12081543e-01],\n",
       "        [4.56687163e+05, 4.23167529e-01],\n",
       "        [1.04083538e+05, 4.39893344e-01],\n",
       "        [6.33115992e+04, 4.21097744e-01],\n",
       "        [5.48279460e+04, 3.78762793e-01],\n",
       "        [1.01495191e+05, 3.88420357e-01],\n",
       "        [3.16903344e+05, 4.11678680e-01],\n",
       "        [1.08015527e+05, 4.18985979e-01],\n",
       "        [6.47884316e+04, 4.52913281e-01],\n",
       "        [6.01885168e+04, 4.38624989e-01],\n",
       "        [7.13263014e+04, 4.36591504e-01]]),\n",
       " array(['Demeo_et_al_2009_L'], dtype='<U20'))"
      ]
     },
     "execution_count": 260,
     "metadata": {},
     "output_type": "execute_result"
    }
   ],
   "source": [
    "simpleClassify(test_spec, 'demeo')"
   ]
  },
  {
   "cell_type": "markdown",
   "id": "97217ccf-353e-413a-b8e9-7c3ccd4cb922",
   "metadata": {},
   "source": [
    "#### Gross compare"
   ]
  },
  {
   "cell_type": "code",
   "execution_count": 252,
   "id": "e4e05e4b-d34b-453e-8ba8-d4eb89239327",
   "metadata": {
    "collapsed": true,
    "jupyter": {
     "outputs_hidden": true
    },
    "tags": []
   },
   "outputs": [
    {
     "data": {
      "text/plain": [
       "array(['spex-prism_1036Ganymed_20010322',\n",
       "       'spex-prism_1036Ganymed_20010502',\n",
       "       'spex-prism_110Lydia-1_20010502',\n",
       "       'spex-prism_110Lydia-2-2_20010501',\n",
       "       'spex-prism_110Lydia-2_20010501', 'spex-prism_110Lydia-2_20010502',\n",
       "       'spex-prism_110Lydia-3_20010501', 'spex-prism_110Lydia-3_20010502',\n",
       "       'spex-prism_110Lydia-4_20010502', 'spex-prism_110Lydia_20010501',\n",
       "       'spex-prism_19356_20010501', 'spex-prism_1998SF36_20010322',\n",
       "       'spex-prism_2000SS164_20010129', 'spex-prism_2000XG47_20010501',\n",
       "       'spex-prism_201Penelope-1_20010502',\n",
       "       'spex-prism_201Penelope-2_20010501',\n",
       "       'spex-prism_201Penelope-2_20010502',\n",
       "       'spex-prism_201Penelope-3-1_20010502',\n",
       "       'spex-prism_201Penelope-3-2_20010502',\n",
       "       'spex-prism_201Penelope-3_20010501',\n",
       "       'spex-prism_201Penelope-4_20010501',\n",
       "       'spex-prism_201Penelope-4_20010502',\n",
       "       'spex-prism_201Penelope-5-2_20010502',\n",
       "       'spex-prism_201Penelope-5.1_20010502',\n",
       "       'spex-prism_201Penelope-6-1_20010502',\n",
       "       'spex-prism_201Penelope-6-2_20010502',\n",
       "       'spex-prism_201Penelope_20010501',\n",
       "       'spex-prism_216Kleopatra-2_20010501',\n",
       "       'spex-prism_216Kleopatra_20010429',\n",
       "       'spex-prism_216Kleopatra_20010501',\n",
       "       'spex-prism_3999Aristarchus_20010322',\n",
       "       'spex-prism_69Hesperia-1_20010502',\n",
       "       'spex-prism_69Hesperia-2_20010501',\n",
       "       'spex-prism_69Hesperia-2_20010502',\n",
       "       'spex-prism_69Hesperia-3_20010501',\n",
       "       'spex-prism_69Hesperia-3_20010502',\n",
       "       'spex-prism_69Hesperia-4_20010502',\n",
       "       'spex-prism_69Hesperia-5_20010502',\n",
       "       'spex-prism_69Hesperia-6-1_20010502',\n",
       "       'spex-prism_69Hesperia-6-2_20010502',\n",
       "       'spex-prism_69Hesperia_20010501',\n",
       "       'spex-prism_Asteroid5587_20010502',\n",
       "       'spex-prism_Asteroid5604_20010501',\n",
       "       'spex-prism_Asteroid5604_20010502', 'spex-prism_Hebe_20010428',\n",
       "       'spex_prism_1658_20010129', 'spex_prism_18736_20010129',\n",
       "       'spex_prism_19356_20010129', 'spex_prism_1992BL2_20010129',\n",
       "       'spex_prism_2000SS164_20010129', 'spex_prism_20429_20010129',\n",
       "       'spex_prism_25_20010129', 'spex_prism_3199_20010129',\n",
       "       'spex_prism_32_20010129', 'spex_prism_359_20010129',\n",
       "       'spex_prism_land102-1081_20010129'], dtype='<U35')"
      ]
     },
     "execution_count": 252,
     "metadata": {},
     "output_type": "execute_result"
    }
   ],
   "source": [
    "objs_dir = 'D:\\\\PythonCodes/JupyterWorkspace/SpeX_asteroid_spectra'\n",
    "obj_names = np.array(sorted(f.split('.fits')[:len(f.split('.'))-1][0] for f in os.listdir(objs_dir) if f != '.ipynb_checkpoints'))\n",
    "obj_names  # array of strings"
   ]
  },
  {
   "cell_type": "code",
   "execution_count": 278,
   "id": "5c76ac9e-c309-4101-bdb9-918ea441bfed",
   "metadata": {},
   "outputs": [],
   "source": [
    "d = {}\n",
    "name_list = []\n",
    "results_list = []"
   ]
  },
  {
   "cell_type": "code",
   "execution_count": 279,
   "id": "f87af892-c128-44c0-9b76-8db9777c784a",
   "metadata": {},
   "outputs": [],
   "source": [
    "for item in obj_names:\n",
    "    name_list.append(item)\n",
    "    temp_spec = splat.Spectrum('D:\\\\PythonCodes\\\\JupyterWorkspace\\\\SpeX_asteroid_spectra/' + item +'.fits')\n",
    "    results_list.append(simpleClassify(temp_spec, 'demeo')[1])\n",
    "\n",
    "d['Objects'] = name_list\n",
    "d['Simple Classifiy'] = results_list"
   ]
  },
  {
   "cell_type": "code",
   "execution_count": 287,
   "id": "8a097ac7-072b-4281-a5c5-2d22b9c450d6",
   "metadata": {},
   "outputs": [],
   "source": [
    "demeo_results = ['S', 'S', 'Xk','Xk','Xk','Xk','Xk','Xk','Xk','Xk','Sq','--','--','--','Xk','Xk','Xk','Xk','Xk','Xk','Xk','Xk','Xk','Xk','Xk','Xk','Xk','Xe','Xe','Xe',\n",
    "                '--', 'Xk','Xk','Xk','Xk','Xk','Xk','Xk','Xk','Xk','Xk','Sr','V','V','--', 'Sw','Sw','Sq','--','--','--','S','K','Sw','Xk','--']\n",
    "d['Demeo Results'] = demeo_results"
   ]
  },
  {
   "cell_type": "code",
   "execution_count": 288,
   "id": "e39756cb-11b6-430b-af36-d08b38fb9b50",
   "metadata": {
    "collapsed": true,
    "jupyter": {
     "outputs_hidden": true
    },
    "tags": []
   },
   "outputs": [
    {
     "data": {
      "text/html": [
       "<div>\n",
       "<style scoped>\n",
       "    .dataframe tbody tr th:only-of-type {\n",
       "        vertical-align: middle;\n",
       "    }\n",
       "\n",
       "    .dataframe tbody tr th {\n",
       "        vertical-align: top;\n",
       "    }\n",
       "\n",
       "    .dataframe thead th {\n",
       "        text-align: right;\n",
       "    }\n",
       "</style>\n",
       "<table border=\"1\" class=\"dataframe\">\n",
       "  <thead>\n",
       "    <tr style=\"text-align: right;\">\n",
       "      <th></th>\n",
       "      <th>Objects</th>\n",
       "      <th>Simple Classifiy</th>\n",
       "      <th>Demeo Results</th>\n",
       "    </tr>\n",
       "  </thead>\n",
       "  <tbody>\n",
       "    <tr>\n",
       "      <th>0</th>\n",
       "      <td>spex-prism_1036Ganymed_20010322</td>\n",
       "      <td>[Demeo_et_al_2009_L]</td>\n",
       "      <td>S</td>\n",
       "    </tr>\n",
       "    <tr>\n",
       "      <th>1</th>\n",
       "      <td>spex-prism_1036Ganymed_20010502</td>\n",
       "      <td>[Demeo_et_al_2009_Sv]</td>\n",
       "      <td>S</td>\n",
       "    </tr>\n",
       "    <tr>\n",
       "      <th>2</th>\n",
       "      <td>spex-prism_110Lydia-1_20010502</td>\n",
       "      <td>[Demeo_et_al_2009_X]</td>\n",
       "      <td>Xk</td>\n",
       "    </tr>\n",
       "    <tr>\n",
       "      <th>3</th>\n",
       "      <td>spex-prism_110Lydia-2-2_20010501</td>\n",
       "      <td>[Demeo_et_al_2009_X]</td>\n",
       "      <td>Xk</td>\n",
       "    </tr>\n",
       "    <tr>\n",
       "      <th>4</th>\n",
       "      <td>spex-prism_110Lydia-2_20010501</td>\n",
       "      <td>[Demeo_et_al_2009_X]</td>\n",
       "      <td>Xk</td>\n",
       "    </tr>\n",
       "    <tr>\n",
       "      <th>5</th>\n",
       "      <td>spex-prism_110Lydia-2_20010502</td>\n",
       "      <td>[Demeo_et_al_2009_Xk]</td>\n",
       "      <td>Xk</td>\n",
       "    </tr>\n",
       "    <tr>\n",
       "      <th>6</th>\n",
       "      <td>spex-prism_110Lydia-3_20010501</td>\n",
       "      <td>[Demeo_et_al_2009_X]</td>\n",
       "      <td>Xk</td>\n",
       "    </tr>\n",
       "    <tr>\n",
       "      <th>7</th>\n",
       "      <td>spex-prism_110Lydia-3_20010502</td>\n",
       "      <td>[Demeo_et_al_2009_Xk]</td>\n",
       "      <td>Xk</td>\n",
       "    </tr>\n",
       "    <tr>\n",
       "      <th>8</th>\n",
       "      <td>spex-prism_110Lydia-4_20010502</td>\n",
       "      <td>[Demeo_et_al_2009_Xk]</td>\n",
       "      <td>Xk</td>\n",
       "    </tr>\n",
       "    <tr>\n",
       "      <th>9</th>\n",
       "      <td>spex-prism_110Lydia_20010501</td>\n",
       "      <td>[Demeo_et_al_2009_T]</td>\n",
       "      <td>Xk</td>\n",
       "    </tr>\n",
       "    <tr>\n",
       "      <th>10</th>\n",
       "      <td>spex-prism_19356_20010501</td>\n",
       "      <td>[Demeo_et_al_2009_Sq]</td>\n",
       "      <td>Sq</td>\n",
       "    </tr>\n",
       "    <tr>\n",
       "      <th>11</th>\n",
       "      <td>spex-prism_1998SF36_20010322</td>\n",
       "      <td>[Demeo_et_al_2009_Sq]</td>\n",
       "      <td>--</td>\n",
       "    </tr>\n",
       "    <tr>\n",
       "      <th>12</th>\n",
       "      <td>spex-prism_2000SS164_20010129</td>\n",
       "      <td>[Demeo_et_al_2009_K]</td>\n",
       "      <td>--</td>\n",
       "    </tr>\n",
       "    <tr>\n",
       "      <th>13</th>\n",
       "      <td>spex-prism_2000XG47_20010501</td>\n",
       "      <td>[Demeo_et_al_2009_L]</td>\n",
       "      <td>--</td>\n",
       "    </tr>\n",
       "    <tr>\n",
       "      <th>14</th>\n",
       "      <td>spex-prism_201Penelope-1_20010502</td>\n",
       "      <td>[Demeo_et_al_2009_X]</td>\n",
       "      <td>Xk</td>\n",
       "    </tr>\n",
       "    <tr>\n",
       "      <th>15</th>\n",
       "      <td>spex-prism_201Penelope-2_20010501</td>\n",
       "      <td>[Demeo_et_al_2009_Xk]</td>\n",
       "      <td>Xk</td>\n",
       "    </tr>\n",
       "    <tr>\n",
       "      <th>16</th>\n",
       "      <td>spex-prism_201Penelope-2_20010502</td>\n",
       "      <td>[Demeo_et_al_2009_T]</td>\n",
       "      <td>Xk</td>\n",
       "    </tr>\n",
       "    <tr>\n",
       "      <th>17</th>\n",
       "      <td>spex-prism_201Penelope-3-1_20010502</td>\n",
       "      <td>[Demeo_et_al_2009_Xk]</td>\n",
       "      <td>Xk</td>\n",
       "    </tr>\n",
       "    <tr>\n",
       "      <th>18</th>\n",
       "      <td>spex-prism_201Penelope-3-2_20010502</td>\n",
       "      <td>[Demeo_et_al_2009_Xc]</td>\n",
       "      <td>Xk</td>\n",
       "    </tr>\n",
       "    <tr>\n",
       "      <th>19</th>\n",
       "      <td>spex-prism_201Penelope-3_20010501</td>\n",
       "      <td>[Demeo_et_al_2009_Xk]</td>\n",
       "      <td>Xk</td>\n",
       "    </tr>\n",
       "    <tr>\n",
       "      <th>20</th>\n",
       "      <td>spex-prism_201Penelope-4_20010501</td>\n",
       "      <td>[Demeo_et_al_2009_X]</td>\n",
       "      <td>Xk</td>\n",
       "    </tr>\n",
       "    <tr>\n",
       "      <th>21</th>\n",
       "      <td>spex-prism_201Penelope-4_20010502</td>\n",
       "      <td>[Demeo_et_al_2009_X]</td>\n",
       "      <td>Xk</td>\n",
       "    </tr>\n",
       "    <tr>\n",
       "      <th>22</th>\n",
       "      <td>spex-prism_201Penelope-5-2_20010502</td>\n",
       "      <td>[Demeo_et_al_2009_Xk]</td>\n",
       "      <td>Xk</td>\n",
       "    </tr>\n",
       "    <tr>\n",
       "      <th>23</th>\n",
       "      <td>spex-prism_201Penelope-5.1_20010502</td>\n",
       "      <td>[Demeo_et_al_2009_Xc]</td>\n",
       "      <td>Xk</td>\n",
       "    </tr>\n",
       "    <tr>\n",
       "      <th>24</th>\n",
       "      <td>spex-prism_201Penelope-6-1_20010502</td>\n",
       "      <td>[Demeo_et_al_2009_B]</td>\n",
       "      <td>Xk</td>\n",
       "    </tr>\n",
       "    <tr>\n",
       "      <th>25</th>\n",
       "      <td>spex-prism_201Penelope-6-2_20010502</td>\n",
       "      <td>[Demeo_et_al_2009_X]</td>\n",
       "      <td>Xk</td>\n",
       "    </tr>\n",
       "    <tr>\n",
       "      <th>26</th>\n",
       "      <td>spex-prism_201Penelope_20010501</td>\n",
       "      <td>[Demeo_et_al_2009_T]</td>\n",
       "      <td>Xk</td>\n",
       "    </tr>\n",
       "    <tr>\n",
       "      <th>27</th>\n",
       "      <td>spex-prism_216Kleopatra-2_20010501</td>\n",
       "      <td>[Demeo_et_al_2009_X]</td>\n",
       "      <td>Xe</td>\n",
       "    </tr>\n",
       "    <tr>\n",
       "      <th>28</th>\n",
       "      <td>spex-prism_216Kleopatra_20010429</td>\n",
       "      <td>[Demeo_et_al_2009_Cb]</td>\n",
       "      <td>Xe</td>\n",
       "    </tr>\n",
       "    <tr>\n",
       "      <th>29</th>\n",
       "      <td>spex-prism_216Kleopatra_20010501</td>\n",
       "      <td>[Demeo_et_al_2009_X]</td>\n",
       "      <td>Xe</td>\n",
       "    </tr>\n",
       "    <tr>\n",
       "      <th>30</th>\n",
       "      <td>spex-prism_3999Aristarchus_20010322</td>\n",
       "      <td>[Demeo_et_al_2009_B]</td>\n",
       "      <td>--</td>\n",
       "    </tr>\n",
       "    <tr>\n",
       "      <th>31</th>\n",
       "      <td>spex-prism_69Hesperia-1_20010502</td>\n",
       "      <td>[Demeo_et_al_2009_Xc]</td>\n",
       "      <td>Xk</td>\n",
       "    </tr>\n",
       "    <tr>\n",
       "      <th>32</th>\n",
       "      <td>spex-prism_69Hesperia-2_20010501</td>\n",
       "      <td>[Demeo_et_al_2009_Xk]</td>\n",
       "      <td>Xk</td>\n",
       "    </tr>\n",
       "    <tr>\n",
       "      <th>33</th>\n",
       "      <td>spex-prism_69Hesperia-2_20010502</td>\n",
       "      <td>[Demeo_et_al_2009_Cb]</td>\n",
       "      <td>Xk</td>\n",
       "    </tr>\n",
       "    <tr>\n",
       "      <th>34</th>\n",
       "      <td>spex-prism_69Hesperia-3_20010501</td>\n",
       "      <td>[Demeo_et_al_2009_Xk]</td>\n",
       "      <td>Xk</td>\n",
       "    </tr>\n",
       "    <tr>\n",
       "      <th>35</th>\n",
       "      <td>spex-prism_69Hesperia-3_20010502</td>\n",
       "      <td>[Demeo_et_al_2009_Cb]</td>\n",
       "      <td>Xk</td>\n",
       "    </tr>\n",
       "    <tr>\n",
       "      <th>36</th>\n",
       "      <td>spex-prism_69Hesperia-4_20010502</td>\n",
       "      <td>[Demeo_et_al_2009_Cb]</td>\n",
       "      <td>Xk</td>\n",
       "    </tr>\n",
       "    <tr>\n",
       "      <th>37</th>\n",
       "      <td>spex-prism_69Hesperia-5_20010502</td>\n",
       "      <td>[Demeo_et_al_2009_X]</td>\n",
       "      <td>Xk</td>\n",
       "    </tr>\n",
       "    <tr>\n",
       "      <th>38</th>\n",
       "      <td>spex-prism_69Hesperia-6-1_20010502</td>\n",
       "      <td>[Demeo_et_al_2009_Xc]</td>\n",
       "      <td>Xk</td>\n",
       "    </tr>\n",
       "    <tr>\n",
       "      <th>39</th>\n",
       "      <td>spex-prism_69Hesperia-6-2_20010502</td>\n",
       "      <td>[Demeo_et_al_2009_Xc]</td>\n",
       "      <td>Xk</td>\n",
       "    </tr>\n",
       "    <tr>\n",
       "      <th>40</th>\n",
       "      <td>spex-prism_69Hesperia_20010501</td>\n",
       "      <td>[Demeo_et_al_2009_Cb]</td>\n",
       "      <td>Xk</td>\n",
       "    </tr>\n",
       "    <tr>\n",
       "      <th>41</th>\n",
       "      <td>spex-prism_Asteroid5587_20010502</td>\n",
       "      <td>[Demeo_et_al_2009_Sv]</td>\n",
       "      <td>Sr</td>\n",
       "    </tr>\n",
       "    <tr>\n",
       "      <th>42</th>\n",
       "      <td>spex-prism_Asteroid5604_20010501</td>\n",
       "      <td>[Demeo_et_al_2009_V]</td>\n",
       "      <td>V</td>\n",
       "    </tr>\n",
       "    <tr>\n",
       "      <th>43</th>\n",
       "      <td>spex-prism_Asteroid5604_20010502</td>\n",
       "      <td>[Demeo_et_al_2009_V]</td>\n",
       "      <td>V</td>\n",
       "    </tr>\n",
       "    <tr>\n",
       "      <th>44</th>\n",
       "      <td>spex-prism_Hebe_20010428</td>\n",
       "      <td>[Demeo_et_al_2009_S]</td>\n",
       "      <td>--</td>\n",
       "    </tr>\n",
       "    <tr>\n",
       "      <th>45</th>\n",
       "      <td>spex_prism_1658_20010129</td>\n",
       "      <td>[Demeo_et_al_2009_Sq]</td>\n",
       "      <td>Sw</td>\n",
       "    </tr>\n",
       "    <tr>\n",
       "      <th>46</th>\n",
       "      <td>spex_prism_18736_20010129</td>\n",
       "      <td>[Demeo_et_al_2009_R]</td>\n",
       "      <td>Sw</td>\n",
       "    </tr>\n",
       "    <tr>\n",
       "      <th>47</th>\n",
       "      <td>spex_prism_19356_20010129</td>\n",
       "      <td>[Demeo_et_al_2009_Sq]</td>\n",
       "      <td>Sq</td>\n",
       "    </tr>\n",
       "    <tr>\n",
       "      <th>48</th>\n",
       "      <td>spex_prism_1992BL2_20010129</td>\n",
       "      <td>[Demeo_et_al_2009_Sa]</td>\n",
       "      <td>--</td>\n",
       "    </tr>\n",
       "    <tr>\n",
       "      <th>49</th>\n",
       "      <td>spex_prism_2000SS164_20010129</td>\n",
       "      <td>[Demeo_et_al_2009_K]</td>\n",
       "      <td>--</td>\n",
       "    </tr>\n",
       "    <tr>\n",
       "      <th>50</th>\n",
       "      <td>spex_prism_20429_20010129</td>\n",
       "      <td>[Demeo_et_al_2009_Sq]</td>\n",
       "      <td>--</td>\n",
       "    </tr>\n",
       "    <tr>\n",
       "      <th>51</th>\n",
       "      <td>spex_prism_25_20010129</td>\n",
       "      <td>[Demeo_et_al_2009_Sq]</td>\n",
       "      <td>S</td>\n",
       "    </tr>\n",
       "    <tr>\n",
       "      <th>52</th>\n",
       "      <td>spex_prism_3199_20010129</td>\n",
       "      <td>[Demeo_et_al_2009_Sa]</td>\n",
       "      <td>K</td>\n",
       "    </tr>\n",
       "    <tr>\n",
       "      <th>53</th>\n",
       "      <td>spex_prism_32_20010129</td>\n",
       "      <td>[Demeo_et_al_2009_S]</td>\n",
       "      <td>Sw</td>\n",
       "    </tr>\n",
       "    <tr>\n",
       "      <th>54</th>\n",
       "      <td>spex_prism_359_20010129</td>\n",
       "      <td>[Demeo_et_al_2009_T]</td>\n",
       "      <td>Xk</td>\n",
       "    </tr>\n",
       "    <tr>\n",
       "      <th>55</th>\n",
       "      <td>spex_prism_land102-1081_20010129</td>\n",
       "      <td>[Demeo_et_al_2009_Xc]</td>\n",
       "      <td>--</td>\n",
       "    </tr>\n",
       "  </tbody>\n",
       "</table>\n",
       "</div>"
      ],
      "text/plain": [
       "                                Objects       Simple Classifiy Demeo Results\n",
       "0       spex-prism_1036Ganymed_20010322   [Demeo_et_al_2009_L]             S\n",
       "1       spex-prism_1036Ganymed_20010502  [Demeo_et_al_2009_Sv]             S\n",
       "2        spex-prism_110Lydia-1_20010502   [Demeo_et_al_2009_X]            Xk\n",
       "3      spex-prism_110Lydia-2-2_20010501   [Demeo_et_al_2009_X]            Xk\n",
       "4        spex-prism_110Lydia-2_20010501   [Demeo_et_al_2009_X]            Xk\n",
       "5        spex-prism_110Lydia-2_20010502  [Demeo_et_al_2009_Xk]            Xk\n",
       "6        spex-prism_110Lydia-3_20010501   [Demeo_et_al_2009_X]            Xk\n",
       "7        spex-prism_110Lydia-3_20010502  [Demeo_et_al_2009_Xk]            Xk\n",
       "8        spex-prism_110Lydia-4_20010502  [Demeo_et_al_2009_Xk]            Xk\n",
       "9          spex-prism_110Lydia_20010501   [Demeo_et_al_2009_T]            Xk\n",
       "10            spex-prism_19356_20010501  [Demeo_et_al_2009_Sq]            Sq\n",
       "11         spex-prism_1998SF36_20010322  [Demeo_et_al_2009_Sq]            --\n",
       "12        spex-prism_2000SS164_20010129   [Demeo_et_al_2009_K]            --\n",
       "13         spex-prism_2000XG47_20010501   [Demeo_et_al_2009_L]            --\n",
       "14    spex-prism_201Penelope-1_20010502   [Demeo_et_al_2009_X]            Xk\n",
       "15    spex-prism_201Penelope-2_20010501  [Demeo_et_al_2009_Xk]            Xk\n",
       "16    spex-prism_201Penelope-2_20010502   [Demeo_et_al_2009_T]            Xk\n",
       "17  spex-prism_201Penelope-3-1_20010502  [Demeo_et_al_2009_Xk]            Xk\n",
       "18  spex-prism_201Penelope-3-2_20010502  [Demeo_et_al_2009_Xc]            Xk\n",
       "19    spex-prism_201Penelope-3_20010501  [Demeo_et_al_2009_Xk]            Xk\n",
       "20    spex-prism_201Penelope-4_20010501   [Demeo_et_al_2009_X]            Xk\n",
       "21    spex-prism_201Penelope-4_20010502   [Demeo_et_al_2009_X]            Xk\n",
       "22  spex-prism_201Penelope-5-2_20010502  [Demeo_et_al_2009_Xk]            Xk\n",
       "23  spex-prism_201Penelope-5.1_20010502  [Demeo_et_al_2009_Xc]            Xk\n",
       "24  spex-prism_201Penelope-6-1_20010502   [Demeo_et_al_2009_B]            Xk\n",
       "25  spex-prism_201Penelope-6-2_20010502   [Demeo_et_al_2009_X]            Xk\n",
       "26      spex-prism_201Penelope_20010501   [Demeo_et_al_2009_T]            Xk\n",
       "27   spex-prism_216Kleopatra-2_20010501   [Demeo_et_al_2009_X]            Xe\n",
       "28     spex-prism_216Kleopatra_20010429  [Demeo_et_al_2009_Cb]            Xe\n",
       "29     spex-prism_216Kleopatra_20010501   [Demeo_et_al_2009_X]            Xe\n",
       "30  spex-prism_3999Aristarchus_20010322   [Demeo_et_al_2009_B]            --\n",
       "31     spex-prism_69Hesperia-1_20010502  [Demeo_et_al_2009_Xc]            Xk\n",
       "32     spex-prism_69Hesperia-2_20010501  [Demeo_et_al_2009_Xk]            Xk\n",
       "33     spex-prism_69Hesperia-2_20010502  [Demeo_et_al_2009_Cb]            Xk\n",
       "34     spex-prism_69Hesperia-3_20010501  [Demeo_et_al_2009_Xk]            Xk\n",
       "35     spex-prism_69Hesperia-3_20010502  [Demeo_et_al_2009_Cb]            Xk\n",
       "36     spex-prism_69Hesperia-4_20010502  [Demeo_et_al_2009_Cb]            Xk\n",
       "37     spex-prism_69Hesperia-5_20010502   [Demeo_et_al_2009_X]            Xk\n",
       "38   spex-prism_69Hesperia-6-1_20010502  [Demeo_et_al_2009_Xc]            Xk\n",
       "39   spex-prism_69Hesperia-6-2_20010502  [Demeo_et_al_2009_Xc]            Xk\n",
       "40       spex-prism_69Hesperia_20010501  [Demeo_et_al_2009_Cb]            Xk\n",
       "41     spex-prism_Asteroid5587_20010502  [Demeo_et_al_2009_Sv]            Sr\n",
       "42     spex-prism_Asteroid5604_20010501   [Demeo_et_al_2009_V]             V\n",
       "43     spex-prism_Asteroid5604_20010502   [Demeo_et_al_2009_V]             V\n",
       "44             spex-prism_Hebe_20010428   [Demeo_et_al_2009_S]            --\n",
       "45             spex_prism_1658_20010129  [Demeo_et_al_2009_Sq]            Sw\n",
       "46            spex_prism_18736_20010129   [Demeo_et_al_2009_R]            Sw\n",
       "47            spex_prism_19356_20010129  [Demeo_et_al_2009_Sq]            Sq\n",
       "48          spex_prism_1992BL2_20010129  [Demeo_et_al_2009_Sa]            --\n",
       "49        spex_prism_2000SS164_20010129   [Demeo_et_al_2009_K]            --\n",
       "50            spex_prism_20429_20010129  [Demeo_et_al_2009_Sq]            --\n",
       "51               spex_prism_25_20010129  [Demeo_et_al_2009_Sq]             S\n",
       "52             spex_prism_3199_20010129  [Demeo_et_al_2009_Sa]             K\n",
       "53               spex_prism_32_20010129   [Demeo_et_al_2009_S]            Sw\n",
       "54              spex_prism_359_20010129   [Demeo_et_al_2009_T]            Xk\n",
       "55     spex_prism_land102-1081_20010129  [Demeo_et_al_2009_Xc]            --"
      ]
     },
     "execution_count": 288,
     "metadata": {},
     "output_type": "execute_result"
    }
   ],
   "source": [
    "df = pd.DataFrame(data=d)\n",
    "df"
   ]
  },
  {
   "cell_type": "markdown",
   "id": "328258af-46c0-4378-ad4d-64137495a2f3",
   "metadata": {},
   "source": [
    "___"
   ]
  },
  {
   "cell_type": "markdown",
   "id": "d8c7ef63-4602-4b1e-882e-c2b4608db8a4",
   "metadata": {},
   "source": [
    "From this small sample group, **10/47** spectra fits were categorized the same as published in Demeo 2009.  \n",
    "simpleCompare often reach classifications of the same complex, but a different sub-class. (**20/47**)  \n",
    "There also seems to be difficulty in classifying classes when slope is the main determiner. Classes of similar shape, but different depth/width of absorption even across complexes and when absoprtion features are lacking appear to have tricked simpleCompare.  \n",
    "Correct and close $\\rightarrow$ 30/47 = 63.8%    \n",
    "Mistaken Identity $\\rightarrow$ 17/47 = 36.2%\n",
    "\n",
    "\n",
    "simpleCompare could be good, but not reliable and rigorous. \n",
    "___"
   ]
  },
  {
   "cell_type": "markdown",
   "id": "4bc05d1a-dd13-4d93-a167-ead8878ef56c",
   "metadata": {},
   "source": [
    "#### PCA DATA PREP\n",
    "Demeo:\n",
    "- spline fits, 0.45 - 2.45 $\\mu m$, fit increments of 0.05 $\\mu m$ -> 41 pts\n",
    "- Normalized at 0.55 $\\mu m$, then \"removed\" slope (Demeo used divide, we later will test vs subtract)\n",
    "- normalized data is then used to produce a linear regression line with slope $\\gamma = \\frac{\\sum^i_0 (x_i - \\bar{x})(y_i - \\bar{y})}{\\sum_0^i(x_i - \\bar{x})^2}$, $x_i$ = wave value, $y_i$ = corresponding reflectance\n",
    "\n",
    "Here:\n",
    "- Normalized at 0.75 $\\mu m$ instead, due to most data points begin at ~0.65, ~0.70 $\\mu m$"
   ]
  },
  {
   "cell_type": "code",
   "execution_count": 147,
   "id": "e79d6736-88c8-4697-9ff8-5e5a08cdb927",
   "metadata": {},
   "outputs": [],
   "source": [
    "testSpec = splat.Spectrum('D:\\\\PythonCodes\\\\JupyterWorkspace\\\\splat_projects/spex-prism_1036Ganymed_20010322.fits')"
   ]
  },
  {
   "cell_type": "code",
   "execution_count": 246,
   "id": "eb0910ff-36ae-4fa8-9c34-55795f16bd3b",
   "metadata": {},
   "outputs": [],
   "source": [
    "def spline_fit(spec):\n",
    "    '''\n",
    "    perform cubic spline interpolation, separating into 41 wave increments from 0.45 to 2.45 microns\n",
    "    Goal is to reduce the influence of noise or missing points.\n",
    "    '''\n",
    "    \n",
    "    # Removing the units\n",
    "    x = spec.wave/u.micron\n",
    "    y = spec.flux/u.erg*u.micron*u.s*u.cm**2\n",
    "    \n",
    "    tck = interpolate.splrep(x, y, s=0) # spline prep, parameters to plot the interpolation \n",
    "    \n",
    "    xnew = np.arange(0.7, 2.6, 0.05) # separating the wavelengths into 0.05 micron increments, SpeX data seems ~0.65 - ~2.60\n",
    "    ynew = interpolate.splev(xnew, tck, der=0) # using the spline prep, obtain the \"best fit\" reflectance values\n",
    "    \n",
    "    # plots the resulted spline best fit with the original\n",
    "    plt.figure()\n",
    "    plt.plot(x, y, xnew, ynew)\n",
    "    plt.legend(['True','spline'])\n",
    "    plt.title('Cubic-spline interpolation')\n",
    "    plt.show()\n",
    "    \n",
    "    return (xnew, ynew, tck)"
   ]
  },
  {
   "cell_type": "markdown",
   "id": "dbaabc9f-71e8-44da-8fbb-8fb423b9a4b3",
   "metadata": {},
   "source": [
    "Side note, not all spectrrum data encompasses 0.45 - 2.45 microns."
   ]
  },
  {
   "cell_type": "code",
   "execution_count": 247,
   "id": "473d299e-c659-4a9c-9ee2-9d44b36f8b3d",
   "metadata": {},
   "outputs": [
    {
     "data": {
      "image/png": "[encoded data removed]",
      "text/plain": [
       "<Figure size 432x288 with 1 Axes>"
      ]
     },
     "metadata": {
      "needs_background": "light"
     },
     "output_type": "display_data"
    }
   ],
   "source": [
    "xx, yy, spline_vars = spline_fit(testSpec)"
   ]
  },
  {
   "cell_type": "code",
   "execution_count": 248,
   "id": "d9a184da-1f94-4dae-b232-ea761d151630",
   "metadata": {},
   "outputs": [
    {
     "data": {
      "text/plain": [
       "38"
      ]
     },
     "execution_count": 248,
     "metadata": {},
     "output_type": "execute_result"
    }
   ],
   "source": [
    "len(xx)"
   ]
  },
  {
   "cell_type": "code",
   "execution_count": 249,
   "id": "ec4652e7-0064-4172-a3b9-44a4a3efd026",
   "metadata": {},
   "outputs": [
    {
     "data": {
      "text/plain": [
       "array([0.7 , 0.75, 0.8 , 0.85, 0.9 , 0.95, 1.  , 1.05, 1.1 , 1.15, 1.2 ,\n",
       "       1.25, 1.3 , 1.35, 1.4 , 1.45, 1.5 , 1.55, 1.6 , 1.65, 1.7 , 1.75,\n",
       "       1.8 , 1.85, 1.9 , 1.95, 2.  , 2.05, 2.1 , 2.15, 2.2 , 2.25, 2.3 ,\n",
       "       2.35, 2.4 , 2.45, 2.5 , 2.55])"
      ]
     },
     "execution_count": 249,
     "metadata": {},
     "output_type": "execute_result"
    }
   ],
   "source": [
    "xx"
   ]
  },
  {
   "cell_type": "code",
   "execution_count": 250,
   "id": "13bacdc9-a8f5-486d-8495-d6eaf4b598d3",
   "metadata": {},
   "outputs": [
    {
     "data": {
      "text/plain": [
       "array([0.00546372, 0.00556375, 0.00540418, 0.0050238 , 0.00479476,\n",
       "       0.00483729, 0.00521953, 0.00542916, 0.0055098 , 0.00562401,\n",
       "       0.00584919, 0.00597022, 0.00604727, 0.00633584, 0.00561326,\n",
       "       0.0060665 , 0.00607712, 0.00604683, 0.00585828, 0.00572988,\n",
       "       0.00554889, 0.00549596, 0.00504715, 0.00519646, 0.00460483,\n",
       "       0.00524749, 0.00550387, 0.00538135, 0.00552421, 0.0055627 ,\n",
       "       0.00553318, 0.00547776, 0.00554424, 0.00568681, 0.00559375,\n",
       "       0.00558946, 0.00562535, 0.00585707])"
      ]
     },
     "execution_count": 250,
     "metadata": {},
     "output_type": "execute_result"
    }
   ],
   "source": [
    "yy"
   ]
  },
  {
   "cell_type": "code",
   "execution_count": 264,
   "id": "01c9ffdc-b1eb-4b2a-addc-e7968bf693b4",
   "metadata": {},
   "outputs": [],
   "source": [
    "def norm_splined(xx, yy, tck):\n",
    "    '''\n",
    "    Normalize the data at 0.75 micron wavelength, unlike Demeo 2009 our data does not contrain 0.55 micron wavelength,\n",
    "    reflected in this change. But the slope obtained with linear regression later is not dependent on the wavelength \n",
    "    which data is normalized (according to Demeo, but we seem to see otherwise?).\n",
    "    '''\n",
    "    yy_val = interpolate.splev(np.array([0.75]), tck, der=0)\n",
    "    yynew = yy/yy_val # now, 0.75 micron reflectance value = 1\n",
    "    xxnew = xx\n",
    "    return xxnew, yynew"
   ]
  },
  {
   "cell_type": "code",
   "execution_count": 258,
   "id": "41b45abb-a764-4f3b-a506-0582d78da6ab",
   "metadata": {},
   "outputs": [],
   "source": [
    "def lin_regress(xxnew, yynew):\n",
    "    '''\n",
    "    Taking a linear regression line, slope of that data is calculated.\n",
    "    '''\n",
    "    nom = np.sum((xxnew - np.mean(xxnew))*(yynew - np.mean(yynew)))\n",
    "    denom = np.sum((xxnew - np.mean(xxnew))**2)\n",
    "    gamma = nom/denom\n",
    "    return gamma"
   ]
  },
  {
   "cell_type": "code",
   "execution_count": 259,
   "id": "26a9a0c1-81b3-49d7-9533-0b4b274b3805",
   "metadata": {},
   "outputs": [],
   "source": [
    "xxnew, yynew = norm_splined(xx, yy, spline_vars)"
   ]
  },
  {
   "cell_type": "code",
   "execution_count": 260,
   "id": "e803a2b1-aebd-4867-a13c-3b6ff6a9bd0e",
   "metadata": {
    "collapsed": true,
    "jupyter": {
     "outputs_hidden": true
    },
    "tags": []
   },
   "outputs": [
    {
     "data": {
      "text/plain": [
       "(array([0.7 , 0.75, 0.8 , 0.85, 0.9 , 0.95, 1.  , 1.05, 1.1 , 1.15, 1.2 ,\n",
       "        1.25, 1.3 , 1.35, 1.4 , 1.45, 1.5 , 1.55, 1.6 , 1.65, 1.7 , 1.75,\n",
       "        1.8 , 1.85, 1.9 , 1.95, 2.  , 2.05, 2.1 , 2.15, 2.2 , 2.25, 2.3 ,\n",
       "        2.35, 2.4 , 2.45, 2.5 , 2.55]),\n",
       " array([0.98202164, 1.        , 0.97132023, 0.90295272, 0.86178565,\n",
       "        0.8694298 , 0.9381327 , 0.97581052, 0.9903038 , 1.01083045,\n",
       "        1.05130364, 1.07305709, 1.0869052 , 1.13877171, 1.00889973,\n",
       "        1.09036262, 1.09227161, 1.08682638, 1.05293801, 1.02985906,\n",
       "        0.9973293 , 0.98781613, 0.90714893, 0.93398507, 0.82764841,\n",
       "        0.94315678, 0.98923729, 0.96721657, 0.99289396, 0.99981223,\n",
       "        0.99450651, 0.98454483, 0.99649441, 1.02211877, 1.00539139,\n",
       "        1.00462166, 1.01107211, 1.05272092]))"
      ]
     },
     "execution_count": 260,
     "metadata": {},
     "output_type": "execute_result"
    }
   ],
   "source": [
    "xxnew, yynew"
   ]
  },
  {
   "cell_type": "code",
   "execution_count": 261,
   "id": "6fa8d04a-3b90-4fb0-aab2-88ea4df0f113",
   "metadata": {},
   "outputs": [
    {
     "data": {
      "text/plain": [
       "0.013259883748273166"
      ]
     },
     "execution_count": 261,
     "metadata": {},
     "output_type": "execute_result"
    }
   ],
   "source": [
    "test_slope = lin_regress(xxnew, yynew)\n",
    "test_slope"
   ]
  },
  {
   "cell_type": "code",
   "execution_count": 386,
   "id": "fc865ffe-5510-4c29-8d66-3728bf4a3a19",
   "metadata": {},
   "outputs": [],
   "source": [
    "regress_line = xxnew*test_slope + (1 - test_slope*0.75)"
   ]
  },
  {
   "cell_type": "code",
   "execution_count": 387,
   "id": "45769610-497a-4a1a-8d91-3d6796b4c8a3",
   "metadata": {
    "collapsed": true,
    "jupyter": {
     "outputs_hidden": true
    },
    "tags": []
   },
   "outputs": [
    {
     "data": {
      "text/plain": [
       "array([0.99933701, 1.        , 1.00066299, 1.00132599, 1.00198898,\n",
       "       1.00265198, 1.00331497, 1.00397797, 1.00464096, 1.00530395,\n",
       "       1.00596695, 1.00662994, 1.00729294, 1.00795593, 1.00861892,\n",
       "       1.00928192, 1.00994491, 1.01060791, 1.0112709 , 1.0119339 ,\n",
       "       1.01259689, 1.01325988, 1.01392288, 1.01458587, 1.01524887,\n",
       "       1.01591186, 1.01657485, 1.01723785, 1.01790084, 1.01856384,\n",
       "       1.01922683, 1.01988983, 1.02055282, 1.02121581, 1.02187881,\n",
       "       1.0225418 , 1.0232048 , 1.02386779])"
      ]
     },
     "execution_count": 387,
     "metadata": {},
     "output_type": "execute_result"
    }
   ],
   "source": [
    "regress_line"
   ]
  },
  {
   "cell_type": "code",
   "execution_count": 388,
   "id": "dcd2e59b-4410-4ee7-b7f1-57b13b5e5c0f",
   "metadata": {},
   "outputs": [
    {
     "data": {
      "image/png": "[encoded data removed]",
      "text/plain": [
       "<Figure size 432x288 with 1 Axes>"
      ]
     },
     "metadata": {
      "needs_background": "light"
     },
     "output_type": "display_data"
    }
   ],
   "source": [
    "plt.figure()\n",
    "plt.plot(x, y, xxnew, yynew, xxnew, regress_line) # the small details seems to be magnified in this case!\n",
    "plt.legend(['True (1036Ganymed)','Normalized Spline', 'Regression Line'])\n",
    "# plt.ylim([-0.010,0.010])\n",
    "plt.title('Cubic-spline interpolation')\n",
    "plt.show()"
   ]
  },
  {
   "cell_type": "code",
   "execution_count": 394,
   "id": "84e53aad-8944-4f2f-9f6c-a6ae03ef072e",
   "metadata": {},
   "outputs": [
    {
     "data": {
      "image/png": "[encoded data removed]",
      "text/plain": [
       "<Figure size 432x576 with 3 Axes>"
      ]
     },
     "metadata": {
      "needs_background": "light"
     },
     "output_type": "display_data"
    }
   ],
   "source": [
    "# into two portions - use the top (ax1) for the outliers, and the bottom\n",
    "# (ax2) for the details of the majority of our data\n",
    "fig, (ax1, ax2, ax3) = plt.subplots(3, 1, figsize=(6, 8), sharex=True)\n",
    "fig.subplots_adjust(hspace=0.05)  # adjust space between axes\n",
    "\n",
    "# plot the same data on both axes\n",
    "ax2.plot(xxnew, yynew, color='green')\n",
    "ax2.plot(xxnew, regress_line, c = 'magenta')\n",
    "ax1.plot(xxnew, yynew/regress_line, c = 'red')\n",
    "ax3.plot(x,y)\n",
    "ax3.plot(xx, yy, c = 'orange')\n",
    "\n",
    "ax1.set_title('Cubic-spline interpolation')\n",
    "ax1.legend(['spline divided by slope function']) \n",
    "ax2.legend(['normalized spline','linear regression'])\n",
    "ax3.legend([ '(1036Ganymed)','spline'])\n",
    "# zoom-in / limit the view to different portions of the data\n",
    "# ax2.set_ylim(.78, 1.2)  # outliers only\n",
    "# ax3.set_ylim(-0.002, 0.012)  # most of the data\n",
    "\n",
    "# hide the spines between ax and ax2\n",
    "# ax1.spines['bottom'].set_visible(False)\n",
    "ax2.spines['bottom'].set_visible(False)\n",
    "# ax2.spines['top'].set_visible(False)\n",
    "ax3.spines['top'].set_visible(False)\n",
    "ax1.xaxis.tick_top()\n",
    "ax2.xaxis.set_visible(False)\n",
    "ax1.tick_params(labeltop=False)  # don't put tick labels at the top\n",
    "ax3.xaxis.tick_bottom()\n",
    "\n",
    "# Now, let's turn towards the cut-out slanted lines.\n",
    "# We create line objects in axes coordinates, in which (0,0), (0,1),\n",
    "# (1,0), and (1,1) are the four corners of the axes.\n",
    "# The slanted lines themselves are markers at those locations, such that the\n",
    "# lines keep their angle and position, independent of the axes size or scale\n",
    "# Finally, we need to disable clipping.\n",
    "\n",
    "d = .5  # proportion of vertical to horizontal extent of the slanted line\n",
    "kwargs = dict(marker=[(-1, -d), (1, d)], markersize=12,\n",
    "              linestyle=\"none\", color='k', mec='k', mew=1, clip_on=False)\n",
    "# ax1.plot([0, 1], [0, 0], transform=ax1.transAxes, **kwargs)\n",
    "# ax2.plot([0, 1], [1, 1], transform=ax2.transAxes, **kwargs)\n",
    "ax2.plot([0, 1], [0, 0], transform=ax2.transAxes, **kwargs)\n",
    "ax3.plot([0, 1], [1, 1], transform=ax3.transAxes, **kwargs)\n",
    "\n",
    "\n",
    "plt.show()\n",
    "fig.savefig('demeo_data_prep_divide_slope.png')"
   ]
  },
  {
   "cell_type": "code",
   "execution_count": null,
   "id": "c6a8fd1a-d357-4bf0-ba90-56156cfbde72",
   "metadata": {},
   "outputs": [],
   "source": []
  },
  {
   "cell_type": "code",
   "execution_count": 82,
   "id": "60d3a2fb-9b46-441d-a528-b8289471beb9",
   "metadata": {
    "collapsed": true,
    "jupyter": {
     "outputs_hidden": true
    },
    "tags": []
   },
   "outputs": [
    {
     "data": {
      "text/plain": [
       "(<Quantity [0.657854  , 0.6599637 , 0.6620699 , 0.6641733 , 0.6662748 ,\n",
       "            0.668375  , 0.67047465, 0.6725745 , 0.6746753 , 0.67677754,\n",
       "            0.67888206, 0.68098944, 0.6831003 , 0.6852152 , 0.68733484,\n",
       "            0.68945974, 0.69159055, 0.69372773, 0.69587183, 0.69802344,\n",
       "            0.7001831 , 0.7023512 , 0.7045283 , 0.7067148 , 0.7089113 ,\n",
       "            0.7111181 , 0.71333575, 0.71556455, 0.717805  , 0.72005755,\n",
       "            0.72232246, 0.72460014, 0.726891  , 0.7291953 , 0.73151344,\n",
       "            0.7338458 , 0.7361925 , 0.73855406, 0.7409307 , 0.7433227 ,\n",
       "            0.7457302 , 0.7481536 , 0.75059325, 0.75304914, 0.75552166,\n",
       "            0.75801104, 0.76051736, 0.76304096, 0.76558197, 0.7681405 ,\n",
       "            0.77071685, 0.7733111 , 0.77592343, 0.778554  , 0.7812029 ,\n",
       "            0.7838703 , 0.7865563 , 0.789261  , 0.7919845 , 0.7947269 ,\n",
       "            0.7974883 , 0.80026877, 0.80306834, 0.80588716, 0.8087252 ,\n",
       "            0.81158257, 0.81445926, 0.81735533, 0.8202708 , 0.8232057 ,\n",
       "            0.82616   , 0.8291338 , 0.832127  , 0.83513963, 0.8381717 ,\n",
       "            0.8412232 , 0.844294  , 0.8473842 , 0.8504937 , 0.8536225 ,\n",
       "            0.85677046, 0.8599376 , 0.8631239 , 0.8663292 , 0.8695535 ,\n",
       "            0.8727967 , 0.8760587 , 0.87933946, 0.88263893, 0.8859569 ,\n",
       "            0.8892934 , 0.89264816, 0.89602125, 0.89941245, 0.9028217 ,\n",
       "            0.9062489 , 0.9096939 , 0.91315657, 0.91663677, 0.9201344 ,\n",
       "            0.9236493 , 0.92718136, 0.9307304 , 0.9342963 , 0.9378789 ,\n",
       "            0.941478  , 0.9450936 , 0.9487254 , 0.95237327, 0.95603704,\n",
       "            0.9597166 , 0.96341175, 0.9671223 , 0.9708481 , 0.974589  ,\n",
       "            0.97834474, 0.98211527, 0.9859003 , 0.98969966, 0.9935132 ,\n",
       "            0.9973408 , 1.0011822 , 1.0050371 , 1.0089055 , 1.0127871 ,\n",
       "            1.0166818 , 1.0205894 , 1.0245094 , 1.028442  , 1.0323869 ,\n",
       "            1.0363438 , 1.0403125 , 1.044293  , 1.0482849 , 1.052288  ,\n",
       "            1.0563022 , 1.0603273 , 1.064363  , 1.0684091 , 1.0724654 ,\n",
       "            1.0765319 , 1.080608  , 1.0846939 , 1.0887892 , 1.0928936 ,\n",
       "            1.0970072 , 1.1011294 , 1.1052603 , 1.1093996 , 1.1135471 ,\n",
       "            1.1177025 , 1.1218657 , 1.1260365 , 1.1302147 , 1.1344    ,\n",
       "            1.1385922 , 1.1427913 , 1.146997  , 1.1512089 , 1.155427  ,\n",
       "            1.159651  , 1.163881  , 1.1681163 , 1.1723571 , 1.1766031 ,\n",
       "            1.180854  , 1.1851096 , 1.1893699 , 1.1936345 , 1.1979034 ,\n",
       "            1.2021762 , 1.2064528 , 1.2107332 , 1.215017  , 1.219304  ,\n",
       "            1.223594  , 1.2278869 , 1.2321826 , 1.2364808 , 1.2407813 ,\n",
       "            1.245084  , 1.2493887 , 1.2536952 , 1.2580035 , 1.2623131 ,\n",
       "            1.266624  , 1.2709361 , 1.2752491 , 1.279563  , 1.2838775 ,\n",
       "            1.2881924 , 1.2925078 , 1.2968231 , 1.3011386 , 1.3054539 ,\n",
       "            1.3097688 , 1.3140833 , 1.3183973 , 1.3227104 , 1.3270227 ,\n",
       "            1.3313338 , 1.3356438 , 1.3399525 , 1.3442596 , 1.3485652 ,\n",
       "            1.352869  , 1.3571709 , 1.3614709 , 1.3657687 , 1.3700643 ,\n",
       "            1.3743573 , 1.378648  , 1.382936  , 1.3872212 , 1.3915036 ,\n",
       "            1.395783  , 1.4000592 , 1.4043323 , 1.4086019 , 1.4128683 ,\n",
       "            1.417131  , 1.42139   , 1.4256454 , 1.4298968 , 1.4341444 ,\n",
       "            1.4383879 , 1.4426273 , 1.4468625 , 1.4510932 , 1.4553196 ,\n",
       "            1.4595416 , 1.463759  , 1.4679717 , 1.4721795 , 1.4763827 ,\n",
       "            1.4805809 , 1.4847742 , 1.4889624 , 1.4931456 , 1.4973235 ,\n",
       "            1.5014962 , 1.5056635 , 1.5098255 , 1.513982  , 1.518133  ,\n",
       "            1.5222785 , 1.5264184 , 1.5305527 , 1.5346812 , 1.5388039 ,\n",
       "            1.5429208 , 1.5470319 , 1.5511371 , 1.5552362 , 1.5593294 ,\n",
       "            1.5634166 , 1.5674977 , 1.5715727 , 1.5756415 , 1.5797042 ,\n",
       "            1.5837606 , 1.5878109 , 1.5918548 , 1.5958924 , 1.5999237 ,\n",
       "            1.6039488 , 1.6079674 , 1.6119796 , 1.6159855 , 1.6199849 ,\n",
       "            1.6239778 , 1.6279644 , 1.6319444 , 1.6359179 , 1.6398851 ,\n",
       "            1.6438456 , 1.6477996 , 1.6517472 , 1.6556882 , 1.6596227 ,\n",
       "            1.6635506 , 1.667472  , 1.671387  , 1.6752952 , 1.6791971 ,\n",
       "            1.6830924 , 1.6869812 , 1.6908634 , 1.6947391 , 1.6986083 ,\n",
       "            1.702471  , 1.7063272 , 1.710177  , 1.7140203 , 1.717857  ,\n",
       "            1.7216873 , 1.7255112 , 1.7293288 , 1.7331398 , 1.7369444 ,\n",
       "            1.7407427 , 1.7445346 , 1.7483202 , 1.7520995 , 1.7558725 ,\n",
       "            1.759639  , 1.7633995 , 1.7671536 , 1.7709016 , 1.7746432 ,\n",
       "            1.7783787 , 1.7821081 , 1.7858312 , 1.7895484 , 1.7932594 ,\n",
       "            1.7969643 , 1.8006631 , 1.804356  , 1.8080429 , 1.8117237 ,\n",
       "            1.8153987 , 1.8190677 , 1.8227309 , 1.8263881 , 1.8300395 ,\n",
       "            1.8336852 , 1.8373249 , 1.840959  , 1.8445872 , 1.8482099 ,\n",
       "            1.8518267 , 1.855438  , 1.8590435 , 1.8626435 , 1.8662379 ,\n",
       "            1.8698268 , 1.8734101 , 1.8769879 , 1.8805603 , 1.8841271 ,\n",
       "            1.8876885 , 1.8912445 , 1.8947952 , 1.8983405 , 1.9018805 ,\n",
       "            1.9054152 , 1.9089445 , 1.9124686 , 1.9159875 , 1.9195011 ,\n",
       "            1.9230095 , 1.9265128 , 1.9300109 , 1.9335039 , 1.9369917 ,\n",
       "            1.9404745 , 1.9439521 , 1.9474248 , 1.9508923 , 1.9543549 ,\n",
       "            1.9578124 , 1.961265  , 1.9647126 , 1.9681551 , 1.9715929 ,\n",
       "            1.9750257 , 1.9784535 , 1.9818764 , 1.9852945 , 1.9887075 ,\n",
       "            1.9921159 , 1.9955193 , 1.9989178 , 2.0023115 , 2.0057006 ,\n",
       "            2.0090845 , 2.0124638 , 2.0158384 , 2.019208  , 2.0225728 ,\n",
       "            2.0259328 , 2.029288  , 2.0326385 , 2.0359843 , 2.0393252 ,\n",
       "            2.0426612 , 2.0459926 , 2.0493193 , 2.052641  , 2.055958  ,\n",
       "            2.0592701 , 2.0625777 , 2.0658803 , 2.0691783 , 2.0724714 ,\n",
       "            2.0757596 , 2.0790431 , 2.0823216 , 2.0855956 , 2.0888646 ,\n",
       "            2.0921288 , 2.0953882 , 2.0986428 , 2.1018925 , 2.1051373 ,\n",
       "            2.1083772 , 2.1116123 , 2.1148427 , 2.118068  , 2.1212883 ,\n",
       "            2.1245039 , 2.1277144 , 2.1309202 , 2.134121  , 2.1373167 ,\n",
       "            2.1405075 , 2.1436934 , 2.1468742 , 2.1500502 , 2.1532211 ,\n",
       "            2.1563869 , 2.1595478 , 2.1627035 , 2.1658545 , 2.1690001 ,\n",
       "            2.1721408 , 2.1752765 , 2.1784072 , 2.1815326 , 2.184653  ,\n",
       "            2.1877685 , 2.1908786 , 2.1939838 , 2.197084  , 2.2001789 ,\n",
       "            2.2032688 , 2.2063534 , 2.209433  , 2.2125077 , 2.2155771 ,\n",
       "            2.2186415 , 2.221701  , 2.224755  , 2.2278044 , 2.2308486 ,\n",
       "            2.2338874 , 2.2369215 , 2.2399507 , 2.2429745 , 2.2459936 ,\n",
       "            2.2490077 , 2.252017  , 2.2550213 , 2.2580206 , 2.2610152 ,\n",
       "            2.264005  , 2.2669897 , 2.26997   , 2.2729456 , 2.2759163 ,\n",
       "            2.2788827 , 2.2818444 , 2.2848015 , 2.2877543 , 2.2907026 ,\n",
       "            2.2936468 , 2.2965865 , 2.2995222 , 2.3024538 , 2.305381  ,\n",
       "            2.3083048 , 2.3112245 , 2.3141403 , 2.3170526 , 2.3199613 ,\n",
       "            2.3228664 , 2.3257682 , 2.328667  , 2.3315625 , 2.334455  ,\n",
       "            2.3373446 , 2.3402317 , 2.343116  , 2.345998  , 2.3488777 ,\n",
       "            2.3517554 , 2.354631  , 2.3575048 , 2.360377  , 2.363248  ,\n",
       "            2.3661177 , 2.3689864 , 2.3718543 , 2.3747218 , 2.3775887 ,\n",
       "            2.3804555 , 2.3833227 , 2.38619   , 2.3890579 , 2.3919268 ,\n",
       "            2.3947968 , 2.3976684 , 2.4005418 , 2.403417  , 2.4062946 ,\n",
       "            2.4091752 , 2.4120584 , 2.4149451 , 2.4178355 , 2.42073   ,\n",
       "            2.423629  , 2.4265327 , 2.4294417 , 2.4323564 , 2.435277  ,\n",
       "            2.438204  , 2.441138  , 2.4440794 , 2.4470286 , 2.4499862 ,\n",
       "            2.4529526 , 2.4559283 , 2.4589138 , 2.4619095 , 2.4649165 ,\n",
       "            2.4679346 , 2.4709651 , 2.474008  , 2.4770644 , 2.4801345 ,\n",
       "            2.4832191 , 2.4863188 , 2.4894345 , 2.4925668 , 2.495716  ,\n",
       "            2.4988835 , 2.5020697 , 2.5052752 , 2.5085008 , 2.5117476 ,\n",
       "            2.515016  , 2.5183072 , 2.521622  , 2.524961  , 2.5283253 ,\n",
       "            2.5317156 , 2.5351331 , 2.5385787 , 2.5420532 , 2.5455577 ,\n",
       "            2.5490932 , 2.5526607 , 2.5562613 , 2.559896  , 2.563566  ,\n",
       "            2.5672724 , 2.5710163 , 2.574799  , 2.5786216 , 2.5824852 ,\n",
       "            2.5863912 , 2.590341  , 2.5943356 ]>,\n",
       " <Quantity [ 0.00525145,  0.00529287,  0.00534304,  0.00554535,  0.00525107,\n",
       "             0.0052253 ,  0.00518528,  0.00534696,  0.00540747,  0.00526486,\n",
       "             0.00547012,  0.00535234,  0.00543878,  0.00552753,  0.00531725,\n",
       "             0.00543262,  0.0054574 ,  0.00535123,  0.0054206 ,  0.00533696,\n",
       "             0.00547852,  0.00549977,  0.00532034,  0.00564057,  0.00553487,\n",
       "             0.00561533,  0.00549848,  0.00544317,  0.00545814,  0.00564178,\n",
       "             0.00551597,  0.00563034,  0.00571073,  0.00553185,  0.0055295 ,\n",
       "             0.00560413,  0.00559312,  0.00549407,  0.00557173,  0.00554125,\n",
       "             0.00561671,  0.00556844,  0.00555767,  0.00550659,  0.00560831,\n",
       "             0.00552388,  0.00534141,  0.00532778,  0.00552637,  0.00556034,\n",
       "             0.00563399,  0.00561108,  0.00553822,  0.00553369,  0.00550564,\n",
       "             0.00551143,  0.00540761,  0.00551017,  0.00541317,  0.00541235,\n",
       "             0.00546534,  0.00539836,  0.00540452,  0.00543539,  0.0053877 ,\n",
       "             0.0053468 ,  0.00532418,  0.00523425,  0.00526878,  0.00537685,\n",
       "             0.00521939,  0.00521706,  0.0051588 ,  0.00515868,  0.00517778,\n",
       "             0.00513049,  0.00510683,  0.00506756,  0.00501653,  0.00500268,\n",
       "             0.00503905,  0.00498501,  0.0049834 ,  0.00488694,  0.00491747,\n",
       "             0.00491402,  0.00490976,  0.00484189,  0.00491253,  0.0048797 ,\n",
       "             0.00485962,  0.00481946,  0.00480049,  0.0048032 ,  0.00475187,\n",
       "             0.00478629,  0.00474342,  0.0047944 ,  0.00475626,  0.004755  ,\n",
       "             0.00480734,  0.00468298,  0.00469484,  0.0047488 ,  0.00471819,\n",
       "             0.00476617,  0.0048374 ,  0.00483414,  0.00485505,  0.00488828,\n",
       "             0.00493341,  0.00495655,  0.00500282,  0.00502515,  0.00503095,\n",
       "             0.00511402,  0.00510911,  0.00516228,  0.00515815,  0.00522967,\n",
       "             0.00522449,  0.00522303,  0.00524051,  0.00525619,  0.00534993,\n",
       "             0.00532102,  0.00538309,  0.00540242,  0.00536728,  0.0053754 ,\n",
       "             0.00537877,  0.00539877,  0.00539584,  0.00542417,  0.00542729,\n",
       "             0.00542641,  0.00544144,  0.00544207,  0.00542956,  0.00545024,\n",
       "             0.00556623,  0.00547907,  0.00547614,  0.00552732,  0.00549085,\n",
       "             0.00553807,  0.00550861,  0.0055992 ,  0.00558772,  0.00559623,\n",
       "             0.00556764,  0.00551804,  0.00555496,  0.00547335,  0.00565551,\n",
       "             0.00562165,  0.00569197,  0.0056584 ,  0.00562326,  0.00569051,\n",
       "             0.00577289,  0.00578445,  0.00583892,  0.00575889,  0.00579429,\n",
       "             0.00578804,  0.00581043,  0.00581868,  0.00585431,  0.00581822,\n",
       "             0.00588016,  0.00585114,  0.0059147 ,  0.00583396,  0.00591751,\n",
       "             0.00587685,  0.00593983,  0.00592912,  0.00592491,  0.00594654,\n",
       "             0.00598401,  0.00596717,  0.0059915 ,  0.00593092,  0.00595597,\n",
       "             0.00587946,  0.00593542,  0.00587336,  0.00600752,  0.00592119,\n",
       "             0.00602177,  0.00599586,  0.00608472,  0.00604008,  0.00609946,\n",
       "             0.00600854,  0.00608697,  0.00601287,  0.00610831,  0.00602479,\n",
       "             0.00602653,  0.00592126,  0.00608919,  0.0061356 ,  0.0063475 ,\n",
       "             0.00625922,  0.00624114,  0.00566483,  0.00530358,  0.0058216 ,\n",
       "             0.00601878,  0.00569701,  0.005868  ,  0.00562758,  0.00594208,\n",
       "             0.00584987,  0.00561334,  0.00588136,  0.00605879,  0.0058541 ,\n",
       "             0.00607201,  0.00598521,  0.00623241,  0.00594335,  0.00607706,\n",
       "             0.00580692,  0.00605569,  0.00590891,  0.00611701,  0.00607669,\n",
       "             0.00621393,  0.00600137,  0.00608348,  0.00601217,  0.00608718,\n",
       "             0.00594755,  0.00613252,  0.00596383,  0.00622964,  0.00601914,\n",
       "             0.00610214,  0.00593621,  0.0061403 ,  0.00596131,  0.00613342,\n",
       "             0.0058597 ,  0.00618375,  0.00588137,  0.00615863,  0.00588113,\n",
       "             0.00606343,  0.00587516,  0.00608458,  0.00587887,  0.00608958,\n",
       "             0.00581946,  0.00601623,  0.0057848 ,  0.00594778,  0.00572946,\n",
       "             0.00589723,  0.00562076,  0.0059856 ,  0.00575252,  0.00585935,\n",
       "             0.00562102,  0.00572445,  0.00568563,  0.00587175,  0.00564052,\n",
       "             0.00589797,  0.00571077,  0.0059083 ,  0.00562606,  0.00586525,\n",
       "             0.0056558 ,  0.00584613,  0.0056489 ,  0.00584793,  0.00561305,\n",
       "             0.00573559,  0.00556803,  0.00570127,  0.00558343,  0.00576481,\n",
       "             0.00560309,  0.00571522,  0.00562581,  0.00569661,  0.00549915,\n",
       "             0.00565422,  0.0054425 ,  0.00563528,  0.00549342,  0.00570306,\n",
       "             0.00550222,  0.0056007 ,  0.00545469,  0.00556237,  0.00540874,\n",
       "             0.00547325,  0.00537186,  0.00552426,  0.00543436,  0.005488  ,\n",
       "             0.00533346,  0.00535212,  0.00534558,  0.00534307,  0.00534164,\n",
       "             0.00546615,  0.00525162,  0.00544981,  0.00523106,  0.00534158,\n",
       "             0.00512202,  0.00506172,  0.0051583 ,  0.00490789,  0.00497359,\n",
       "             0.00519601,  0.00511773,  0.00527122,  0.00474517,  0.00555219,\n",
       "             0.00514488,  0.00467455,  0.0048428 ,  0.00483265,  0.00559439,\n",
       "             0.00468447,  0.00506655,  0.00534095,  0.00478029,  0.00473869,\n",
       "             0.00480118,  0.00416508,  0.00495583,  0.00553735,  0.00549911,\n",
       "             0.00496052,  0.00490027,  0.00503812,  0.00462437,  0.00477259,\n",
       "             0.00510901,  0.00487599,  0.00535069,  0.00524066,  0.00536874,\n",
       "             0.00546891,  0.00508816,  0.00517843,  0.00506179,  0.0053408 ,\n",
       "             0.00526775,  0.005243  ,  0.00535343,  0.00518428,  0.00503413,\n",
       "             0.00519989,  0.00519753,  0.00539196,  0.00533951,  0.00542231,\n",
       "             0.00535126,  0.00535669,  0.00543606,  0.00535879,  0.00544698,\n",
       "             0.00545273,  0.00540963,  0.00554593,  0.00531422,  0.00519463,\n",
       "             0.0052823 ,  0.00532609,  0.00539155,  0.00533491,  0.00548363,\n",
       "             0.00545865,  0.00545251,  0.00548623,  0.00537896,  0.00555348,\n",
       "             0.00547453,  0.00546182,  0.00539363,  0.00537337,  0.00542748,\n",
       "             0.00543715,  0.00545793,  0.00541086,  0.00540272,  0.00547341,\n",
       "             0.00552842,  0.00560322,  0.00553548,  0.00567035,  0.00547585,\n",
       "             0.00562461,  0.00550434,  0.0055907 ,  0.00541582,  0.00551319,\n",
       "             0.00546834,  0.00554502,  0.00551794,  0.0055239 ,  0.0054052 ,\n",
       "             0.0054682 ,  0.00561428,  0.00563182,  0.00557919,  0.00553219,\n",
       "             0.00556328,  0.00548417,  0.00537389,  0.00556422,  0.0055258 ,\n",
       "             0.00562021,  0.00556405,  0.0056073 ,  0.00548161,  0.00556205,\n",
       "             0.00552308,  0.00564123,  0.0056078 ,  0.00562468,  0.00555836,\n",
       "             0.00553733,  0.00557056,  0.00559595,  0.00560751,  0.00553291,\n",
       "             0.00559336,  0.00551374,  0.00557304,  0.00565071,  0.00561282,\n",
       "             0.00574379,  0.00565111,  0.00551688,  0.00562721,  0.0055866 ,\n",
       "             0.00567426,  0.00562226,  0.00560099,  0.00553439,  0.00562542,\n",
       "             0.00550907,  0.00549014,  0.005618  ,  0.00556652,  0.00554396,\n",
       "             0.00548781,  0.0056332 ,  0.00551605,  0.00561686,  0.00561108,\n",
       "             0.00562019,  0.00560935,  0.00556052,  0.00546714,  0.00578451,\n",
       "             0.00561052,  0.00562343,  0.0055396 ,  0.00558445,  0.00545277,\n",
       "             0.00565818,  0.0054274 ,  0.00556856,  0.00560494,  0.00548335,\n",
       "             0.00576081,  0.00568607,  0.00566896,  0.00585615,  0.00557843,\n",
       "             0.00556724,  0.00565392,  0.00563614,  0.00553206,  0.00566193,\n",
       "             0.00566865,  0.00561871,  0.00566527,  0.00564986,  0.00584021,\n",
       "             0.00560666,  0.00546097,  0.00579684,  0.00552666,  0.00576767,\n",
       "             0.00560977,  0.00585164,  0.00563619,  0.00589265,  0.00573654,\n",
       "             0.00575572,  0.00562771,  0.00559942,  0.00560615,  0.0055137 ,\n",
       "             0.00574782,  0.00571713,  0.0056542 ,  0.00547448,  0.00560175,\n",
       "             0.00583401,  0.00572964,  0.0057862 ,  0.00562088,  0.00579906,\n",
       "             0.00547696,  0.00575814,  0.00582883,  0.00593125,  0.00559055,\n",
       "             0.00560889,  0.00581251,  0.00629107,  0.00602418,  0.00585998,\n",
       "             0.00599168,  0.00558111,  0.00582675,  0.00597211,  0.00594159,\n",
       "             0.00633609,  0.00562672,  0.00572891,  0.0059778 ,  0.00587915,\n",
       "             0.00543352,  0.00606956,  0.00578929,  0.00598867,  0.00526902,\n",
       "             0.00564337,  0.00544699,  0.00537942,  0.00555243,  0.00521056,\n",
       "             0.0049539 ,  0.00670197,  0.00565949,  0.00547419,  0.00681587,\n",
       "             0.00599884,  0.00572513,  0.00543688,  0.00603044,  0.00318888,\n",
       "             0.00504735,  0.00881504, -0.01017239, -0.00159779,  0.01078103,\n",
       "             0.00515285,  0.00608066,  0.01333139]>)"
      ]
     },
     "execution_count": 82,
     "metadata": {},
     "output_type": "execute_result"
    }
   ],
   "source": [
    "x = testSpec.wave/u.micron\n",
    "y = testSpec.flux/u.erg*u.micron*u.s*u.cm**2\n",
    "x,y"
   ]
  },
  {
   "cell_type": "code",
   "execution_count": 83,
   "id": "f81eba11-cdcd-4052-b815-bf8832d5487f",
   "metadata": {},
   "outputs": [],
   "source": [
    "tck = interpolate.splrep(x, y, s=0)"
   ]
  },
  {
   "cell_type": "code",
   "execution_count": 84,
   "id": "434078b5-13d0-4e91-bfe7-10838ac771eb",
   "metadata": {
    "collapsed": true,
    "jupyter": {
     "outputs_hidden": true
    },
    "tags": []
   },
   "outputs": [
    {
     "data": {
      "text/plain": [
       "(array([0.65785402, 0.65785402, 0.65785402, 0.65785402, 0.66206992,\n",
       "        0.66417331, 0.66627479, 0.66837502, 0.67047465, 0.67257452,\n",
       "        0.67467529, 0.67677754, 0.67888206, 0.68098944, 0.68310028,\n",
       "        0.68521518, 0.68733484, 0.68945974, 0.69159055, 0.69372773,\n",
       "        0.69587183, 0.69802344, 0.70018309, 0.70235121, 0.70452827,\n",
       "        0.70671481, 0.7089113 , 0.7111181 , 0.71333575, 0.71556455,\n",
       "        0.71780503, 0.72005755, 0.72232246, 0.72460014, 0.72689098,\n",
       "        0.7291953 , 0.73151344, 0.73384577, 0.73619252, 0.73855406,\n",
       "        0.74093068, 0.74332267, 0.74573022, 0.74815363, 0.75059325,\n",
       "        0.75304914, 0.75552166, 0.75801104, 0.76051736, 0.76304096,\n",
       "        0.76558197, 0.76814049, 0.77071685, 0.77331108, 0.77592343,\n",
       "        0.77855402, 0.78120291, 0.78387028, 0.7865563 , 0.78926098,\n",
       "        0.7919845 , 0.79472691, 0.79748827, 0.80026877, 0.80306834,\n",
       "        0.80588716, 0.80872518, 0.81158257, 0.81445926, 0.81735533,\n",
       "        0.82027078, 0.82320571, 0.82616001, 0.82913381, 0.83212698,\n",
       "        0.83513963, 0.83817172, 0.84122318, 0.84429401, 0.84738421,\n",
       "        0.85049373, 0.8536225 , 0.85677046, 0.85993761, 0.86312389,\n",
       "        0.86632919, 0.86955351, 0.87279671, 0.8760587 , 0.87933946,\n",
       "        0.88263893, 0.88595688, 0.88929337, 0.89264816, 0.89602125,\n",
       "        0.89941245, 0.90282172, 0.90624893, 0.9096939 , 0.91315657,\n",
       "        0.91663677, 0.92013443, 0.92364931, 0.92718136, 0.9307304 ,\n",
       "        0.93429631, 0.93787891, 0.94147801, 0.94509357, 0.9487254 ,\n",
       "        0.95237327, 0.95603704, 0.95971662, 0.96341175, 0.96712232,\n",
       "        0.97084808, 0.97458899, 0.97834474, 0.98211527, 0.98590028,\n",
       "        0.98969966, 0.99351323, 0.9973408 , 1.0011822 , 1.00503707,\n",
       "        1.00890553, 1.0127871 , 1.01668179, 1.02058935, 1.02450943,\n",
       "        1.02844203, 1.0323869 , 1.03634381, 1.04031253, 1.04429305,\n",
       "        1.04828489, 1.05228806, 1.05630219, 1.06032729, 1.064363  ,\n",
       "        1.06840909, 1.07246542, 1.07653189, 1.08060801, 1.08469391,\n",
       "        1.08878922, 1.0928936 , 1.09700716, 1.10112941, 1.10526025,\n",
       "        1.10939956, 1.11354709, 1.11770248, 1.12186575, 1.12603652,\n",
       "        1.13021469, 1.13440001, 1.13859224, 1.14279127, 1.14699697,\n",
       "        1.15120888, 1.15542698, 1.15965104, 1.16388094, 1.16811633,\n",
       "        1.17235708, 1.17660308, 1.18085396, 1.18510962, 1.18936992,\n",
       "        1.19363451, 1.19790339, 1.20217621, 1.20645285, 1.21073318,\n",
       "        1.21501696, 1.21930397, 1.22359395, 1.22788692, 1.23218262,\n",
       "        1.23648083, 1.24078131, 1.24508405, 1.24938869, 1.25369525,\n",
       "        1.25800347, 1.26231313, 1.26662397, 1.27093613, 1.27524912,\n",
       "        1.27956295, 1.28387749, 1.28819239, 1.29250777, 1.29682314,\n",
       "        1.30113864, 1.3054539 , 1.3097688 , 1.31408334, 1.31839728,\n",
       "        1.32271039, 1.32702267, 1.33133376, 1.33564377, 1.33995247,\n",
       "        1.34425962, 1.34856522, 1.35286903, 1.35717094, 1.36147094,\n",
       "        1.36576867, 1.37006426, 1.37435734, 1.37864804, 1.382936  ,\n",
       "        1.38722122, 1.39150357, 1.39578295, 1.40005922, 1.40433228,\n",
       "        1.40860188, 1.41286826, 1.41713095, 1.42139006, 1.42564535,\n",
       "        1.42989683, 1.43414438, 1.43838787, 1.44262731, 1.44686246,\n",
       "        1.4510932 , 1.45531964, 1.45954156, 1.46375895, 1.46797168,\n",
       "        1.47217953, 1.47638273, 1.48058093, 1.48477423, 1.48896241,\n",
       "        1.49314559, 1.49732351, 1.5014962 , 1.50566351, 1.50982547,\n",
       "        1.51398206, 1.51813304, 1.52227855, 1.52641845, 1.53055274,\n",
       "        1.5346812 , 1.53880394, 1.54292083, 1.54703188, 1.55113709,\n",
       "        1.55523622, 1.55932939, 1.5634166 , 1.56749773, 1.57157266,\n",
       "        1.57564151, 1.57970417, 1.58376062, 1.58781087, 1.59185481,\n",
       "        1.59589243, 1.59992373, 1.60394883, 1.60796738, 1.6119796 ,\n",
       "        1.61598551, 1.61998487, 1.62397778, 1.62796438, 1.63194442,\n",
       "        1.6359179 , 1.63988507, 1.64384556, 1.64779961, 1.65174723,\n",
       "        1.65568817, 1.65962267, 1.66355062, 1.667472  , 1.67138696,\n",
       "        1.67529523, 1.67919707, 1.68309236, 1.6869812 , 1.69086337,\n",
       "        1.6947391 , 1.69860828, 1.70247102, 1.7063272 , 1.71017694,\n",
       "        1.71402025, 1.717857  , 1.72168732, 1.72551119, 1.72932875,\n",
       "        1.73313975, 1.73694444, 1.74074268, 1.74453461, 1.74832022,\n",
       "        1.75209951, 1.75587249, 1.75963902, 1.76339948, 1.76715362,\n",
       "        1.77090156, 1.77464318, 1.77837873, 1.78210807, 1.78583121,\n",
       "        1.7895484 , 1.79325938, 1.79696429, 1.80066311, 1.80435598,\n",
       "        1.80804288, 1.81172371, 1.81539869, 1.81906772, 1.8227309 ,\n",
       "        1.82638812, 1.8300395 , 1.83368516, 1.83732486, 1.84095895,\n",
       "        1.84458721, 1.84820986, 1.85182667, 1.85543799, 1.85904348,\n",
       "        1.86264348, 1.86623788, 1.86982679, 1.87341011, 1.87698793,\n",
       "        1.88056028, 1.88412714, 1.88768852, 1.89124453, 1.89479518,\n",
       "        1.89834046, 1.9018805 , 1.90541518, 1.90894449, 1.91246855,\n",
       "        1.91598749, 1.91950107, 1.92300951, 1.92651284, 1.93001091,\n",
       "        1.93350387, 1.93699169, 1.94047451, 1.94395208, 1.94742477,\n",
       "        1.95089233, 1.95435488, 1.95781243, 1.96126497, 1.96471262,\n",
       "        1.96815515, 1.9715929 , 1.97502565, 1.97845352, 1.98187637,\n",
       "        1.98529446, 1.98870754, 1.99211586, 1.99551928, 1.99891782,\n",
       "        2.00231147, 2.00570059, 2.00908446, 2.01246381, 2.01583838,\n",
       "        2.01920795, 2.02257276, 2.02593279, 2.02928805, 2.03263855,\n",
       "        2.03598428, 2.03932524, 2.04266119, 2.04599261, 2.04931927,\n",
       "        2.05264091, 2.05595803, 2.05927014, 2.06257772, 2.0658803 ,\n",
       "        2.06917834, 2.07247138, 2.07575965, 2.07904315, 2.08232164,\n",
       "        2.08559561, 2.08886456, 2.09212875, 2.09538817, 2.09864283,\n",
       "        2.10189247, 2.10513735, 2.10837722, 2.11161232, 2.11484265,\n",
       "        2.11806798, 2.1212883 , 2.12450385, 2.1277144 , 2.13092017,\n",
       "        2.13412094, 2.1373167 , 2.14050746, 2.14369345, 2.14687419,\n",
       "        2.15005016, 2.15322113, 2.15638685, 2.15954781, 2.16270351,\n",
       "        2.16585445, 2.16900015, 2.17214084, 2.17527652, 2.17840719,\n",
       "        2.18153262, 2.18465304, 2.18776846, 2.19087863, 2.19398379,\n",
       "        2.19708395, 2.20017886, 2.20326877, 2.20635343, 2.20943308,\n",
       "        2.21250772, 2.21557713, 2.21864152, 2.22170091, 2.22475505,\n",
       "        2.22780442, 2.23084855, 2.23388743, 2.23692155, 2.23995066,\n",
       "        2.24297452, 2.24599361, 2.2490077 , 2.25201702, 2.25502133,\n",
       "        2.25802064, 2.26101518, 2.26400495, 2.26698971, 2.26996994,\n",
       "        2.27294564, 2.27591634, 2.27888274, 2.28184438, 2.28480148,\n",
       "        2.2877543 , 2.29070258, 2.29364681, 2.29658651, 2.29952216,\n",
       "        2.30245376, 2.30538106, 2.30830479, 2.31122446, 2.31414032,\n",
       "        2.3170526 , 2.31996131, 2.32286644, 2.32576823, 2.32866693,\n",
       "        2.33156252, 2.33445501, 2.33734465, 2.34023166, 2.34311604,\n",
       "        2.34599805, 2.34887767, 2.35175538, 2.35463095, 2.35750484,\n",
       "        2.36037707, 2.36324811, 2.36611772, 2.36898637, 2.37185431,\n",
       "        2.37472177, 2.37758875, 2.38045549, 2.38332272, 2.38618994,\n",
       "        2.38905787, 2.39192677, 2.39479685, 2.39766836, 2.40054178,\n",
       "        2.40341711, 2.40629458, 2.40917516, 2.41205835, 2.41494513,\n",
       "        2.41783547, 2.42073011, 2.42362905, 2.42653275, 2.42944169,\n",
       "        2.43235636, 2.43527699, 2.43820405, 2.44113803, 2.4440794 ,\n",
       "        2.44702864, 2.44998622, 2.45295262, 2.45592833, 2.4589138 ,\n",
       "        2.46190953, 2.46491647, 2.46793461, 2.47096515, 2.47400808,\n",
       "        2.47706437, 2.48013449, 2.48321915, 2.48631883, 2.48943448,\n",
       "        2.49256682, 2.49571609, 2.49888349, 2.50206971, 2.50527525,\n",
       "        2.50850081, 2.5117476 , 2.51501608, 2.51830721, 2.52162194,\n",
       "        2.52496099, 2.52832532, 2.53171563, 2.53513312, 2.53857875,\n",
       "        2.54205322, 2.54555774, 2.54909325, 2.5526607 , 2.5562613 ,\n",
       "        2.55989599, 2.56356597, 2.56727242, 2.57101631, 2.57479906,\n",
       "        2.57862163, 2.5824852 , 2.58639121, 2.59433556, 2.59433556,\n",
       "        2.59433556, 2.59433556]),\n",
       " array([ 0.00525145,  0.00538345,  0.00510764,  0.00572091,  0.00512723,\n",
       "         0.00527706,  0.00511631,  0.00536945,  0.00548787,  0.00512358,\n",
       "         0.00560726,  0.00526833,  0.00543306,  0.00563316,  0.00519866,\n",
       "         0.00547517,  0.00549758,  0.00527801,  0.0054978 ,  0.00525425,\n",
       "         0.00550708,  0.0055905 ,  0.00512715,  0.00582454,  0.00542006,\n",
       "         0.00570359,  0.00545782,  0.00545415,  0.00538402,  0.00576112,\n",
       "         0.00542246,  0.00564386,  0.0057873 ,  0.00546975,  0.00552243,\n",
       "         0.00561888,  0.00562779,  0.00542687,  0.00562916,  0.00548744,\n",
       "         0.00566892,  0.00553764,  0.00559036,  0.00544601,  0.00566593,\n",
       "         0.00554109,  0.00530935,  0.00526712,  0.00559176,  0.00552672,\n",
       "         0.00566411,  0.0056218 ,  0.0055136 ,  0.00555236,  0.00547875,\n",
       "         0.0055666 ,  0.0053218 ,  0.00559212,  0.00537129,  0.00539974,\n",
       "         0.00550525,  0.00537097,  0.00539991,  0.00545739,  0.0053827 ,\n",
       "         0.0053368 ,  0.00535059,  0.0052046 ,  0.00523535,  0.00546935,\n",
       "         0.00514752,  0.00525479,  0.00513559,  0.00515465,  0.00519852,\n",
       "         0.00511759,  0.00511325,  0.00506992,  0.00501147,  0.00498257,\n",
       "         0.00507491,  0.00495182,  0.00502742,  0.00483789,  0.00494187,\n",
       "         0.00489998,  0.00494235,  0.00478823,  0.0049562 ,  0.00486278,\n",
       "         0.00487015,  0.00481395,  0.00479014,  0.00482855,  0.00471427,\n",
       "         0.00482554,  0.00470118,  0.0048303 ,  0.00474435,  0.00472914,\n",
       "         0.00486999,  0.00463426,  0.00468953,  0.0047777 ,  0.0046925 ,\n",
       "         0.00476132,  0.00486038,  0.00482198,  0.00485649,  0.00488275,\n",
       "         0.00494277,  0.00494706,  0.00500871,  0.0050356 ,  0.00499974,\n",
       "         0.00515183,  0.0050775 ,  0.00519305,  0.00512426,  0.0052592 ,\n",
       "         0.00521751,  0.00521748,  0.0052509 ,  0.00522199,  0.00539906,\n",
       "         0.00528164,  0.00540048,  0.00541563,  0.00535127,  0.00538281,\n",
       "         0.00536999,  0.00540997,  0.00538284,  0.00543381,  0.00542713,\n",
       "         0.00542139,  0.00544588,  0.00544382,  0.00543119,  0.00540869,\n",
       "         0.00563628,  0.00544369,  0.00546274,  0.00556263,  0.0054506 ,\n",
       "         0.00558012,  0.00545738,  0.00564222,  0.00556926,  0.00560692,\n",
       "         0.0055805 ,  0.00547659,  0.00562151,  0.00536687,  0.00575141,\n",
       "         0.00556105,  0.00573426,  0.00565398,  0.0055999 ,  0.00568604,\n",
       "         0.00579943,  0.00575376,  0.00589245,  0.00570988,  0.00582123,\n",
       "         0.00577106,  0.00582281,  0.00580036,  0.00588796,  0.00577361,\n",
       "         0.00592697,  0.00579947,  0.00598203,  0.0057606 ,  0.00597935,\n",
       "         0.00582716,  0.00597307,  0.00591963,  0.00592309,  0.0059375 ,\n",
       "         0.00600623,  0.00594167,  0.00603012,  0.00588681,  0.00600818,\n",
       "         0.00581627,  0.0060035 ,  0.00578225,  0.0061077 ,  0.00583206,\n",
       "         0.00609118,  0.00593384,  0.00614863,  0.00597994,  0.00617211,\n",
       "         0.00592838,  0.00616564,  0.00593087,  0.00618809,  0.00596665,\n",
       "         0.00609411,  0.00581618,  0.00616866,  0.00604418,  0.00646804,\n",
       "         0.00616861,  0.00641286,  0.00562719,  0.00506837,  0.00592057,\n",
       "         0.00617802,  0.00548039,  0.00608254,  0.00539755,  0.00609271,\n",
       "         0.0058836 ,  0.0054728 ,  0.00590519,  0.00619375,  0.00567282,\n",
       "         0.00623949,  0.00580113,  0.00646696,  0.00572564,  0.0062908 ,\n",
       "         0.00557372,  0.00625588,  0.00573666,  0.00625095,  0.00596126,\n",
       "         0.00636394,  0.00586672,  0.00617766,  0.0059234 ,  0.00620171,\n",
       "         0.00579307,  0.00631111,  0.00575767,  0.00644093,  0.00585626,\n",
       "         0.00624922,  0.00575992,  0.00632821,  0.00576903,  0.00636346,\n",
       "         0.00557802,  0.00648243,  0.00559472,  0.00642701,  0.0056489 ,\n",
       "         0.00626452,  0.00567354,  0.00629219,  0.00566518,  0.00632024,\n",
       "         0.00559152,  0.00623061,  0.00558346,  0.00614452,  0.00552531,\n",
       "         0.00613103,  0.00533444,  0.00625549,  0.00555665,  0.00603359,\n",
       "         0.0054653 ,  0.0058318 ,  0.00555399,  0.0060655 ,  0.0054149 ,\n",
       "         0.00611789,  0.00550118,  0.00614194,  0.00538113,  0.00609001,\n",
       "         0.00545015,  0.00604427,  0.00544956,  0.00605088,  0.00543451,\n",
       "         0.00588973,  0.00542014,  0.00583805,  0.00543525,  0.00592132,\n",
       "         0.00546824,  0.00582452,  0.00552489,  0.00583076,  0.0053322 ,\n",
       "         0.00583529,  0.00525218,  0.00581106,  0.00531513,  0.00588874,\n",
       "         0.00534819,  0.00573221,  0.00532723,  0.00568712,  0.00529859,\n",
       "         0.00557124,  0.00525609,  0.00563539,  0.00534771,  0.00558005,\n",
       "         0.00526029,  0.00538003,  0.00533215,  0.00536491,  0.00526683,\n",
       "         0.00561702,  0.00506251,  0.0056426 ,  0.00506592,  0.00548047,\n",
       "         0.00506168,  0.00500612,  0.00528362,  0.00480972,  0.00492573,\n",
       "         0.00532765,  0.00493973,  0.00561915,  0.00421279,  0.00599985,\n",
       "         0.00509884,  0.00447775,  0.0050376 ,  0.00442876,  0.0062404 ,\n",
       "         0.00417656,  0.00516266,  0.00556876,  0.00460923,  0.00467813,\n",
       "         0.00510923,  0.0036943 ,  0.00510404,  0.0056201 ,  0.00563841,\n",
       "         0.00482277,  0.00483549,  0.00523596,  0.00445024,  0.00471046,\n",
       "         0.00534143,  0.0045782 ,  0.00560116,  0.00512014,  0.00536281,\n",
       "         0.00563991,  0.00489205,  0.00532157,  0.00489224,  0.00547985,\n",
       "         0.00523241,  0.00519769,  0.00543445,  0.00518512,  0.00493184,\n",
       "         0.00529208,  0.00509883,  0.00549734,  0.0052632 ,  0.00548694,\n",
       "         0.00532281,  0.00532972,  0.00549809,  0.00529435,  0.00547728,\n",
       "         0.00547803,  0.00532726,  0.00567029,  0.00526723,  0.00514713,\n",
       "         0.00531193,  0.00529865,  0.00544969,  0.00525198,  0.00555163,\n",
       "         0.00544288,  0.005429  ,  0.00555595,  0.00526496,  0.00565777,\n",
       "         0.00542449,  0.00549183,  0.00537919,  0.00535351,  0.00544685,\n",
       "         0.0054238 ,  0.00548077,  0.00540076,  0.00538158,  0.00548906,\n",
       "         0.00550236,  0.0056716 ,  0.00543071,  0.00581809,  0.00531926,\n",
       "         0.00576013,  0.00538774,  0.00571506,  0.00529645,  0.00559433,\n",
       "         0.00540511,  0.00559527,  0.00548375,  0.00557739,  0.00535041,\n",
       "         0.00545249,  0.00564818,  0.00564007,  0.0055826 ,  0.00550499,\n",
       "         0.00559057,  0.00551237,  0.00526574,  0.00566765,  0.00544854,\n",
       "         0.00569292,  0.00550093,  0.00568769,  0.00539239,  0.00563251,\n",
       "         0.00544975,  0.00570677,  0.00557024,  0.00565916,  0.00554124,\n",
       "         0.00552638,  0.00557717,  0.00558814,  0.00564578,  0.00547407,\n",
       "         0.00565536,  0.00546468,  0.00556857,  0.0056987 ,  0.00554095,\n",
       "         0.00581412,  0.005665  ,  0.00543351,  0.00570214,  0.00552099,\n",
       "         0.0057334 ,  0.00559079,  0.00563719,  0.00546669,  0.00570224,\n",
       "         0.00547688,  0.00544531,  0.00568221,  0.00553361,  0.0055827 ,\n",
       "         0.00539971,  0.00574493,  0.00541972,  0.00567264,  0.00559046,\n",
       "         0.00563208,  0.00560235,  0.00561467,  0.00530274,  0.00597643,\n",
       "         0.00549819,  0.00569458,  0.0054641 ,  0.00568664,  0.00529639,\n",
       "         0.00584415,  0.00527614,  0.00561614,  0.00566993,  0.00533434,\n",
       "         0.00589239,  0.00566037,  0.00558303,  0.00602068,  0.00547136,\n",
       "         0.00556515,  0.0056712 ,  0.00567339,  0.00545234,  0.00570953,\n",
       "         0.00568085,  0.00557912,  0.00571492,  0.00555283,  0.00597276,\n",
       "         0.00559733,  0.00527822,  0.00605548,  0.00528088,  0.00598097,\n",
       "         0.00540117,  0.00607303,  0.00541658,  0.00607789,  0.00562787,\n",
       "         0.0058297 ,  0.00558757,  0.00558604,  0.00566486,  0.00539118,\n",
       "         0.00585295,  0.00568437,  0.00571209,  0.00539188,  0.00556695,\n",
       "         0.0059521 ,  0.00562885,  0.00591022,  0.0054469 ,  0.00602785,\n",
       "         0.0052353 ,  0.00589229,  0.00574624,  0.00609658,  0.00545369,\n",
       "         0.00562987,  0.00568123,  0.00652468,  0.00596784,  0.00574475,\n",
       "         0.0062145 ,  0.00534485,  0.00589081,  0.00605705,  0.00571243,\n",
       "         0.00674771,  0.00531018,  0.00576442,  0.00601116,  0.00606016,\n",
       "         0.00501447,  0.00648695,  0.00545907,  0.00641192,  0.0048189 ,\n",
       "         0.00592176,  0.00535982,  0.00531443,  0.00566235,  0.00535118,\n",
       "         0.00417907,  0.00768401,  0.00531051,  0.00499728,  0.00757484,\n",
       "         0.00560661,  0.0059701 ,  0.00485331,  0.00725617,  0.00226709,\n",
       "         0.00274181,  0.01727634, -0.01929782, -0.00141398,  0.01593119,\n",
       "        -0.00216043,  0.00871576,  0.01333139,  0.        ,  0.        ,\n",
       "         0.        ,  0.        ]),\n",
       " 3)"
      ]
     },
     "execution_count": 84,
     "metadata": {},
     "output_type": "execute_result"
    }
   ],
   "source": [
    "tck"
   ]
  },
  {
   "cell_type": "code",
   "execution_count": 89,
   "id": "88ae3d04-ffa8-4c81-8dd9-595b3668aa13",
   "metadata": {
    "collapsed": true,
    "jupyter": {
     "outputs_hidden": true
    },
    "tags": []
   },
   "outputs": [
    {
     "data": {
      "text/plain": [
       "\u001b[1;31mDocstring:\u001b[0m\n",
       "arange([start,] stop[, step,], dtype=None, *, like=None)\n",
       "\n",
       "Return evenly spaced values within a given interval.\n",
       "\n",
       "Values are generated within the half-open interval ``[start, stop)``\n",
       "(in other words, the interval including `start` but excluding `stop`).\n",
       "For integer arguments the function is equivalent to the Python built-in\n",
       "`range` function, but returns an ndarray rather than a list.\n",
       "\n",
       "When using a non-integer step, such as 0.1, the results will often not\n",
       "be consistent.  It is better to use `numpy.linspace` for these cases.\n",
       "\n",
       "Parameters\n",
       "----------\n",
       "start : integer or real, optional\n",
       "    Start of interval.  The interval includes this value.  The default\n",
       "    start value is 0.\n",
       "stop : integer or real\n",
       "    End of interval.  The interval does not include this value, except\n",
       "    in some cases where `step` is not an integer and floating point\n",
       "    round-off affects the length of `out`.\n",
       "step : integer or real, optional\n",
       "    Spacing between values.  For any output `out`, this is the distance\n",
       "    between two adjacent values, ``out[i+1] - out[i]``.  The default\n",
       "    step size is 1.  If `step` is specified as a position argument,\n",
       "    `start` must also be given.\n",
       "dtype : dtype\n",
       "    The type of the output array.  If `dtype` is not given, infer the data\n",
       "    type from the other input arguments.\n",
       "like : array_like\n",
       "    Reference object to allow the creation of arrays which are not\n",
       "    NumPy arrays. If an array-like passed in as ``like`` supports\n",
       "    the ``__array_function__`` protocol, the result will be defined\n",
       "    by it. In this case, it ensures the creation of an array object\n",
       "    compatible with that passed in via this argument.\n",
       "\n",
       "    .. note::\n",
       "        The ``like`` keyword is an experimental feature pending on\n",
       "        acceptance of :ref:`NEP 35 <NEP35>`.\n",
       "\n",
       "    .. versionadded:: 1.20.0\n",
       "\n",
       "Returns\n",
       "-------\n",
       "arange : ndarray\n",
       "    Array of evenly spaced values.\n",
       "\n",
       "    For floating point arguments, the length of the result is\n",
       "    ``ceil((stop - start)/step)``.  Because of floating point overflow,\n",
       "    this rule may result in the last element of `out` being greater\n",
       "    than `stop`.\n",
       "\n",
       "See Also\n",
       "--------\n",
       "numpy.linspace : Evenly spaced numbers with careful handling of endpoints.\n",
       "numpy.ogrid: Arrays of evenly spaced numbers in N-dimensions.\n",
       "numpy.mgrid: Grid-shaped arrays of evenly spaced numbers in N-dimensions.\n",
       "\n",
       "Examples\n",
       "--------\n",
       ">>> np.arange(3)\n",
       "array([0, 1, 2])\n",
       ">>> np.arange(3.0)\n",
       "array([ 0.,  1.,  2.])\n",
       ">>> np.arange(3,7)\n",
       "array([3, 4, 5, 6])\n",
       ">>> np.arange(3,7,2)\n",
       "array([3, 5])\n",
       "\u001b[1;31mType:\u001b[0m      builtin_function_or_method\n"
      ]
     },
     "metadata": {},
     "output_type": "display_data"
    }
   ],
   "source": [
    "np.arange?"
   ]
  },
  {
   "cell_type": "code",
   "execution_count": 97,
   "id": "44402c5b-e94a-4430-b041-40acb4d710a1",
   "metadata": {},
   "outputs": [],
   "source": [
    "xnew = np.arange(x[0], x[-1], (x[-1]-x[0])/41) # this version always divide into 41 increments, but may not be 0.05 micron increments\n",
    "ynew = interpolate.splev(xnew, tck, der=0)"
   ]
  },
  {
   "cell_type": "code",
   "execution_count": 104,
   "id": "79ec553b-9c08-43bc-9e0d-b0d1e9efee6c",
   "metadata": {},
   "outputs": [
    {
     "data": {
      "image/png": "[encoded data removed]",
      "text/plain": [
       "<Figure size 432x288 with 1 Axes>"
      ]
     },
     "metadata": {
      "needs_background": "light"
     },
     "output_type": "display_data"
    }
   ],
   "source": [
    "plt.figure()\n",
    "plt.plot(x, y, xnew, ynew)\n",
    "plt.legend(['True','spline'])\n",
    "plt.title('Cubic-spline interpolation')\n",
    "plt.show()"
   ]
  },
  {
   "cell_type": "code",
   "execution_count": 102,
   "id": "01907bd2-83a9-4a8c-b843-4b8eadfa06da",
   "metadata": {},
   "outputs": [
    {
     "data": {
      "text/plain": [
       "(array([0.65785402, 0.70508528, 0.75231653, 0.79954779, 0.84677904,\n",
       "        0.8940103 , 0.94124155, 0.98847281, 1.03570406, 1.08293532,\n",
       "        1.13016658, 1.17739783, 1.22462909, 1.27186034, 1.3190916 ,\n",
       "        1.36632285, 1.41355411, 1.46078536, 1.50801662, 1.55524788,\n",
       "        1.60247913, 1.64971039, 1.69694164, 1.7441729 , 1.79140415,\n",
       "        1.83863541, 1.88586666, 1.93309792, 1.98032917, 2.02756043,\n",
       "        2.07479169, 2.12202294, 2.1692542 , 2.21648545, 2.26371671,\n",
       "        2.31094796, 2.35817922, 2.40541047, 2.45264173, 2.49987299,\n",
       "        2.54710424]),\n",
       " array([0.00525145, 0.00538114, 0.00550934, 0.0054164 , 0.00507717,\n",
       "        0.00480621, 0.00476074, 0.00515601, 0.00537721, 0.00545983,\n",
       "        0.00547265, 0.00579749, 0.00588357, 0.00592397, 0.00602038,\n",
       "        0.00533357, 0.00587046, 0.00616806, 0.00606191, 0.00587892,\n",
       "        0.00570396, 0.00575155, 0.00556683, 0.00537172, 0.00527666,\n",
       "        0.00472215, 0.00523711, 0.00505889, 0.00541432, 0.00544098,\n",
       "        0.0055072 , 0.00539911, 0.00556304, 0.00564521, 0.00548228,\n",
       "        0.00544193, 0.00565586, 0.00551435, 0.00559646, 0.0055947 ,\n",
       "        0.00661589]))"
      ]
     },
     "execution_count": 102,
     "metadata": {},
     "output_type": "execute_result"
    }
   ],
   "source": [
    "xnew, ynew"
   ]
  },
  {
   "cell_type": "code",
   "execution_count": 103,
   "id": "bfa62010-99e2-4011-9f56-875f8b1f9b33",
   "metadata": {},
   "outputs": [
    {
     "data": {
      "image/png": "[encoded data removed]",
      "text/plain": [
       "<Figure size 432x288 with 1 Axes>"
      ]
     },
     "metadata": {
      "needs_background": "light"
     },
     "output_type": "display_data"
    }
   ],
   "source": [
    "plt.figure()\n",
    "plt.plot(xnew, ynew)\n",
    "plt.legend(['True'])\n",
    "plt.title('Cubic-spline interpolation')\n",
    "plt.ylim([-0.010,0.010])\n",
    "plt.show()"
   ]
  },
  {
   "cell_type": "code",
   "execution_count": 74,
   "id": "4537e017-9ec9-4c00-8a82-e937b1850d5d",
   "metadata": {},
   "outputs": [
    {
     "data": {
      "text/latex": [
       "$1.004 \\; \\mathrm{\\frac{erg}{\\mu m\\,s\\,cm^{2}}}$"
      ],
      "text/plain": [
       "<Quantity 1.004 erg / (cm2 micron s)>"
      ]
     },
     "execution_count": 74,
     "metadata": {},
     "output_type": "execute_result"
    }
   ],
   "source": [
    "TEMPLATE_SPECS.get('demeo')[1].fluxMax()"
   ]
  },
  {
   "cell_type": "code",
   "execution_count": 61,
   "id": "f376aaf5-559f-48f6-82f2-b28862b4b55e",
   "metadata": {
    "collapsed": true,
    "jupyter": {
     "outputs_hidden": true
    },
    "tags": []
   },
   "outputs": [
    {
     "data": {
      "text/plain": [
       "\u001b[1;31mSignature:\u001b[0m \u001b[0mplt\u001b[0m\u001b[1;33m.\u001b[0m\u001b[0mplot\u001b[0m\u001b[1;33m(\u001b[0m\u001b[1;33m*\u001b[0m\u001b[0margs\u001b[0m\u001b[1;33m,\u001b[0m \u001b[0mscalex\u001b[0m\u001b[1;33m=\u001b[0m\u001b[1;32mTrue\u001b[0m\u001b[1;33m,\u001b[0m \u001b[0mscaley\u001b[0m\u001b[1;33m=\u001b[0m\u001b[1;32mTrue\u001b[0m\u001b[1;33m,\u001b[0m \u001b[0mdata\u001b[0m\u001b[1;33m=\u001b[0m\u001b[1;32mNone\u001b[0m\u001b[1;33m,\u001b[0m \u001b[1;33m**\u001b[0m\u001b[0mkwargs\u001b[0m\u001b[1;33m)\u001b[0m\u001b[1;33m\u001b[0m\u001b[1;33m\u001b[0m\u001b[0m\n",
       "\u001b[1;31mDocstring:\u001b[0m\n",
       "Plot y versus x as lines and/or markers.\n",
       "\n",
       "Call signatures::\n",
       "\n",
       "    plot([x], y, [fmt], *, data=None, **kwargs)\n",
       "    plot([x], y, [fmt], [x2], y2, [fmt2], ..., **kwargs)\n",
       "\n",
       "The coordinates of the points or line nodes are given by *x*, *y*.\n",
       "\n",
       "The optional parameter *fmt* is a convenient way for defining basic\n",
       "formatting like color, marker and linestyle. It's a shortcut string\n",
       "notation described in the *Notes* section below.\n",
       "\n",
       ">>> plot(x, y)        # plot x and y using default line style and color\n",
       ">>> plot(x, y, 'bo')  # plot x and y using blue circle markers\n",
       ">>> plot(y)           # plot y using x as index array 0..N-1\n",
       ">>> plot(y, 'r+')     # ditto, but with red plusses\n",
       "\n",
       "You can use `.Line2D` properties as keyword arguments for more\n",
       "control on the appearance. Line properties and *fmt* can be mixed.\n",
       "The following two calls yield identical results:\n",
       "\n",
       ">>> plot(x, y, 'go--', linewidth=2, markersize=12)\n",
       ">>> plot(x, y, color='green', marker='o', linestyle='dashed',\n",
       "...      linewidth=2, markersize=12)\n",
       "\n",
       "When conflicting with *fmt*, keyword arguments take precedence.\n",
       "\n",
       "\n",
       "**Plotting labelled data**\n",
       "\n",
       "There's a convenient way for plotting objects with labelled data (i.e.\n",
       "data that can be accessed by index ``obj['y']``). Instead of giving\n",
       "the data in *x* and *y*, you can provide the object in the *data*\n",
       "parameter and just give the labels for *x* and *y*::\n",
       "\n",
       ">>> plot('xlabel', 'ylabel', data=obj)\n",
       "\n",
       "All indexable objects are supported. This could e.g. be a `dict`, a\n",
       "`pandas.DataFrame` or a structured numpy array.\n",
       "\n",
       "\n",
       "**Plotting multiple sets of data**\n",
       "\n",
       "There are various ways to plot multiple sets of data.\n",
       "\n",
       "- The most straight forward way is just to call `plot` multiple times.\n",
       "  Example:\n",
       "\n",
       "  >>> plot(x1, y1, 'bo')\n",
       "  >>> plot(x2, y2, 'go')\n",
       "\n",
       "- Alternatively, if your data is already a 2d array, you can pass it\n",
       "  directly to *x*, *y*. A separate data set will be drawn for every\n",
       "  column.\n",
       "\n",
       "  Example: an array ``a`` where the first column represents the *x*\n",
       "  values and the other columns are the *y* columns::\n",
       "\n",
       "  >>> plot(a[0], a[1:])\n",
       "\n",
       "- The third way is to specify multiple sets of *[x]*, *y*, *[fmt]*\n",
       "  groups::\n",
       "\n",
       "  >>> plot(x1, y1, 'g^', x2, y2, 'g-')\n",
       "\n",
       "  In this case, any additional keyword argument applies to all\n",
       "  datasets. Also this syntax cannot be combined with the *data*\n",
       "  parameter.\n",
       "\n",
       "By default, each line is assigned a different style specified by a\n",
       "'style cycle'. The *fmt* and line property parameters are only\n",
       "necessary if you want explicit deviations from these defaults.\n",
       "Alternatively, you can also change the style cycle using\n",
       ":rc:`axes.prop_cycle`.\n",
       "\n",
       "\n",
       "Parameters\n",
       "----------\n",
       "x, y : array-like or scalar\n",
       "    The horizontal / vertical coordinates of the data points.\n",
       "    *x* values are optional and default to ``range(len(y))``.\n",
       "\n",
       "    Commonly, these parameters are 1D arrays.\n",
       "\n",
       "    They can also be scalars, or two-dimensional (in that case, the\n",
       "    columns represent separate data sets).\n",
       "\n",
       "    These arguments cannot be passed as keywords.\n",
       "\n",
       "fmt : str, optional\n",
       "    A format string, e.g. 'ro' for red circles. See the *Notes*\n",
       "    section for a full description of the format strings.\n",
       "\n",
       "    Format strings are just an abbreviation for quickly setting\n",
       "    basic line properties. All of these and more can also be\n",
       "    controlled by keyword arguments.\n",
       "\n",
       "    This argument cannot be passed as keyword.\n",
       "\n",
       "data : indexable object, optional\n",
       "    An object with labelled data. If given, provide the label names to\n",
       "    plot in *x* and *y*.\n",
       "\n",
       "    .. note::\n",
       "        Technically there's a slight ambiguity in calls where the\n",
       "        second label is a valid *fmt*. ``plot('n', 'o', data=obj)``\n",
       "        could be ``plt(x, y)`` or ``plt(y, fmt)``. In such cases,\n",
       "        the former interpretation is chosen, but a warning is issued.\n",
       "        You may suppress the warning by adding an empty format string\n",
       "        ``plot('n', 'o', '', data=obj)``.\n",
       "\n",
       "Returns\n",
       "-------\n",
       "list of `.Line2D`\n",
       "    A list of lines representing the plotted data.\n",
       "\n",
       "Other Parameters\n",
       "----------------\n",
       "scalex, scaley : bool, default: True\n",
       "    These parameters determine if the view limits are adapted to the\n",
       "    data limits. The values are passed on to `autoscale_view`.\n",
       "\n",
       "**kwargs : `.Line2D` properties, optional\n",
       "    *kwargs* are used to specify properties like a line label (for\n",
       "    auto legends), linewidth, antialiasing, marker face color.\n",
       "    Example::\n",
       "\n",
       "    >>> plot([1, 2, 3], [1, 2, 3], 'go-', label='line 1', linewidth=2)\n",
       "    >>> plot([1, 2, 3], [1, 4, 9], 'rs', label='line 2')\n",
       "\n",
       "    If you make multiple lines with one plot call, the kwargs\n",
       "    apply to all those lines.\n",
       "\n",
       "    Here is a list of available `.Line2D` properties:\n",
       "\n",
       "    Properties:\n",
       "    agg_filter: a filter function, which takes a (m, n, 3) float array and a dpi value, and returns a (m, n, 3) array\n",
       "    alpha: float or None\n",
       "    animated: bool\n",
       "    antialiased or aa: bool\n",
       "    clip_box: `.Bbox`\n",
       "    clip_on: bool\n",
       "    clip_path: Patch or (Path, Transform) or None\n",
       "    color or c: color\n",
       "    contains: unknown\n",
       "    dash_capstyle: {'butt', 'round', 'projecting'}\n",
       "    dash_joinstyle: {'miter', 'round', 'bevel'}\n",
       "    dashes: sequence of floats (on/off ink in points) or (None, None)\n",
       "    data: (2, N) array or two 1D arrays\n",
       "    drawstyle or ds: {'default', 'steps', 'steps-pre', 'steps-mid', 'steps-post'}, default: 'default'\n",
       "    figure: `.Figure`\n",
       "    fillstyle: {'full', 'left', 'right', 'bottom', 'top', 'none'}\n",
       "    gid: str\n",
       "    in_layout: bool\n",
       "    label: object\n",
       "    linestyle or ls: {'-', '--', '-.', ':', '', (offset, on-off-seq), ...}\n",
       "    linewidth or lw: float\n",
       "    marker: marker style string, `~.path.Path` or `~.markers.MarkerStyle`\n",
       "    markeredgecolor or mec: color\n",
       "    markeredgewidth or mew: float\n",
       "    markerfacecolor or mfc: color\n",
       "    markerfacecoloralt or mfcalt: color\n",
       "    markersize or ms: float\n",
       "    markevery: None or int or (int, int) or slice or List[int] or float or (float, float) or List[bool]\n",
       "    path_effects: `.AbstractPathEffect`\n",
       "    picker: unknown\n",
       "    pickradius: float\n",
       "    rasterized: bool or None\n",
       "    sketch_params: (scale: float, length: float, randomness: float)\n",
       "    snap: bool or None\n",
       "    solid_capstyle: {'butt', 'round', 'projecting'}\n",
       "    solid_joinstyle: {'miter', 'round', 'bevel'}\n",
       "    transform: `matplotlib.transforms.Transform`\n",
       "    url: str\n",
       "    visible: bool\n",
       "    xdata: 1D array\n",
       "    ydata: 1D array\n",
       "    zorder: float\n",
       "\n",
       "See Also\n",
       "--------\n",
       "scatter : XY scatter plot with markers of varying size and/or color (\n",
       "    sometimes also called bubble chart).\n",
       "\n",
       "Notes\n",
       "-----\n",
       "**Format Strings**\n",
       "\n",
       "A format string consists of a part for color, marker and line::\n",
       "\n",
       "    fmt = '[marker][line][color]'\n",
       "\n",
       "Each of them is optional. If not provided, the value from the style\n",
       "cycle is used. Exception: If ``line`` is given, but no ``marker``,\n",
       "the data will be a line without markers.\n",
       "\n",
       "Other combinations such as ``[color][marker][line]`` are also\n",
       "supported, but note that their parsing may be ambiguous.\n",
       "\n",
       "**Markers**\n",
       "\n",
       "=============    ===============================\n",
       "character        description\n",
       "=============    ===============================\n",
       "``'.'``          point marker\n",
       "``','``          pixel marker\n",
       "``'o'``          circle marker\n",
       "``'v'``          triangle_down marker\n",
       "``'^'``          triangle_up marker\n",
       "``'<'``          triangle_left marker\n",
       "``'>'``          triangle_right marker\n",
       "``'1'``          tri_down marker\n",
       "``'2'``          tri_up marker\n",
       "``'3'``          tri_left marker\n",
       "``'4'``          tri_right marker\n",
       "``'s'``          square marker\n",
       "``'p'``          pentagon marker\n",
       "``'*'``          star marker\n",
       "``'h'``          hexagon1 marker\n",
       "``'H'``          hexagon2 marker\n",
       "``'+'``          plus marker\n",
       "``'x'``          x marker\n",
       "``'D'``          diamond marker\n",
       "``'d'``          thin_diamond marker\n",
       "``'|'``          vline marker\n",
       "``'_'``          hline marker\n",
       "=============    ===============================\n",
       "\n",
       "**Line Styles**\n",
       "\n",
       "=============    ===============================\n",
       "character        description\n",
       "=============    ===============================\n",
       "``'-'``          solid line style\n",
       "``'--'``         dashed line style\n",
       "``'-.'``         dash-dot line style\n",
       "``':'``          dotted line style\n",
       "=============    ===============================\n",
       "\n",
       "Example format strings::\n",
       "\n",
       "    'b'    # blue markers with default shape\n",
       "    'or'   # red circles\n",
       "    '-g'   # green solid line\n",
       "    '--'   # dashed line with default color\n",
       "    '^k:'  # black triangle_up markers connected by a dotted line\n",
       "\n",
       "**Colors**\n",
       "\n",
       "The supported color abbreviations are the single letter codes\n",
       "\n",
       "=============    ===============================\n",
       "character        color\n",
       "=============    ===============================\n",
       "``'b'``          blue\n",
       "``'g'``          green\n",
       "``'r'``          red\n",
       "``'c'``          cyan\n",
       "``'m'``          magenta\n",
       "``'y'``          yellow\n",
       "``'k'``          black\n",
       "``'w'``          white\n",
       "=============    ===============================\n",
       "\n",
       "and the ``'CN'`` colors that index into the default property cycle.\n",
       "\n",
       "If the color is the only part of the format string, you can\n",
       "additionally use any  `matplotlib.colors` spec, e.g. full names\n",
       "(``'green'``) or hex strings (``'#008000'``).\n",
       "\u001b[1;31mFile:\u001b[0m      d:\\pythoncodes\\anaconda3\\lib\\site-packages\\matplotlib\\pyplot.py\n",
       "\u001b[1;31mType:\u001b[0m      function\n"
      ]
     },
     "metadata": {},
     "output_type": "display_data"
    }
   ],
   "source": [
    "plt.plot?"
   ]
  },
  {
   "cell_type": "code",
   "execution_count": 58,
   "id": "f0393cef-f9c3-41b4-8b0e-23c9546e898a",
   "metadata": {},
   "outputs": [
    {
     "data": {
      "text/plain": [
       "\u001b[1;31mDocstring:\u001b[0m\n",
       "arange([start,] stop[, step,], dtype=None, *, like=None)\n",
       "\n",
       "Return evenly spaced values within a given interval.\n",
       "\n",
       "Values are generated within the half-open interval ``[start, stop)``\n",
       "(in other words, the interval including `start` but excluding `stop`).\n",
       "For integer arguments the function is equivalent to the Python built-in\n",
       "`range` function, but returns an ndarray rather than a list.\n",
       "\n",
       "When using a non-integer step, such as 0.1, the results will often not\n",
       "be consistent.  It is better to use `numpy.linspace` for these cases.\n",
       "\n",
       "Parameters\n",
       "----------\n",
       "start : integer or real, optional\n",
       "    Start of interval.  The interval includes this value.  The default\n",
       "    start value is 0.\n",
       "stop : integer or real\n",
       "    End of interval.  The interval does not include this value, except\n",
       "    in some cases where `step` is not an integer and floating point\n",
       "    round-off affects the length of `out`.\n",
       "step : integer or real, optional\n",
       "    Spacing between values.  For any output `out`, this is the distance\n",
       "    between two adjacent values, ``out[i+1] - out[i]``.  The default\n",
       "    step size is 1.  If `step` is specified as a position argument,\n",
       "    `start` must also be given.\n",
       "dtype : dtype\n",
       "    The type of the output array.  If `dtype` is not given, infer the data\n",
       "    type from the other input arguments.\n",
       "like : array_like\n",
       "    Reference object to allow the creation of arrays which are not\n",
       "    NumPy arrays. If an array-like passed in as ``like`` supports\n",
       "    the ``__array_function__`` protocol, the result will be defined\n",
       "    by it. In this case, it ensures the creation of an array object\n",
       "    compatible with that passed in via this argument.\n",
       "\n",
       "    .. note::\n",
       "        The ``like`` keyword is an experimental feature pending on\n",
       "        acceptance of :ref:`NEP 35 <NEP35>`.\n",
       "\n",
       "    .. versionadded:: 1.20.0\n",
       "\n",
       "Returns\n",
       "-------\n",
       "arange : ndarray\n",
       "    Array of evenly spaced values.\n",
       "\n",
       "    For floating point arguments, the length of the result is\n",
       "    ``ceil((stop - start)/step)``.  Because of floating point overflow,\n",
       "    this rule may result in the last element of `out` being greater\n",
       "    than `stop`.\n",
       "\n",
       "See Also\n",
       "--------\n",
       "numpy.linspace : Evenly spaced numbers with careful handling of endpoints.\n",
       "numpy.ogrid: Arrays of evenly spaced numbers in N-dimensions.\n",
       "numpy.mgrid: Grid-shaped arrays of evenly spaced numbers in N-dimensions.\n",
       "\n",
       "Examples\n",
       "--------\n",
       ">>> np.arange(3)\n",
       "array([0, 1, 2])\n",
       ">>> np.arange(3.0)\n",
       "array([ 0.,  1.,  2.])\n",
       ">>> np.arange(3,7)\n",
       "array([3, 4, 5, 6])\n",
       ">>> np.arange(3,7,2)\n",
       "array([3, 5])\n",
       "\u001b[1;31mType:\u001b[0m      builtin_function_or_method\n"
      ]
     },
     "metadata": {},
     "output_type": "display_data"
    }
   ],
   "source": [
    "np.arange?"
   ]
  },
  {
   "cell_type": "code",
   "execution_count": null,
   "id": "a73aa504-fa15-4185-8b87-f8f046ebcf9c",
   "metadata": {},
   "outputs": [],
   "source": []
  },
  {
   "cell_type": "code",
   "execution_count": null,
   "id": "2be15d76-7a5e-479b-901b-71e3bf2de6cf",
   "metadata": {},
   "outputs": [],
   "source": []
  },
  {
   "cell_type": "markdown",
   "id": "02fd0ea8-3b36-45ed-9efc-3e16ab753fd1",
   "metadata": {},
   "source": [
    "### IR only, as an \"an intermediate tool to indicate classes\""
   ]
  },
  {
   "cell_type": "markdown",
   "id": "fb61421e-7d3d-4b1e-b49d-7c72825058a6",
   "metadata": {
    "tags": []
   },
   "source": [
    "For **C** and **X** in IR, we expect to see these two types occupy the same space in PCA as distinguishing features are in the visible range.    \n",
    "Author notes \"**L-type** objects may be mixed in with our definition of **Sv- and R-types** because they do not fully separate in all cases.\"    \n",
    "**Cg, Cgh, Xc, Xe**, and **Xk** objects requires visible wavelength   \n",
    "That leaves us with **D, K, L, O, Q, R, S, Sa, Sq, Sr, Sv, T, V**\n",
    "\n",
    "End members: D, K, L, T, A, O, Q, R V\n",
    "In Demeo 2009, the team began with End Members first."
   ]
  },
  {
   "cell_type": "markdown",
   "id": "a367768b-fe5a-4883-ba3e-055445017fc9",
   "metadata": {
    "tags": []
   },
   "source": [
    "#### S Complex - example 1036Ganymed (S), simpleClassify => L\n",
    "Appear to coincide with Demeo's observation   \n",
    "J: dip near 1 micron could be key to ID S complexes vs some End Members  \n",
    "Careful as S complex appear similar in IR  \n",
    "Slope could become distinguishing factor (e.g. Sa and S share similar absorption features, but Sa has greater slope in 1-1.5 $\\mu m$).  \n",
    "*Consider removing noisy region > 2.50 $\\mu m$, may help?* --> still categorized as L"
   ]
  },
  {
   "cell_type": "code",
   "execution_count": 141,
   "id": "a462ea65-4cdf-464d-b060-dbc17a35c7d8",
   "metadata": {},
   "outputs": [
    {
     "data": {
      "image/png": "[encoded data removed]",
      "text/plain": [
       "<Figure size 432x288 with 1 Axes>"
      ]
     },
     "metadata": {
      "needs_background": "light"
     },
     "output_type": "display_data"
    },
    {
     "data": {
      "text/plain": [
       "[<Figure size 432x288 with 1 Axes>]"
      ]
     },
     "execution_count": 141,
     "metadata": {},
     "output_type": "execute_result"
    },
    {
     "data": {
      "text/plain": [
       "<Figure size 432x288 with 0 Axes>"
      ]
     },
     "metadata": {},
     "output_type": "display_data"
    }
   ],
   "source": [
    "spS = splat.Spectrum('D:\\\\PythonCodes\\\\JupyterWorkspace\\\\splat_projects/spex-prism_Asteroid5604_20010502.fits')\n",
    "spS.wave\n",
    "spS.plot()"
   ]
  },
  {
   "cell_type": "code",
   "execution_count": 142,
   "id": "8cbf2fee-0dff-4ed3-923d-bd79a723b113",
   "metadata": {},
   "outputs": [
    {
     "data": {
      "text/latex": [
       "$[0.65040147,~0.6525299,~0.65465194,~\\dots,~2.569088,~2.5728507,~2.5766525] \\; \\mathrm{\\mu m}$"
      ],
      "text/plain": [
       "<Quantity [0.6504015 , 0.6525299 , 0.65465194, 0.65676844, 0.6588803 ,\n",
       "           0.66098815, 0.6630929 , 0.6651953 , 0.66729605, 0.6693959 ,\n",
       "           0.6714956 , 0.6735958 , 0.6756972 , 0.6778005 , 0.6799063 ,\n",
       "           0.68201524, 0.68412805, 0.68624514, 0.6883673 , 0.690495  ,\n",
       "           0.6926288 , 0.6947693 , 0.69691706, 0.6990725 , 0.7012361 ,\n",
       "           0.7034086 , 0.7055902 , 0.7077815 , 0.70998293, 0.712195  ,\n",
       "           0.714418  , 0.71665245, 0.7188987 , 0.7211572 , 0.7234283 ,\n",
       "           0.7257123 , 0.72800964, 0.7303207 , 0.7326457 , 0.734985  ,\n",
       "           0.7373389 , 0.7397077 , 0.7420918 , 0.7444913 , 0.7469065 ,\n",
       "           0.7493378 , 0.7517853 , 0.7542493 , 0.7567299 , 0.7592275 ,\n",
       "           0.76174223, 0.76427424, 0.76682377, 0.76939094, 0.771976  ,\n",
       "           0.774579  , 0.77720016, 0.77983963, 0.7824975 , 0.78517395,\n",
       "           0.787869  , 0.79058284, 0.79331553, 0.7960671 , 0.7988378 ,\n",
       "           0.8016276 , 0.8044365 , 0.8072646 , 0.81011206, 0.81297886,\n",
       "           0.8158649 , 0.81877047, 0.8216954 , 0.8246397 , 0.82760346,\n",
       "           0.83058673, 0.8335894 , 0.83661145, 0.83965296, 0.84271383,\n",
       "           0.8457941 , 0.8488937 , 0.8520126 , 0.8551507 , 0.858308  ,\n",
       "           0.86148447, 0.86468   , 0.86789453, 0.871128  , 0.8743804 ,\n",
       "           0.8776515 , 0.8809414 , 0.88424987, 0.8875768 , 0.89092225,\n",
       "           0.8942859 , 0.8976678 , 0.90106785, 0.9044859 , 0.90792173,\n",
       "           0.91137534, 0.91484654, 0.9183352 , 0.92184126, 0.9253645 ,\n",
       "           0.92890483, 0.9324621 , 0.9360361 , 0.9396268 , 0.9432339 ,\n",
       "           0.9468574 , 0.95049703, 0.95415264, 0.9578242 , 0.9615113 ,\n",
       "           0.96521395, 0.968932  , 0.97266513, 0.97641325, 0.9801762 ,\n",
       "           0.9839538 , 0.9877458 , 0.9915521 , 0.99537253, 0.99920684,\n",
       "           1.0030549 , 1.0069163 , 1.0107912 , 1.0146792 , 1.0185801 ,\n",
       "           1.0224937 , 1.02642   , 1.0303586 , 1.0343093 , 1.038272  ,\n",
       "           1.0422465 , 1.0462325 , 1.0502299 , 1.0542384 , 1.0582579 ,\n",
       "           1.0622882 , 1.066329  , 1.0703801 , 1.0744413 , 1.0785125 ,\n",
       "           1.0825934 , 1.0866839 , 1.0907837 , 1.0948926 , 1.0990103 ,\n",
       "           1.1031369 , 1.1072718 , 1.1114151 , 1.1155665 , 1.1197257 ,\n",
       "           1.1238927 , 1.128067  , 1.1322488 , 1.1364374 , 1.1406331 ,\n",
       "           1.1448354 , 1.149044  , 1.153259  , 1.1574801 , 1.161707  ,\n",
       "           1.1659396 , 1.1701776 , 1.174421  , 1.1786693 , 1.1829225 ,\n",
       "           1.1871804 , 1.1914428 , 1.1957096 , 1.1999804 , 1.2042551 ,\n",
       "           1.2085335 , 1.2128155 , 1.217101  , 1.2213894 , 1.225681  ,\n",
       "           1.2299752 , 1.2342721 , 1.2385715 , 1.2428731 , 1.2471768 ,\n",
       "           1.2514825 , 1.2557898 , 1.2600987 , 1.264409  , 1.2687205 ,\n",
       "           1.273033  , 1.2773465 , 1.2816607 , 1.2859755 , 1.2902906 ,\n",
       "           1.294606  , 1.2989213 , 1.3032367 , 1.307552  , 1.3118666 ,\n",
       "           1.316181  , 1.3204944 , 1.3248072 , 1.329119  , 1.3334296 ,\n",
       "           1.3377389 , 1.3420469 , 1.3463533 , 1.350658  , 1.3549609 ,\n",
       "           1.359262  , 1.3635608 , 1.3678576 , 1.372152  , 1.3764439 ,\n",
       "           1.3807333 , 1.3850199 , 1.3893037 , 1.3935846 , 1.3978626 ,\n",
       "           1.4021372 , 1.4064087 , 1.4106767 , 1.4149413 , 1.4192022 ,\n",
       "           1.4234595 , 1.427713  , 1.4319626 , 1.4362081 , 1.4404497 ,\n",
       "           1.444687  , 1.44892   , 1.4531487 , 1.457373  , 1.4615927 ,\n",
       "           1.4658078 , 1.4700181 , 1.4742239 , 1.4784245 , 1.4826204 ,\n",
       "           1.4868112 , 1.490997  , 1.4951775 , 1.4993529 , 1.5035231 ,\n",
       "           1.5076878 , 1.5118471 , 1.5160011 , 1.5201494 , 1.5242922 ,\n",
       "           1.5284293 , 1.5325607 , 1.5366864 , 1.5408064 , 1.5449204 ,\n",
       "           1.5490286 , 1.5531309 , 1.5572271 , 1.5613174 , 1.5654017 ,\n",
       "           1.5694798 , 1.5735518 , 1.5776176 , 1.5816773 , 1.5857307 ,\n",
       "           1.5897778 , 1.5938188 , 1.5978533 , 1.6018816 , 1.6059035 ,\n",
       "           1.609919  , 1.6139281 , 1.6179309 , 1.6219271 , 1.625917  ,\n",
       "           1.6299003 , 1.6338772 , 1.6378477 , 1.6418115 , 1.6457689 ,\n",
       "           1.6497198 , 1.6536641 , 1.657602  , 1.6615334 , 1.6654581 ,\n",
       "           1.6693764 , 1.6732881 , 1.6771932 , 1.6810919 , 1.684984  ,\n",
       "           1.6888696 , 1.6927487 , 1.6966212 , 1.7004873 , 1.7043468 ,\n",
       "           1.7081999 , 1.7120464 , 1.7158865 , 1.7197201 , 1.7235473 ,\n",
       "           1.7273681 , 1.7311825 , 1.7349905 , 1.7387921 , 1.7425872 ,\n",
       "           1.746376  , 1.7501585 , 1.7539347 , 1.7577046 , 1.7614682 ,\n",
       "           1.7652255 , 1.7689767 , 1.7727215 , 1.7764603 , 1.7801927 ,\n",
       "           1.7839191 , 1.7876394 , 1.7913535 , 1.7950615 , 1.7987635 ,\n",
       "           1.8024595 , 1.8061494 , 1.8098333 , 1.8135114 , 1.8171834 ,\n",
       "           1.8208495 , 1.8245097 , 1.8281642 , 1.8318127 , 1.8354555 ,\n",
       "           1.8390925 , 1.8427238 , 1.8463494 , 1.8499691 , 1.8535832 ,\n",
       "           1.8571917 , 1.8607947 , 1.8643919 , 1.8679836 , 1.8715698 ,\n",
       "           1.8751503 , 1.8787255 , 1.8822951 , 1.8858594 , 1.8894182 ,\n",
       "           1.8929716 , 1.8965197 , 1.9000623 , 1.9035997 , 1.9071318 ,\n",
       "           1.9106586 , 1.9141802 , 1.9176965 , 1.9212075 , 1.9247135 ,\n",
       "           1.9282143 , 1.9317099 , 1.9352003 , 1.9386857 , 1.942166  ,\n",
       "           1.9456412 , 1.9491113 , 1.9525765 , 1.9560367 , 1.9594917 ,\n",
       "           1.9629419 , 1.966387  , 1.9698273 , 1.9732625 , 1.9766929 ,\n",
       "           1.9801184 , 1.9835389 , 1.9869546 , 1.9903654 , 1.9937713 ,\n",
       "           1.9971724 , 2.0005686 , 2.00396   , 2.0073464 , 2.0107281 ,\n",
       "           2.014105  , 2.0174773 , 2.0208445 , 2.024207  , 2.0275648 ,\n",
       "           2.0309176 , 2.034266  , 2.0376093 , 2.040948  , 2.0442817 ,\n",
       "           2.0476108 , 2.050935  , 2.0542543 , 2.057569  , 2.060879  ,\n",
       "           2.0641842 , 2.0674844 , 2.07078   , 2.0740707 , 2.0773566 ,\n",
       "           2.080638  , 2.083914  , 2.0871856 , 2.0904524 , 2.0937142 ,\n",
       "           2.0969713 , 2.1002235 , 2.1034708 , 2.1067133 , 2.1099508 ,\n",
       "           2.1131835 , 2.1164114 , 2.1196344 , 2.1228523 , 2.1260655 ,\n",
       "           2.1292737 , 2.132477  , 2.1356754 , 2.1388688 , 2.1420572 ,\n",
       "           2.1452405 , 2.1484191 , 2.1515925 , 2.154761  , 2.1579244 ,\n",
       "           2.1610827 , 2.1642363 , 2.1673846 , 2.170528  , 2.1736662 ,\n",
       "           2.1767993 , 2.1799273 , 2.1830504 , 2.1861684 , 2.1892812 ,\n",
       "           2.192389  , 2.1954918 , 2.1985893 , 2.2016819 , 2.2047691 ,\n",
       "           2.2078514 , 2.2109287 , 2.2140007 , 2.2170677 , 2.2201297 ,\n",
       "           2.2231865 , 2.2262383 , 2.229285  , 2.2323267 , 2.2353632 ,\n",
       "           2.238395  , 2.2414215 , 2.2444432 , 2.24746   , 2.2504716 ,\n",
       "           2.2534783 , 2.2564802 , 2.2594771 , 2.2624693 , 2.265457  ,\n",
       "           2.2684395 , 2.2714174 , 2.2743907 , 2.2773592 , 2.2803233 ,\n",
       "           2.2832828 , 2.2862377 , 2.2891884 , 2.2921348 , 2.2950766 ,\n",
       "           2.2980144 , 2.300948  , 2.3038776 , 2.306803  , 2.3097248 ,\n",
       "           2.3126426 , 2.3155568 , 2.3184671 , 2.3213742 , 2.3242779 ,\n",
       "           2.327178  , 2.3300753 , 2.3329692 , 2.3358603 , 2.3387487 ,\n",
       "           2.3416343 , 2.3445177 , 2.3473985 , 2.3502772 , 2.3531537 ,\n",
       "           2.3560286 , 2.3589015 , 2.3617733 , 2.3646436 , 2.3675127 ,\n",
       "           2.3703809 , 2.3732486 , 2.3761158 , 2.3789825 , 2.3818495 ,\n",
       "           2.3847167 , 2.3875844 , 2.3904529 , 2.3933222 , 2.396193  ,\n",
       "           2.3990653 , 2.4019394 , 2.404816  , 2.4076948 , 2.4105766 ,\n",
       "           2.4134614 , 2.41635   , 2.4192424 , 2.422139  , 2.4250402 ,\n",
       "           2.4279463 , 2.4308581 , 2.4337754 , 2.4366992 , 2.4396296 ,\n",
       "           2.442567  , 2.4455123 , 2.4484656 , 2.4514272 , 2.4543982 ,\n",
       "           2.4573786 , 2.460369  , 2.46337   , 2.4663825 , 2.4694066 ,\n",
       "           2.472443  , 2.4754925 , 2.4785552 , 2.4816325 , 2.4847243 ,\n",
       "           2.4878318 , 2.4909554 , 2.4940958 , 2.497254  , 2.5004303 ,\n",
       "           2.5036256 , 2.506841  , 2.5100768 , 2.513334  , 2.5166135 ,\n",
       "           2.5199158 , 2.5232422 , 2.5265934 , 2.5299704 , 2.5333738 ,\n",
       "           2.536805  , 2.5402644 , 2.5437534 , 2.5472727 , 2.5508237 ,\n",
       "           2.5544071 , 2.5580242 , 2.561676  , 2.5653636 , 2.569088  ,\n",
       "           2.5728507 , 2.5766525 ] micron>"
      ]
     },
     "execution_count": 142,
     "metadata": {},
     "output_type": "execute_result"
    }
   ],
   "source": [
    "spS.wave"
   ]
  },
  {
   "cell_type": "code",
   "execution_count": 245,
   "id": "3589ef9d-399e-40f3-8680-68294f4d975a",
   "metadata": {
    "collapsed": true,
    "jupyter": {
     "outputs_hidden": true
    },
    "tags": []
   },
   "outputs": [
    {
     "data": {
      "text/plain": [
       "\u001b[1;31mSignature:\u001b[0m \u001b[0msplat\u001b[0m\u001b[1;33m.\u001b[0m\u001b[0mSpectrum\u001b[0m\u001b[1;33m.\u001b[0m\u001b[0mtrim\u001b[0m\u001b[1;33m(\u001b[0m\u001b[0mself\u001b[0m\u001b[1;33m,\u001b[0m \u001b[0mrng\u001b[0m\u001b[1;33m,\u001b[0m \u001b[1;33m**\u001b[0m\u001b[0mkwargs\u001b[0m\u001b[1;33m)\u001b[0m\u001b[1;33m\u001b[0m\u001b[1;33m\u001b[0m\u001b[0m\n",
       "\u001b[1;31mDocstring:\u001b[0m\n",
       ":Purpose: \n",
       "    Trims a spectrum to be within a certain wavelength range or set of ranges. \n",
       "    Data outside of these ranges are excised from the wave, flux and noise arrays. \n",
       "    The full spectrum can be restored with the reset() procedure.\n",
       "\n",
       ":Required Inputs: \n",
       "\n",
       "    :param range: the range(s) over which the spectrum is retained - a series of nested 2-element arrays\n",
       "\n",
       ":Optional Inputs: \n",
       "\n",
       "    None\n",
       "\n",
       ":Example:\n",
       "   >>> import splat\n",
       "   >>> sp = splat.getSpectrum(lucky=True)[0]\n",
       "   >>> sp.smoothfluxMax()\n",
       "   <Quantity 1.0577336634332284e-14 erg / (cm2 micron s)>\n",
       "   >>> sp.computeSN()\n",
       "   124.5198\n",
       "   >>> sp.scale(1.e15)\n",
       "   >>> sp.fluxMax()\n",
       "   <Quantity 1.0577336549758911 erg / (cm2 micron s)>\n",
       "   >>> sp.computeSN()\n",
       "   124.51981\n",
       "\u001b[1;31mFile:\u001b[0m      d:\\pythoncodes\\splat\\splat\\core.py\n",
       "\u001b[1;31mType:\u001b[0m      function\n"
      ]
     },
     "metadata": {},
     "output_type": "display_data"
    }
   ],
   "source": [
    "splat.Spectrum.trim?"
   ]
  },
  {
   "cell_type": "code",
   "execution_count": 222,
   "id": "86cab834-157d-4a0c-9784-55cfa8e2c622",
   "metadata": {},
   "outputs": [
    {
     "data": {
      "image/png": "[encoded data removed]",
      "text/plain": [
       "<Figure size 432x288 with 1 Axes>"
      ]
     },
     "metadata": {
      "needs_background": "light"
     },
     "output_type": "display_data"
    },
    {
     "data": {
      "text/plain": [
       "[<Figure size 432x288 with 1 Axes>]"
      ]
     },
     "execution_count": 222,
     "metadata": {},
     "output_type": "execute_result"
    },
    {
     "data": {
      "text/plain": [
       "<Figure size 432x288 with 0 Axes>"
      ]
     },
     "metadata": {},
     "output_type": "display_data"
    }
   ],
   "source": [
    "spS_copy = spS\n",
    "spS_copy.normalize()\n",
    "spS_copy.plot()"
   ]
  },
  {
   "cell_type": "code",
   "execution_count": 225,
   "id": "a20a6d71-8193-4355-9796-4b6e7830d2a9",
   "metadata": {},
   "outputs": [],
   "source": [
    "troubleShoot = fits.open('D:\\\\PythonCodes\\\\JupyterWorkspace\\\\spex-prism_1036Ganymed_20010322.fits')"
   ]
  },
  {
   "cell_type": "code",
   "execution_count": 232,
   "id": "449dc5fc-9643-4d50-88c6-845da4b5b3e2",
   "metadata": {},
   "outputs": [],
   "source": [
    "tblshoot = fits.getdata('D:\\\\PythonCodes\\\\JupyterWorkspace\\\\spex-prism_1036Ganymed_20010322.fits')"
   ]
  },
  {
   "cell_type": "code",
   "execution_count": 244,
   "id": "c0f8e31c-8a95-4d6b-a615-1e5a841461d3",
   "metadata": {},
   "outputs": [
    {
     "data": {
      "text/plain": [
       "<matplotlib.image.AxesImage at 0x2360c401670>"
      ]
     },
     "execution_count": 244,
     "metadata": {},
     "output_type": "execute_result"
    },
    {
     "data": {
      "image/png": "[encoded data removed]",
      "text/plain": [
       "<Figure size 432x288 with 1 Axes>"
      ]
     },
     "metadata": {
      "needs_background": "light"
     },
     "output_type": "display_data"
    }
   ],
   "source": [
    "plt.imshow(tblshoot, aspect='auto')"
   ]
  },
  {
   "cell_type": "code",
   "execution_count": 249,
   "id": "aeeb47dd-7231-46b9-92ba-f8bbe1b63512",
   "metadata": {},
   "outputs": [],
   "source": [
    "spS_copy.trim([0.6,2.5])"
   ]
  },
  {
   "cell_type": "code",
   "execution_count": 250,
   "id": "c8a1c011-99b2-4e36-9ff6-ca331d450468",
   "metadata": {},
   "outputs": [
    {
     "data": {
      "image/png": "[encoded data removed]",
      "text/plain": [
       "<Figure size 432x288 with 1 Axes>"
      ]
     },
     "metadata": {
      "needs_background": "light"
     },
     "output_type": "display_data"
    },
    {
     "data": {
      "text/plain": [
       "[<Figure size 432x288 with 1 Axes>]"
      ]
     },
     "execution_count": 250,
     "metadata": {},
     "output_type": "execute_result"
    },
    {
     "data": {
      "text/plain": [
       "<Figure size 432x288 with 0 Axes>"
      ]
     },
     "metadata": {},
     "output_type": "display_data"
    }
   ],
   "source": [
    "spS_copy.plot()"
   ]
  },
  {
   "cell_type": "code",
   "execution_count": 289,
   "id": "ab9af5d7-2c94-4dc5-8441-7599d6e2987c",
   "metadata": {
    "tags": []
   },
   "outputs": [
    {
     "data": {
      "text/plain": [
       "array(['Demeo_et_al_2009_L'], dtype='<U20')"
      ]
     },
     "execution_count": 289,
     "metadata": {},
     "output_type": "execute_result"
    }
   ],
   "source": [
    "simpleClassify(spS_copy, 'demeo')[1]"
   ]
  },
  {
   "cell_type": "code",
   "execution_count": 312,
   "id": "35bb060f-123a-4e72-8176-3d1238339b2c",
   "metadata": {},
   "outputs": [],
   "source": [
    "f1wave, f1flux, f1sig, f1avg = np.transpose(np.genfromtxt('D:\\\\PythonCodes\\\\JupyterWorkspace\\\\MITHNEOS_data/sp291/a022099.sp291.txt'))"
   ]
  },
  {
   "cell_type": "code",
   "execution_count": 304,
   "id": "4eb44707-7d34-4dd7-8349-a6541468caa5",
   "metadata": {},
   "outputs": [],
   "source": [
    "# sp3 = splat.Spectrum('D:\\\\PythonCodes\\\\JupyterWorkspace\\\\MITHNEOS_data/sp291/a022099.sp291.txt')"
   ]
  },
  {
   "cell_type": "code",
   "execution_count": null,
   "id": "f16a242c-0c10-4ac1-95d2-d32e37be63c8",
   "metadata": {},
   "outputs": [],
   "source": []
  },
  {
   "cell_type": "markdown",
   "id": "2ecf117c-0a0b-4915-8788-0d9365ea3402",
   "metadata": {},
   "source": [
    "Attempting PCA below \n",
    "1) map different data on properties/variables as points\n",
    "    - First principal axis (PA) $\\rightarrow$ max(variance)\n",
    "    - 2nd PA $\\rightarrow$ $PA_2 \\perp PA_1$\n",
    "   \n",
    "in paper, helpful to see decision tree in apx B."
   ]
  },
  {
   "cell_type": "code",
   "execution_count": null,
   "id": "446e057d-948f-4b3d-805a-dbf1ae49861f",
   "metadata": {},
   "outputs": [],
   "source": []
  },
  {
   "cell_type": "code",
   "execution_count": null,
   "id": "f6ce3dd7-cdc3-4c0e-a0d7-fa454f0b0e2e",
   "metadata": {},
   "outputs": [],
   "source": []
  },
  {
   "cell_type": "code",
   "execution_count": null,
   "id": "ba6d084b-ed03-4752-9fad-4ea63f80d14c",
   "metadata": {},
   "outputs": [],
   "source": []
  },
  {
   "cell_type": "markdown",
   "id": "b54b2a9f-01a9-4b52-a223-523e8ec72a69",
   "metadata": {},
   "source": [
    "##### Old Functions\n",
    "---"
   ]
  },
  {
   "cell_type": "code",
   "execution_count": null,
   "id": "e1ad3583-9b23-43dd-8a6b-146d1c9e183e",
   "metadata": {
    "tags": []
   },
   "outputs": [],
   "source": [
    "#############\n",
    "# functions #\n",
    "#############\n",
    "\n",
    "def saveTemplate(directory: str, saveName: str, classNames): #need revision, update: 'one step' is working\n",
    "#     if not delim: #defaults separation to one space\n",
    "#         delim = ' '\n",
    "    \n",
    "    saveFolderName = saveName + '_Folder'\n",
    "    \n",
    "    #check if save location already existed (e.g. from previous calls)\n",
    "    if os.path.isdir(saveFolderName) == False: os.makedirs(saveFolderName)\n",
    "    if os.path.isdir(saveFolderName+'\\\\csv') == False: \n",
    "        os.makedirs(saveFolderName+'\\\\csv')\n",
    "        os.makedirs(saveFolderName+'\\\\fits')\n",
    "    \n",
    "    temp = pd.read_csv(directory, sep=' ', header=None, index_col=0) #uses col 0 for index\n",
    "    temp.index.name = 'Wave' #dataframe with colomns Wave, and 2 other unnamed colomns\n",
    "    n = 0\n",
    "    tempDict ={}\n",
    "    for j in classNames:\n",
    "        tempDict[j] = temp.iloc[:,[n, n+1]].rename(columns={n+1: 'Flux', n+2: 'Noise'})#.index.names = ['wave']\n",
    "        tempDict.get(j).to_csv(path_or_buf = saveFolderName+'\\\\csv\\\\' + saveName + '_' + j + '.csv' ,sep=',')\n",
    "        print(type(tempDict.get(j)))\n",
    "        splat.Spectrum(saveFolderName+'\\\\csv\\\\'+saveName+'_'+j+'.csv').save(saveFolderName+'\\\\fits\\\\'+saveName+'_'+j+'.fits')  \n",
    "        n += 2\n",
    "\n",
    "\n",
    "def slopeless(inSpec: splat.Spectrum, slope = 0):\n",
    "    x = inSpec.wave.value\n",
    "    y = inSpec.flux.value\n",
    "    dy = inSpec.noise.value\n",
    "    \n",
    "    m,b = np.polyfit(x,y, 1) # returns m, b in y = mx + b, then use this with each value of fpx.wave as x to calculate line\n",
    "    \n",
    "    fitArray = np.empty_like(y, dtype=float)\n",
    "    n = 0\n",
    "    for val in x:\n",
    "        fitArray[n] = m*val+b\n",
    "        n+=1\n",
    "\n",
    "    tDict = {}\n",
    "    tDict['wave'] = x\n",
    "    tDict['flux'] = np.divide(y, fitArray)\n",
    "    tDict['noise'] = np.divide(dy, fitArray)\n",
    "    outSpec = splat.Spectrum(tDict)\n",
    "    outSpec.name =  inSpec.name + '_Slopeless'\n",
    "    \n",
    "    return outSpec\n",
    "\n",
    "    \n",
    "def classifyAsteroid(sp1, scheme, *output, slope=True, folder=False, **kwargs):\n",
    "    \"\"\"\n",
    "    :Purpose: \n",
    "    \n",
    "        Categorize input spectra to a specific available classification scheme.\n",
    "    \n",
    "    :Required Inputs:\n",
    "    \n",
    "        :Param sp1: a single splat.Spectrum\n",
    "        :Param scheme: a dictionary of template spectra from that scheme\n",
    "        \n",
    "    :Optional Inputs:\n",
    "        \n",
    "        :Param showAll: boolean, True: shows the fit scores for all the templates.\n",
    "        :Param plot: boolean, True (default): shows plot of sp1 vs the best template fit determined.\n",
    "        :Param save: boolean, True: saves comparison plot as <sp1 name>_<scheme name>_<class name>.pdf #yet to be implemented\n",
    "        :Param slope: boolean, True(default): slope=False to remove slope during comparison.\n",
    "        \n",
    "    :Output:\n",
    "        \n",
    "        Name of the spectral class and the corresponding fit score.\n",
    "        \n",
    "    \"\"\"\n",
    "    if(kwargs.get('plot') == None):\n",
    "        kwargs['plot'] = True\n",
    "    \n",
    "    fitScores = {}\n",
    "    ranges = [0.85, 2.45]\n",
    "\n",
    "    if(slope == False):\n",
    "        slopelessScheme = {}\n",
    "        for key, template in scheme.items():\n",
    "            slopelessScheme[key] = slopeless(template)\n",
    "        sp1 = slopeless(sp1)\n",
    "        scheme = slopelessScheme\n",
    "        \n",
    "    for key, template in scheme.items():\n",
    "            fitScores[key] = splat.compareSpectra(sp1, template, fit_ranges=ranges, mask_telluric=True, novar2=True)[0]\n",
    "    \n",
    "    bestFitName = min(fitScores, key=fitScores.get)\n",
    "    \n",
    "#     if(kwargs.get('plot') and slope==False):\n",
    "#         splat.compareSpectra(sp1, scheme.get(bestFitName), fit_ranges=ranges, mask_telluric=True, plot=True, novar2=True)\n",
    "#     # elif(kwargs.get('save')):\n",
    "    \n",
    "    if(kwargs.get('plot')):\n",
    "        splat.compareSpectra(sp1, scheme.get(bestFitName), fit_ranges=ranges, mask_telluric=True, novar2=True, plot=True)\n",
    "\n",
    "    if(kwargs.get('showAll')):\n",
    "        return bestFitName, fitScores.get(bestFitName), fitScores\n",
    "    else:\n",
    "        return bestFitName, fitScores.get(bestFitName)\n"
   ]
  }
 ],
 "metadata": {
  "kernelspec": {
   "display_name": "Python 3",
   "language": "python",
   "name": "python3"
  },
  "language_info": {
   "codemirror_mode": {
    "name": "ipython",
    "version": 3
   },
   "file_extension": ".py",
   "mimetype": "text/x-python",
   "name": "python",
   "nbconvert_exporter": "python",
   "pygments_lexer": "ipython3",
   "version": "3.8.8"
  }
 },
 "nbformat": 4,
 "nbformat_minor": 5
}
