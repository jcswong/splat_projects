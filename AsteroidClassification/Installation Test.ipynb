{
 "cells": [
  {
   "cell_type": "code",
   "execution_count": 1,
   "id": "765fdaf8",
   "metadata": {},
   "outputs": [
    {
     "data": {
      "text/plain": [
       "'D:\\\\PythonCodes\\\\JupyterWorkspace'"
      ]
     },
     "execution_count": 1,
     "metadata": {},
     "output_type": "execute_result"
    }
   ],
   "source": [
    "pwd"
   ]
  },
  {
   "cell_type": "code",
   "execution_count": 2,
   "id": "2f314597",
   "metadata": {},
   "outputs": [
    {
     "name": "stdout",
     "output_type": "stream",
     "text": [
      "\n",
      "\n",
      "Welcome to the Spex Prism Library Analysis Toolkit (SPLAT)!\n",
      "If you make use of any features of this toolkit for your research, please remember to cite the SPLAT paper:\n",
      "\n",
      "Burgasser et al. (2017, Astro. Soc. India Conf. Series 14, p. 7); Bibcode: 2017ASInC..14....7B\n",
      "\n",
      "If you make use of any spectra or models in this toolkit, please remember to cite the original source.\n",
      "Please report any errors are feature requests to our github page, https://github.com/aburgasser/splat/\n",
      "\n",
      "\n"
     ]
    }
   ],
   "source": [
    "import splat"
   ]
  },
  {
   "cell_type": "code",
   "execution_count": 3,
   "id": "9fb4f1b0",
   "metadata": {},
   "outputs": [
    {
     "data": {
      "text/plain": [
       "'2022.07.05'"
      ]
     },
     "execution_count": 3,
     "metadata": {},
     "output_type": "execute_result"
    }
   ],
   "source": [
    "splat.VERSION"
   ]
  },
  {
   "cell_type": "code",
   "execution_count": null,
   "id": "decd546e",
   "metadata": {},
   "outputs": [],
   "source": []
  }
 ],
 "metadata": {
  "kernelspec": {
   "display_name": "Python 3",
   "language": "python",
   "name": "python3"
  },
  "language_info": {
   "codemirror_mode": {
    "name": "ipython",
    "version": 3
   },
   "file_extension": ".py",
   "mimetype": "text/x-python",
   "name": "python",
   "nbconvert_exporter": "python",
   "pygments_lexer": "ipython3",
   "version": "3.8.8"
  }
 },
 "nbformat": 4,
 "nbformat_minor": 5
}
